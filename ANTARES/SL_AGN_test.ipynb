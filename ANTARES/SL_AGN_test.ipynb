{
 "cells": [
  {
   "cell_type": "markdown",
   "id": "fecd6e54-77a0-4db5-993c-25bc3c1ca260",
   "metadata": {},
   "source": [
    "# Lensed AGN in ANTARES/ZTF\n",
    "\n",
    "- Search data at known lensed AGN / candidates. \n",
    "- Build watchlist."
   ]
  },
  {
   "cell_type": "markdown",
   "id": "0254ab82-e035-4135-af96-12c9427e9227",
   "metadata": {},
   "source": [
    "## SLED data: initial test\n",
    "\n",
    "It looks SLED does not include ZTF data? \n",
    "\n",
    "Pick a confirmed lens system. \n",
    "\n",
    "https://sled.amnh.org/lenses/detail/3581"
   ]
  },
  {
   "cell_type": "code",
   "execution_count": null,
   "id": "e14a8cb4-c070-4fe9-98dd-b76a17ecd023",
   "metadata": {},
   "outputs": [],
   "source": [
    "from antares_client.search import cone_search\n",
    "from antares_client.search import catalog_search\n",
    "\n",
    "from astropy.coordinates import Angle, SkyCoord\n",
    "\n",
    "import antares.devkit as dk\n",
    "dk.init()\n",
    "\n",
    "from antares_client.search import get_thumbnails\n"
   ]
  },
  {
   "cell_type": "code",
   "execution_count": null,
   "id": "55a4a8ca-5018-44aa-9b6a-8e0ba0fd4932",
   "metadata": {},
   "outputs": [],
   "source": [
    "RA, DEC = 2.834350, -8.764070 \n",
    "center = SkyCoord(ra=RA, dec=DEC, unit='deg')\n",
    "radius = Angle(\"20s\") # when the distance is large, it's probably not the object!\n",
    "\n",
    "for locus in cone_search(center, radius):\n",
    "    print(locus)\n",
    "    #locus = dk.get_locus(locus)\n",
    "    pass\n",
    "\n",
    "# If there's no output, it means there's no locus?"
   ]
  },
  {
   "cell_type": "code",
   "execution_count": null,
   "id": "86bb72fe-255e-4887-a8e2-e09ce6318e15",
   "metadata": {},
   "outputs": [],
   "source": [
    "#type(locus)"
   ]
  },
  {
   "cell_type": "code",
   "execution_count": null,
   "id": "9504103b-21ee-4303-8dab-c0a30713e9ee",
   "metadata": {},
   "outputs": [],
   "source": [
    "dir(locus)"
   ]
  },
  {
   "cell_type": "code",
   "execution_count": null,
   "id": "f64ac667-f3c6-4047-b042-a9a3531ddf93",
   "metadata": {},
   "outputs": [],
   "source": [
    "#locus.alerts\n",
    "#locus.catalog_objects\n",
    "#locus.catalogs\n",
    "#locus.coordinates\n",
    "#locus.lightcurve\n",
    "#locus.locus_id #https://antares.noirlab.edu/loci/ANT2019qclas\n",
    "#locus.properties\n",
    "#locus.tags\n",
    "#locus.timeseries\n",
    "#locus.watch_list_ids\n",
    "#locus.watch_object_ids"
   ]
  },
  {
   "cell_type": "code",
   "execution_count": null,
   "id": "4a37cc41-fc83-4150-8c5b-dd84509ba616",
   "metadata": {},
   "outputs": [],
   "source": [
    "# Retrieve all catalog crossmatches for a position\n",
    "catalog_data = catalog_search(ra=RA, dec=DEC)\n",
    "\n",
    "#print(catalog_data)\n",
    "print(type(catalog_data))\n",
    "\n",
    "for i in catalog_data:\n",
    "    print(i)\n",
    "\n"
   ]
  },
  {
   "cell_type": "code",
   "execution_count": null,
   "id": "4095f262-0bde-44c4-baaf-a041b8fc45f2",
   "metadata": {},
   "outputs": [],
   "source": [
    "print(catalog_data['milliquas'])"
   ]
  },
  {
   "cell_type": "code",
   "execution_count": null,
   "id": "fd810cc6-0b86-4387-82a2-fae9960d33ca",
   "metadata": {},
   "outputs": [],
   "source": [
    "print(catalog_data['gaia_dr3_variability'])"
   ]
  },
  {
   "cell_type": "code",
   "execution_count": null,
   "id": "18f7cfb5-7798-41f5-a994-d9d4205fa34a",
   "metadata": {},
   "outputs": [],
   "source": [
    "print(catalog_data['gaia_dr3_gaia_source'])"
   ]
  },
  {
   "cell_type": "code",
   "execution_count": null,
   "id": "3302bb96-92d6-4d0e-82d2-c4ec59018913",
   "metadata": {},
   "outputs": [],
   "source": [
    "print(catalog_data['sdss_stars'])"
   ]
  },
  {
   "cell_type": "code",
   "execution_count": null,
   "id": "a151399c-0918-4f38-9b58-0fae6e54d8b3",
   "metadata": {},
   "outputs": [],
   "source": [
    "print(type(catalog_data['sdss_stars']))\n",
    "print(type(catalog_data['sdss_stars'][0]))"
   ]
  },
  {
   "cell_type": "code",
   "execution_count": null,
   "id": "5b6f93a0-2913-4110-b37b-73c17e072925",
   "metadata": {},
   "outputs": [],
   "source": []
  },
  {
   "cell_type": "markdown",
   "id": "3ca52f51-4f73-478b-9297-1aea5f306104",
   "metadata": {},
   "source": [
    "## SLED data: list of objects"
   ]
  },
  {
   "cell_type": "code",
   "execution_count": null,
   "id": "bf90c359-af2c-4f8b-8192-56db2a15044b",
   "metadata": {},
   "outputs": [],
   "source": [
    "def locus_cone_search(ra, dec, radius_sec=3):\n",
    "    center = SkyCoord(ra=ra, dec=dec, unit='deg')\n",
    "    radius = Angle(f'{radius_sec}s') \n",
    "    result = cone_search(center, radius)\n",
    "    #print(type(result))\n",
    "    #print(result)\n",
    "    #print(result[0])\n",
    "\n",
    "    result_list = []\n",
    "    for locus in result:\n",
    "        print(locus)\n",
    "        result_list.append(locus)\n",
    "        #print(locus is None)\n",
    "        #locus = dk.get_locus(locus)\n",
    "        #pass\n",
    "\n",
    "    return result_list"
   ]
  },
  {
   "cell_type": "markdown",
   "id": "7704ac61-6e69-427d-9aac-455917751916",
   "metadata": {},
   "source": [
    "https://sled.amnh.org/lenses/detail/6"
   ]
  },
  {
   "cell_type": "code",
   "execution_count": null,
   "id": "37c78b19-c661-4621-972a-7fc2f6d74bf1",
   "metadata": {},
   "outputs": [],
   "source": [
    "ra, dec = 26.319400, -9.754750\n",
    "#ra, dec = 2.834350, -8.764070\n",
    "result_list = locus_cone_search(ra, dec, 30)\n",
    "print(result_list)"
   ]
  },
  {
   "cell_type": "markdown",
   "id": "abadb2ad-dfe2-462d-b83f-75d1d1b03861",
   "metadata": {},
   "source": [
    "Finally, this has some data... Note the separation is only 0.55\" (maybe that's why it's picked)\n",
    "\n",
    "https://sled.amnh.org/lenses/detail/321"
   ]
  },
  {
   "cell_type": "code",
   "execution_count": null,
   "id": "38877eba-beb2-4b27-bcf3-69c17be94698",
   "metadata": {},
   "outputs": [],
   "source": [
    "ra, dec = 41.642040, -8.426690\n",
    "result_list = locus_cone_search(ra, dec, 2)\n",
    "print(result_list)"
   ]
  },
  {
   "cell_type": "code",
   "execution_count": null,
   "id": "0ff13411-16f9-4a7d-8b3b-b77aa2b86c66",
   "metadata": {},
   "outputs": [],
   "source": [
    "locus = result_list[0]\n",
    "#locus.alerts\n",
    "#locus.catalog_objects\n",
    "#locus.catalogs\n",
    "#locus.coordinates\n",
    "#locus.lightcurve\n",
    "#locus.locus_id #https://antares.noirlab.edu/loci/ANT2019qclas\n",
    "#locus.properties # Like clustering features --> RF\n",
    "#locus.tags\n",
    "#locus.timeseries\n",
    "#locus.watch_list_ids\n",
    "#locus.watch_object_ids"
   ]
  },
  {
   "cell_type": "code",
   "execution_count": null,
   "id": "3acedf46-5ea3-4dd4-aca0-ef5ec8e81408",
   "metadata": {},
   "outputs": [],
   "source": [
    "f'https://antares.noirlab.edu/loci/{locus.locus_id}'"
   ]
  },
  {
   "cell_type": "code",
   "execution_count": null,
   "id": "cce896f5-8c32-4851-a25b-4e9ebd2bfbc1",
   "metadata": {},
   "outputs": [],
   "source": [
    "#dir(result_list)"
   ]
  },
  {
   "cell_type": "code",
   "execution_count": null,
   "id": "f9044cd8-aeca-4356-aa92-7c92a6de2fbb",
   "metadata": {},
   "outputs": [],
   "source": [
    "dir(locus.alerts)\n",
    "type(locus.alerts)\n",
    "len(locus.alerts)"
   ]
  },
  {
   "cell_type": "code",
   "execution_count": null,
   "id": "bca2e6e0-1aa1-4b35-a009-0e952fda272c",
   "metadata": {},
   "outputs": [],
   "source": [
    "#dir(locus.alerts[0])\n",
    "locus.alerts[0].alert_id\n",
    "#locus.alerts[0].mjd\n",
    "#locus.alerts[0].processed_at\n",
    "#locus.alerts[0].properties  # Like DIA source features --> RF\n",
    "\n",
    "# ZTF browse data: https://irsa.ipac.caltech.edu/Missions/ztf.html\n",
    "# https://irsa.ipac.caltech.edu/ibe/data/ztf/products/sci/2018/1031/352222/"
   ]
  },
  {
   "cell_type": "code",
   "execution_count": null,
   "id": "a8ad61b4-18a0-4d97-aa25-c0223f3a7b99",
   "metadata": {},
   "outputs": [],
   "source": [
    "#thumbnails = get_thumbnails(\"ztf_candidate:2552120390115015005\")\n",
    "thumbnails = get_thumbnails(locus.alerts[0].alert_id)"
   ]
  },
  {
   "cell_type": "code",
   "execution_count": null,
   "id": "2b9c0e08-9b17-4a9c-bf0e-41535a43ad01",
   "metadata": {},
   "outputs": [],
   "source": [
    "#thumbnails"
   ]
  },
  {
   "cell_type": "code",
   "execution_count": null,
   "id": "9ae5e284-22d8-440c-882a-d7ff98e52130",
   "metadata": {},
   "outputs": [],
   "source": []
  }
 ],
 "metadata": {
  "kernelspec": {
   "display_name": "Python 3 (ANTARES,Py3.9.18)",
   "language": "python",
   "name": "antares_py3.7"
  },
  "language_info": {
   "codemirror_mode": {
    "name": "ipython",
    "version": 3
   },
   "file_extension": ".py",
   "mimetype": "text/x-python",
   "name": "python",
   "nbconvert_exporter": "python",
   "pygments_lexer": "ipython3",
   "version": "3.9.18"
  }
 },
 "nbformat": 4,
 "nbformat_minor": 5
}
