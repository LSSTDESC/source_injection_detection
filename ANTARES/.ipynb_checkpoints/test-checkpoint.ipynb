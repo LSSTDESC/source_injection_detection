{
 "cells": [
  {
   "cell_type": "markdown",
   "id": "f68eaba3-a4f8-48bf-aec1-c5744b7e58ec",
   "metadata": {},
   "source": [
    "# Introduction\n",
    "This is a test notebook based on online tutorials of ANTARES."
   ]
  },
  {
   "cell_type": "markdown",
   "id": "f6a248f0-5527-4efa-89bf-85bbb65a0d66",
   "metadata": {},
   "source": [
    "### Useful links\n",
    "https://nsf-noirlab.gitlab.io/csdc/antares/antares/\n",
    "\n",
    "\n",
    "https://nsf-noirlab.gitlab.io/csdc/antares/client/troubleshooting.html\n",
    "\n",
    "https://antares.noirlab.edu/tags\n",
    "\n",
    "https://nsf-noirlab.gitlab.io/csdc/antares/antares/catalogs.html#catalogs-with-broad-distribution-of-object-radii\n",
    "\n",
    "\n",
    "\n",
    "https://antares.noirlab.edu/properties\n",
    "\n",
    "https://antares.noirlab.edu/faq\n",
    "\n",
    "https://nsf-noirlab.gitlab.io/csdc/antares/client/\n",
    "\n",
    "https://nsf-noirlab.gitlab.io/csdc/antares/antares/devkit/getting_started.html\n",
    "\n",
    "https://nsf-noirlab.gitlab.io/csdc/antares/antares/basic_concepts.html#writing-filters\n",
    "\n",
    "https://alerce.online\n",
    "\n",
    "https://irsa.ipac.caltech.edu/Missions/ztf.html\n",
    "\n",
    "https://irsa.ipac.caltech.edu/data/ZTF/docs/releases/dr07/ztf_release_notes_dr07.pdf"
   ]
  },
  {
   "cell_type": "markdown",
   "id": "a4578d02-0679-48a2-816b-7be872b49330",
   "metadata": {},
   "source": [
    "# Tests, Functions, Tools"
   ]
  },
  {
   "cell_type": "markdown",
   "id": "f75ef1b5-c118-4c66-91d5-f5b9431240aa",
   "metadata": {},
   "source": [
    "## The DevKit\n",
    "\n",
    "Important! This is about the filters!\n",
    "\n",
    "### Getting Started with Filter Development\n",
    "\n",
    "https://nsf-noirlab.gitlab.io/csdc/antares/antares/devkit"
   ]
  },
  {
   "cell_type": "code",
   "execution_count": null,
   "id": "32ee5ddc-df82-4267-babd-0d2d63bc0afe",
   "metadata": {},
   "outputs": [],
   "source": [
    "import antares.devkit as dk\n",
    "dk.init()"
   ]
  },
  {
   "cell_type": "code",
   "execution_count": null,
   "id": "e2f49d0e-007e-4c3c-add8-e31a85f11777",
   "metadata": {},
   "outputs": [],
   "source": [
    "class HelloWorld(dk.Filter):\n",
    "    OUTPUT_TAGS = [\n",
    "        {\n",
    "            'name': 'hello_world',\n",
    "            'description': 'hello!',\n",
    "        },\n",
    "    ]\n",
    "\n",
    "    def run(self, locus):\n",
    "        print('Hello Locus ', locus.locus_id)\n",
    "        locus.tag('hello_world')"
   ]
  },
  {
   "cell_type": "code",
   "execution_count": null,
   "id": "5db43b46-76cd-4210-bfb5-df4c07bb5072",
   "metadata": {},
   "outputs": [],
   "source": [
    "# Fetch 1 random Locus ID from the test dataset\n",
    "locus_id = dk.get_locus_ids(1)[0]\n",
    "\n",
    "# Execute HelloWorld filter on the locus\n",
    "report = dk.run_filter(HelloWorld, locus=locus_id)\n",
    "\n",
    "# `run_filter()` returns a report of what the filter did. Take a look at it:\n",
    "print(report)"
   ]
  },
  {
   "cell_type": "markdown",
   "id": "7fc2a0c9-3acc-433b-8b6b-b87329d68724",
   "metadata": {},
   "source": [
    "### Example of a Real Filter\n",
    "\n",
    "Take a look at this example filter that the ANTARES team has written to find objects with alerts with a high signal-noise ratio. \n",
    "\n",
    "See more in https://antares.noirlab.edu/pipeline"
   ]
  },
  {
   "cell_type": "code",
   "execution_count": null,
   "id": "7bb16802-5619-4bc7-baad-bd55a8f89bc8",
   "metadata": {},
   "outputs": [],
   "source": [
    "class HighSNR(dk.Filter):\n",
    "    \"\"\"\n",
    "    This filter detects alerts with a high SNR (over 50% in the g-band and over 55% in\n",
    "    the R-band).\n",
    "    \"\"\"\n",
    "    NAME = \"High SNR\"\n",
    "    ERROR_SLACK_CHANNEL = \"\"  # Put your Slack user ID here\n",
    "    REQUIRED_LOCUS_PROPERTIES = [\"ztf_object_id\"]\n",
    "    REQUIRED_ALERT_PROPERTIES = [\"ant_passband\", \"ztf_sigmapsf\"]\n",
    "    OUTPUT_LOCUS_PROPERTIES = []\n",
    "    OUTPUT_TAGS = [\n",
    "        {\n",
    "            \"name\": \"high_snr\",\n",
    "            \"description\": \"Locus has one or more Alerts with high SNR.\",\n",
    "        },\n",
    "    ]\n",
    "\n",
    "    def run(self, locus):\n",
    "        \"\"\"\n",
    "        If the most recent alert on this locus has a high SNR, \n",
    "        add the \"high_snr\" tag.\n",
    "        \"\"\"\n",
    "        # The threshold is dependent on the band that is being imaged.\n",
    "        # These thresholds should flag ~2-3% of alerts.\n",
    "        snr_threshold = {\n",
    "            \"g\": 50.0,\n",
    "            \"R\": 55.0,\n",
    "        }\n",
    "\n",
    "        # Determine the passband of the most recent alert at this locus.\n",
    "        alert_passband = locus.alert.properties[\"ant_passband\"]\n",
    "        if alert_passband not in snr_threshold:\n",
    "            print(f\"alert_passband {alert_passband} is not supported by this filter.\")\n",
    "            return  # Do nothing.\n",
    "\n",
    "        # Calculate the SNR of the latest alert\n",
    "        alert_snr = 1.0 / locus.alert.properties[\"ztf_sigmapsf\"]\n",
    "        alert_id = locus.alert.alert_id  # Get the ANTARES alert_id\n",
    "        ztf_object_id = locus.properties[\"ztf_object_id\"]  # Get the ZTF Object ID\n",
    "\n",
    "        # Tag this locus if the latest alert meets our SNR criteria\n",
    "        if alert_snr > snr_threshold[alert_passband]:\n",
    "            print(\"High SNR detected\")\n",
    "            locus.tag(\"high_snr\")"
   ]
  },
  {
   "cell_type": "markdown",
   "id": "8b59560b-3bcd-4225-a259-29bdd1b5732b",
   "metadata": {},
   "source": [
    "### Structure of a Filter"
   ]
  },
  {
   "cell_type": "code",
   "execution_count": null,
   "id": "273028cb-c667-4830-ba61-5cb83a84c6bb",
   "metadata": {},
   "outputs": [],
   "source": [
    "import antares.devkit as dk\n",
    "\n",
    "# Filters must inherit from `dk.Filter`.\n",
    "# There are no requirements for the name of the filter class other than\n",
    "# that it be valid Python code.\n",
    "# The formal name of the filter is whatever you enter into the form\n",
    "# on the ANTARES website when you submit the filter. The name of the\n",
    "# Filter class here is therefore unimportant, but ought to be descriptive.\n",
    "\n",
    "class MyFilter(dk.Filter):\n",
    "\n",
    "    # Required.\n",
    "    #\n",
    "    # This allows you to receive error logs through Slack.\n",
    "    # See footnotes below for more details.\n",
    "    ERROR_SLACK_CHANNEL = '<my_slack_member_id>'\n",
    "\n",
    "    # Optional.\n",
    "    #\n",
    "    # List of Locus properties which the filter depends on.\n",
    "    # If an incoming Alert's Locus does not have all properties listed here,\n",
    "    # then the filter will not run on it.\n",
    "    REQUIRED_LOCUS_PROPERTIES = [\n",
    "        # eg:\n",
    "        'ztf_object_id',\n",
    "        # etc.\n",
    "    ]\n",
    "\n",
    "    # Optional.\n",
    "    #\n",
    "    # List of Alert properties which the filter depends on.\n",
    "    # If an incoming Alert does not have all properties listed here, then\n",
    "    # the filter will not run on it.\n",
    "    REQUIRED_ALERT_PROPERTIES = [\n",
    "        # eg:\n",
    "        'passband',\n",
    "        'mag',\n",
    "        'ztf_magpsf',\n",
    "        # etc.\n",
    "    ]\n",
    "\n",
    "    # Optional.\n",
    "    #\n",
    "    # List of Tag names which the filter depends on.\n",
    "    # If an incoming Alert's Locus does not have all Tags listed here, then\n",
    "    # the filter will not run on it.\n",
    "    REQUIRED_TAGS = [\n",
    "        # eg:\n",
    "        'high_snr',\n",
    "        # etc.\n",
    "    ]\n",
    "\n",
    "    # Required.\n",
    "    #\n",
    "    # A list of properties which your filter may set.\n",
    "    # If your filter doesn't set properties, then value should be an\n",
    "    # empty list.\n",
    "    # 'name' must be formatted like '<author>_<property_name>'.\n",
    "    # 'type' must be one of the strings: 'int', 'float', or 'str'.\n",
    "    # 'description' should briefly describe what the property means.\n",
    "    OUTPUT_LOCUS_PROPERTIES = [\n",
    "        # eg:\n",
    "        {\n",
    "            'name': 'stubens_interest_score',\n",
    "            'type': 'float',\n",
    "            'description': 'interestingness of the alert by algorithm XYZ',\n",
    "        },\n",
    "        {\n",
    "            'name': 'stubens_object_class',\n",
    "            'type': 'str',\n",
    "            'description': 'probable class of object by algorithm ABC',\n",
    "        },\n",
    "        # etc.\n",
    "    ]\n",
    "\n",
    "    # Required.\n",
    "    #\n",
    "    # A list tags names which this filter may produce.\n",
    "    # If your filter does't tag Loci, then this list should be empty.\n",
    "    # 'name' must be formatted like '<author>_<property_name>'.\n",
    "    # 'description' should briefly describe what the tag means.\n",
    "    OUTPUT_TAGS = [\n",
    "        # eg:\n",
    "        {\n",
    "            'name': 'stubens_transients',\n",
    "            'description': 'Probable transient according to method PQE'\n",
    "        },\n",
    "        # etc.\n",
    "    ]\n",
    "\n",
    "    # Optional.\n",
    "    #\n",
    "    # If your filter requires access to data files, they must be declared here.\n",
    "    # See footnotes below for more details on how to work with data files.\n",
    "    REQUIRES_FILES = [\n",
    "        # eg:\n",
    "        'soraisam_myFile.txt',\n",
    "        'soraisam_myOtherFile.bin',\n",
    "        # etc.\n",
    "    ]\n",
    "\n",
    "    # Optional.\n",
    "    #\n",
    "    # This function is called once per night when ANTARES reboots and\n",
    "    # filters are instantiated. If your filter needs to do any work to prepare\n",
    "    # itself to run, that logic should go here.\n",
    "    # Examples:\n",
    "    #  - Loading data from files\n",
    "    #  - Constructing datastructures\n",
    "    #  - Instantiating machine-learning model objects\n",
    "    def setup(self):\n",
    "        ...\n",
    "\n",
    "    # Required.\n",
    "    #\n",
    "    # This is the function which is called to process an Alert.\n",
    "    # All setup work should have been done in `setup()` in order to make this\n",
    "    # function run as efficiently as possible.\n",
    "    # See footnotes below for description of the `locus` object.\n",
    "    def run(self, locus):\n",
    "        ..."
   ]
  },
  {
   "cell_type": "markdown",
   "id": "fe7c90d0-c806-4962-8e45-21ee2d933825",
   "metadata": {},
   "source": [
    "### The Locus Object\n",
    "\n",
    "Properties: http://antares.noirlab.edu/properties\n",
    "The full history of alerts received on that same object"
   ]
  },
  {
   "cell_type": "code",
   "execution_count": null,
   "id": "0410ec16-7466-483a-a6c8-d4f527205a1d",
   "metadata": {},
   "outputs": [],
   "source": [
    "import antares.devkit as dk\n",
    "\n",
    "LOCUS_ID = \"ANT2020blbrs\"\n",
    "locus = dk.get_locus(LOCUS_ID)\n",
    "\n",
    "# A lot of output\n",
    "#print(locus)\n",
    "print(type(locus))"
   ]
  },
  {
   "cell_type": "markdown",
   "id": "c4e8704c-8a34-4079-9620-df81f7225068",
   "metadata": {},
   "source": [
    "### Testing Filters"
   ]
  },
  {
   "cell_type": "code",
   "execution_count": null,
   "id": "50ec071a-48c5-4c0d-870c-7aa8d8a05c6f",
   "metadata": {},
   "outputs": [],
   "source": [
    "class HelloWorld(dk.Filter):\n",
    "    OUTPUT_TAGS = [\n",
    "        {\n",
    "            'name': 'hello_world',\n",
    "            'description': 'hello!',\n",
    "        },\n",
    "    ]\n",
    "\n",
    "    def run(self, locus):\n",
    "        print('Hello Locus ', locus.locus_id)\n",
    "        locus.tag('hello_world')\n"
   ]
  },
  {
   "cell_type": "code",
   "execution_count": null,
   "id": "41a55139-4ce7-4881-9711-7f27bba328c7",
   "metadata": {},
   "outputs": [],
   "source": [
    "report = dk.run_filter(HelloWorld)  # Run against a random locus\n",
    "print(report)\n",
    "\n",
    "report = dk.run_filter(HelloWorld, locus=\"ANT2020blbrs\")  # Run against ANT2020blbrs\n",
    "\n",
    "# `run_filter()` returns a report of what the filter did. Take a look at it:\n",
    "print(report)"
   ]
  },
  {
   "cell_type": "code",
   "execution_count": null,
   "id": "e28a8419-db89-42b0-af5a-7737dada9e49",
   "metadata": {},
   "outputs": [],
   "source": [
    "report = dk.run_many(HelloWorld, n=10)  # Run against 10 loci\n",
    "print(report)\n"
   ]
  },
  {
   "cell_type": "code",
   "execution_count": null,
   "id": "52052251-1eb9-4786-a862-47d0d05c3edc",
   "metadata": {},
   "outputs": [],
   "source": [
    "import antares.devkit as dk\n",
    "import antares.pipeline\n",
    "from antares.pipeline.locus import Locus\n",
    "from antares.pipeline.ingestion import is_ztf_candidate\n",
    "\n",
    "# Fetch a real locus as a starting point\n",
    "locus = dk.get_locus(\"ANT2020blbrs\")\n",
    "\n",
    "# Convert the locus to a mutable dictionary\n",
    "locus_dict = locus.to_dict()\n",
    "\n",
    "# Edit the properties that you want to customize. We are interested in setting the\n",
    "# magnitude of the current candidate (i.e. the one that will trigger the filter) to\n",
    "# the magnitude of the previous candidate minus 5.\n",
    "candidates = [\n",
    "    alert for alert in locus_dict[\"alerts\"] if is_ztf_candidate(alert[\"alert_id\"])\n",
    "]\n",
    "previous_alert_mag = candidates[-2][\"properties\"][\"ant_mag\"]  # Previous Candidate\n",
    "locus_dict[\"alerts\"][-1][\"properties\"][\"ant_mag\"] = previous_alert_mag - 5\n",
    "\n",
    "# Rebuild a Locus instance\n",
    "locus = Locus.from_dict(locus_dict)\n",
    "\n",
    "# Run your filter\n",
    "dk.run_filter(HelloWorld, locus=locus)"
   ]
  },
  {
   "cell_type": "code",
   "execution_count": null,
   "id": "abb8e17c-043b-48e0-83b7-0498bc7a0d98",
   "metadata": {},
   "outputs": [],
   "source": [
    "import antares.devkit as dk\n",
    "\n",
    "dk.init()\n",
    "\n",
    "ra, dec = 88.2744186, -5.0010774\n",
    "locus_dict = {\n",
    "    'locus_id': 'locus1',\n",
    "    'ra': ra,\n",
    "    'dec': dec,\n",
    "    'properties': {\n",
    "        'num_alerts': 2,\n",
    "        'num_mag_values': 2,\n",
    "    },\n",
    "    'tags': [],\n",
    "    'watch_list_ids': [],\n",
    "    'watch_object_ids': [],\n",
    "    'catalog_objects': dk.search_catalogs(ra, dec),\n",
    "    'alerts': [\n",
    "        {\n",
    "            'alert_id': 'alert1',\n",
    "            'locus_id': 'locus1',\n",
    "            'mjd': 58794.272488399874,\n",
    "            'properties': {\n",
    "                'ant_mjd': 58794.272488399874,\n",
    "                'ant_mag': 15.1,\n",
    "                'ant_magerr': 0.1,\n",
    "                'ant_maglim': 0.1,\n",
    "                'ant_survey': 1,\n",
    "                'ant_passband': 'g',\n",
    "                'ant_ra': 88.2744186,\n",
    "                'ant_dec': -5.0010774,\n",
    "            },\n",
    "        },\n",
    "        {\n",
    "            'alert_id': 'alert2',\n",
    "            'locus_id': 'locus1',\n",
    "            'mjd': 58799.50587960007,\n",
    "            'properties': {\n",
    "                'ant_mjd': 58799.50587960007,\n",
    "                'ant_mag': 15.2,\n",
    "                'ant_magerr': 0.1,\n",
    "                'ant_maglim': 0.1,\n",
    "                'ant_survey': 1,\n",
    "                'ant_passband': 'g',\n",
    "                'ant_ra': 88.2744186,\n",
    "                'ant_dec': -5.0010774,\n",
    "            }\n",
    "        },\n",
    "    ],\n",
    "}\n",
    "\n",
    "locus = dk.locus_from_dict(locus_dict)\n",
    "dk.run_filter(HelloWorld, locus=locus)\n"
   ]
  },
  {
   "cell_type": "code",
   "execution_count": null,
   "id": "755bb680-ecef-41d8-bcaa-6e06e794644d",
   "metadata": {},
   "outputs": [],
   "source": []
  },
  {
   "cell_type": "markdown",
   "id": "d6f01426-dc8b-46ab-a157-1a4cea9da269",
   "metadata": {},
   "source": [
    "## The ANTARES Client\n",
    "\n",
    "https://nsf-noirlab.gitlab.io/csdc/antares/client/tutorial\n",
    "\n",
    "### Streaming Alerts\n",
    "\n",
    "Q: how to get \"api_key\": \"YOUR_API_KEY\", \"api_secret\": \"YOUR_API_SECRET\"??"
   ]
  },
  {
   "cell_type": "code",
   "execution_count": null,
   "id": "2883817d-f36f-42ff-bb09-05c8c35e894f",
   "metadata": {},
   "outputs": [],
   "source": [
    "from antares_client import StreamingClient\n",
    "client = StreamingClient(\n",
    "    topics=[\"extragalactic_staging\", \"nuclear_transient_staging\"],\n",
    "    api_key=\"********************\",\n",
    "    api_secret=\"********************\",\n",
    ")\n"
   ]
  },
  {
   "cell_type": "code",
   "execution_count": null,
   "id": "32a1d897-b30c-4dcd-a395-62204f016f5d",
   "metadata": {},
   "outputs": [],
   "source": [
    "topic, locus = client.poll(timeout=10)\n",
    "if locus:\n",
    "    print(\"received an alert\")\n",
    "else:\n",
    "    print(\"waited 10 seconds but didn't get an alert\")"
   ]
  },
  {
   "cell_type": "code",
   "execution_count": null,
   "id": "1e473a50-826f-4aaa-989a-8d43b8835620",
   "metadata": {},
   "outputs": [],
   "source": [
    "# This...\n",
    "for topic, locus in client.iter():\n",
    "    print(\"received {} on {}\".format(locus, topic))\n",
    "\n",
    "# Is equivalent to...\n",
    "while True:\n",
    "    topic, locus = client.poll()\n",
    "    print(\"received {} on {}\".format(locus, topic))\n"
   ]
  },
  {
   "cell_type": "code",
   "execution_count": null,
   "id": "9df8fbf0-212c-40e6-be06-844732c0735f",
   "metadata": {},
   "outputs": [],
   "source": [
    "# This...\n",
    "with StreamingClient(topics, **config) as client:\n",
    "    for topic, locus in client.iter():\n",
    "        print(\"received {} on {}\".format(locus, topic))\n",
    "\n",
    "# Is equivalent to...\n",
    "client = StreamingClient(topics, **config)\n",
    "try:\n",
    "    for topic, locus in client.iter():\n",
    "        print(\"received {} on {}\".format(locus, topic))\n",
    "finally:\n",
    "    client.close()\n"
   ]
  },
  {
   "cell_type": "code",
   "execution_count": null,
   "id": "88c74eca-4144-48b6-bdfd-52d76429a96e",
   "metadata": {},
   "outputs": [],
   "source": [
    "\"\"\"\n",
    "Use this script as a starting point for streaming alerts from ANTARES.\n",
    "\n",
    "Author: YOUR_NAME\n",
    "\n",
    "\"\"\"\n",
    "\n",
    "from antares_client import StreamingClient\n",
    "\n",
    "TOPICS = [\"extragalactic_staging\", \"nuclear_transient_staging\"]\n",
    "CONFIG = {\n",
    "    \"api_key\": \"YOUR_API_KEY\",\n",
    "    \"api_secret\": \"YOUR_API_SECRET\",\n",
    "}\n",
    "\n",
    "\n",
    "def process_alert(topic, locus):\n",
    "    \"\"\"Put your code here!\"\"\"\n",
    "    pass\n",
    "\n",
    "\n",
    "def main():\n",
    "   with StreamingClient(TOPICS, **CONFIG) as client:\n",
    "       for topic, locus in client.iter():\n",
    "           process_alert(topic, locus)\n",
    "\n",
    "\n",
    "if __name__ == \"__main__\":\n",
    "    main()\n"
   ]
  },
  {
   "cell_type": "markdown",
   "id": "155a93db-5301-457a-83e3-3fcae8d3f7cc",
   "metadata": {},
   "source": [
    "### Searching for Data"
   ]
  },
  {
   "cell_type": "code",
   "execution_count": null,
   "id": "6881cae5-e31d-45fe-b7d7-b14716f4093f",
   "metadata": {},
   "outputs": [],
   "source": [
    "from antares_client.search import get_by_id, get_by_ztf_object_id\n",
    "\n",
    "# Lookup by ANTARES ID\n",
    "locus = get_by_id(\"ANT2020j7wo4\")\n",
    "print(locus)\n",
    "\n",
    "# Lookup by ZTF Object ID\n",
    "locus = get_by_ztf_object_id(\"ZTF20aafqubg\")\n",
    "print(locus)"
   ]
  },
  {
   "cell_type": "code",
   "execution_count": null,
   "id": "ceb0e81c-9c3a-42a9-b81a-a7e742a6fbe6",
   "metadata": {},
   "outputs": [],
   "source": [
    "from antares_client.search import cone_search\n",
    "from astropy.coordinates import Angle, SkyCoord\n",
    "\n",
    "center = SkyCoord(\"20h48m25.1805s 29d45m4.8361s\")\n",
    "radius = Angle(\"1s\")\n",
    "\n",
    "for locus in cone_search(center, radius):\n",
    "    print(locus)\n",
    "    pass\n"
   ]
  },
  {
   "cell_type": "code",
   "execution_count": null,
   "id": "6eaf668f-361a-4ab6-8e6a-c0f5f7556f1c",
   "metadata": {},
   "outputs": [],
   "source": [
    "query = {\n",
    "    \"query\": {\n",
    "        \"bool\": {\n",
    "            \"filter\": [\n",
    "                {\n",
    "                    \"range\": {\n",
    "                        \"properties.num_mag_values\": {\n",
    "                            \"gte\": 50,\n",
    "                            \"lte\": 100,\n",
    "                        }\n",
    "                    }\n",
    "                },\n",
    "                {\n",
    "                     \"term\": {\n",
    "                         \"tags\": \"nuclear_transient\"\n",
    "                     }\n",
    "                }\n",
    "             ]\n",
    "        }\n",
    "    }\n",
    "}\n",
    "\n"
   ]
  },
  {
   "cell_type": "code",
   "execution_count": null,
   "id": "3c6d90a6-b6dc-4074-9043-af1c06afc529",
   "metadata": {},
   "outputs": [],
   "source": [
    "from antares_client.search import search\n",
    "first_result = next(search(query))"
   ]
  },
  {
   "cell_type": "markdown",
   "id": "5c3668ae-0191-4550-85c5-a452b585219b",
   "metadata": {},
   "source": [
    "The return value of the search function is an iterator over loci in the result set. This means that the result set is not immediately available in memory unless you did something like `result_set = list(search(query))`. Because result sets can be so large, we recommend against doing so. Prefer, instead, operations on the iterable like:"
   ]
  },
  {
   "cell_type": "code",
   "execution_count": null,
   "id": "2e2ec4d9-790c-4605-8fb2-b1cea339aff7",
   "metadata": {},
   "outputs": [],
   "source": [
    "for idn, locus in enumerate(search(query)):\n",
    "    print(locus)\n",
    "    if idn==3: break"
   ]
  },
  {
   "cell_type": "code",
   "execution_count": null,
   "id": "26e9565e-e74b-4892-b743-613885f8eabf",
   "metadata": {},
   "outputs": [],
   "source": [
    "from antares_client.search import search\n",
    "from elasticsearch_dsl import Search\n",
    "\n",
    "query = (\n",
    "    Search()\n",
    "    .filter(\"range\", **{\"properties.num_mag_values\": {\"gte\": 50, \"lte\": 100}})\n",
    "    .filter(\"term\", tags=\"nuclear_transient\")\n",
    "    .to_dict()\n",
    ")\n",
    "first_result = next(search(query))\n",
    "\n",
    "print(first_result)"
   ]
  },
  {
   "cell_type": "code",
   "execution_count": null,
   "id": "d63498e4-4c82-44dd-b54b-5725b4fcb811",
   "metadata": {},
   "outputs": [],
   "source": [
    "from antares_client.search import get_available_tags\n",
    "\n",
    "tags = get_available_tags()\n",
    "\n",
    "for i in tags:\n",
    "    print(i)"
   ]
  },
  {
   "cell_type": "code",
   "execution_count": null,
   "id": "8c8b266f-2514-4825-b5f5-376d2050f3b2",
   "metadata": {},
   "outputs": [],
   "source": [
    "from antares_client.search import get_latest_grav_wave_notices\n",
    "\n",
    "# Lookup by GraceDB ID\n",
    "gravitational_wave_notice = get_latest_grav_wave_notices(\"S231103aa\")\n",
    "print(gravitational_wave_notice)"
   ]
  },
  {
   "cell_type": "code",
   "execution_count": null,
   "id": "a4f99c41-fc1a-4384-b040-cca2c4f5e4d3",
   "metadata": {},
   "outputs": [],
   "source": [
    "from antares_client.search import get_grav_wave_notices\n",
    "import datetime\n",
    "\n",
    "# Lookup by GraceDB ID and datetime\n",
    "gravitational_wave_notice = get_grav_wave_notices(\"S231103aa\", datetime.datetime(2023, 11, 3, 18, 58, 2))\n",
    "print(gravitational_wave_notice)"
   ]
  },
  {
   "cell_type": "code",
   "execution_count": null,
   "id": "1df7074d-3d9d-4a06-8cd7-93c48413cec7",
   "metadata": {},
   "outputs": [],
   "source": [
    "from antares_client.search import get_multiple_grav_wave_notices\n",
    "\n",
    "gravitational_wave_notices = get_multiple_grav_wave_notices([\"S231004f\",\"S231004q\"])\n",
    "print(gravitational_wave_notice)"
   ]
  },
  {
   "cell_type": "code",
   "execution_count": null,
   "id": "756c7b94-c802-4f78-baad-2ad6ccddca36",
   "metadata": {},
   "outputs": [],
   "source": [
    "from antares_client.search import get_catalog_samples\n",
    "\n",
    "# Retrieve 5 rows from each catalog available\n",
    "catalog_data = get_catalog_samples(5)\n",
    "\n",
    "# a lot of output, info from different surveys\n",
    "#print(catalog_data)"
   ]
  },
  {
   "cell_type": "code",
   "execution_count": null,
   "id": "2426f2fe-dd30-4b95-95c5-cfc114804fc9",
   "metadata": {},
   "outputs": [],
   "source": [
    "from antares_client.search import catalog_search\n",
    "\n",
    "# Retrieve all catalog crossmatches for a position\n",
    "catalog_data = catalog_search(ra=316.7859, dec=13.1324)\n",
    "\n",
    "#print(catalog_data)"
   ]
  },
  {
   "cell_type": "code",
   "execution_count": null,
   "id": "679bd672-797c-4535-b131-2bf278d9b171",
   "metadata": {},
   "outputs": [],
   "source": [
    "from antares_client.search import get_thumbnails\n",
    "\n",
    "thumbnails = get_thumbnails(\"ztf_candidate:2552120390115015005\")\n",
    "\n",
    "# a lot of output\n",
    "#print(thumbnails)\n",
    "#print(type(thumbnails))"
   ]
  },
  {
   "cell_type": "code",
   "execution_count": null,
   "id": "1c5c93bd-1f66-458e-b510-7b09a1edb9fe",
   "metadata": {},
   "outputs": [],
   "source": []
  }
 ],
 "metadata": {
  "kernelspec": {
   "display_name": "Python 3 (ANTARES,Py3.9.18)",
   "language": "python",
   "name": "antares_py3.7"
  },
  "language_info": {
   "codemirror_mode": {
    "name": "ipython",
    "version": 3
   },
   "file_extension": ".py",
   "mimetype": "text/x-python",
   "name": "python",
   "nbconvert_exporter": "python",
   "pygments_lexer": "ipython3",
   "version": "3.9.18"
  }
 },
 "nbformat": 4,
 "nbformat_minor": 5
}
