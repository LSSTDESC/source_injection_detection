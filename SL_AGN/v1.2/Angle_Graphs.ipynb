{
 "cells": [
  {
   "cell_type": "markdown",
   "id": "624cf71c-8234-42ad-ae07-1ba4fbda0812",
   "metadata": {},
   "source": [
    "# Graphing Patches"
   ]
  },
  {
   "cell_type": "code",
   "execution_count": null,
   "id": "8e28b11a-415f-42e4-8480-ff14d07366a3",
   "metadata": {},
   "outputs": [],
   "source": [
    "from lib.tools import *\n",
    "from lib.stamp import *\n",
    "from lib.inject import *\n",
    "from lib.butler import *\n",
    "from lib.visual import *\n",
    "import lsst.geom as geom\n",
    "from lsst.daf.butler import Butler, Timespan\n",
    "import matplotlib.pyplot as plt\n",
    "from astropy.time import Time\n",
    "from astropy.table import Table, vstack\n",
    "%matplotlib inline\n",
    "import lsst.afw.display as afwDisplay\n",
    "from lsst.source.injection import generate_injection_catalog\n"
   ]
  },
  {
   "cell_type": "code",
   "execution_count": null,
   "id": "f7c77130-bf6e-47e2-b176-d2956654a813",
   "metadata": {},
   "outputs": [],
   "source": [
    "butler = Butler(\"dp1\", collections=\"LSSTComCam/DP1\")"
   ]
  },
  {
   "cell_type": "markdown",
   "id": "4cb35170-09d2-42ef-b117-2a08ac4bed46",
   "metadata": {},
   "source": [
    "visit_detector_region gives us just one detector, each visit is unique and we don't have duplicates"
   ]
  },
  {
   "cell_type": "code",
   "execution_count": null,
   "id": "c83b5fe4-fd99-4654-a935-47a50be7c54f",
   "metadata": {},
   "outputs": [],
   "source": [
    "band = 'r'\n",
    "ra = 53.076\n",
    "dec = -28.11\n",
    "query = \"band.name = :band AND \\\n",
    "    visit_detector_region.region OVERLAPS POINT(:ra, :dec)\"\n",
    "bind = {\"band\": band, \"ra\": ra, \"dec\": dec}\n",
    "dataset_refs = butler.query_datasets(\"visit_image\",\n",
    "                                     where=query,\n",
    "                                     order_by=[\"visit.timespan.begin\"],\n",
    "                                     bind=bind)"
   ]
  },
  {
   "cell_type": "markdown",
   "id": "9052f8de-cd70-497d-8feb-4810442f3507",
   "metadata": {
    "execution": {
     "iopub.execute_input": "2025-07-10T19:16:59.629762Z",
     "iopub.status.busy": "2025-07-10T19:16:59.628868Z",
     "iopub.status.idle": "2025-07-10T19:16:59.634259Z",
     "shell.execute_reply": "2025-07-10T19:16:59.633392Z",
     "shell.execute_reply.started": "2025-07-10T19:16:59.629729Z"
    }
   },
   "source": [
    "visit.region can tell us all 9 detectors with the same exposure"
   ]
  },
  {
   "cell_type": "code",
   "execution_count": null,
   "id": "3c7fd62a-f1c0-4640-a73a-bb4435d48cad",
   "metadata": {},
   "outputs": [],
   "source": [
    "band = 'r'\n",
    "ra = 53.076\n",
    "dec = -28.11\n",
    "visit_idx = 1\n",
    "query = \"band.name = :band AND \\\n",
    "    visit.region OVERLAPS POINT(:ra, :dec)\"\n",
    "bind = {\"band\": band, \"ra\": ra, \"dec\": dec}\n",
    "dataset_refs = butler.query_datasets(\"visit_image\",\n",
    "                                     where=query,\n",
    "                                     order_by=[\"visit.timespan.begin\"],\n",
    "                                     bind=bind)"
   ]
  },
  {
   "cell_type": "code",
   "execution_count": null,
   "id": "dbadbf2c-7113-4c33-9fd1-04696ab850e3",
   "metadata": {},
   "outputs": [],
   "source": [
    "band = 'r'\n",
    "ra = 53.076\n",
    "dec = -28.11\n",
    "visit_idx = 1\n",
    "query = \"band.name = :band AND \\\n",
    "    patch.region OVERLAPS POINT(:ra, :dec)\"\n",
    "bind = {\"band\": band, \"ra\": ra, \"dec\": dec}\n",
    "dataset_patch = butler.query_datasets(\"template_coadd\",\n",
    "                                     where=query,\n",
    "                                     bind=bind)"
   ]
  },
  {
   "cell_type": "code",
   "execution_count": null,
   "id": "212a181c-4e7b-4c2c-b06c-05c0951b9849",
   "metadata": {},
   "outputs": [],
   "source": [
    "template = butler.get(dataset_patch[0])"
   ]
  },
  {
   "cell_type": "code",
   "execution_count": null,
   "id": "6b8dcadc-f057-4623-9528-f42cb6a0273c",
   "metadata": {},
   "outputs": [],
   "source": [
    "dir(template)"
   ]
  },
  {
   "cell_type": "code",
   "execution_count": null,
   "id": "2631d781-9cc9-44c4-b83c-1adb2d8ba262",
   "metadata": {},
   "outputs": [],
   "source": [
    "#template.getInfo().getMetadata()"
   ]
  },
  {
   "cell_type": "code",
   "execution_count": null,
   "id": "d105a2ef-8738-4f00-9e16-70cde1c61bdd",
   "metadata": {},
   "outputs": [],
   "source": [
    "import lsst.skymap\n",
    "findPatch(lsst.geom.SpherePoint(ra=50,dec=20))"
   ]
  },
  {
   "cell_type": "code",
   "execution_count": null,
   "id": "60e5923e-3087-4cbd-a5bb-a3f10a9d2183",
   "metadata": {},
   "outputs": [],
   "source": [
    "for d in dataset_refs:\n",
    "    if d.dataId.get('visit') == dataset_refs[visit_idx].dataId.get('visit'):\n",
    "        print(d.dataId)"
   ]
  },
  {
   "cell_type": "code",
   "execution_count": null,
   "id": "be12ee4e-2b25-4775-a1ca-8b5f6dc2948d",
   "metadata": {},
   "outputs": [],
   "source": [
    "visit = dataset_refs[visit_idx]"
   ]
  },
  {
   "cell_type": "code",
   "execution_count": null,
   "id": "ac0673c3-d539-41f3-a292-593ccb831f39",
   "metadata": {},
   "outputs": [],
   "source": [
    "visit.dataId"
   ]
  },
  {
   "cell_type": "code",
   "execution_count": null,
   "id": "f35ca19f-40c2-42fc-ad82-0e66390200b7",
   "metadata": {},
   "outputs": [],
   "source": [
    "visit_img = butler.get(visit)"
   ]
  },
  {
   "cell_type": "code",
   "execution_count": null,
   "id": "350e0084-ccb6-424d-a3a3-7e6b1afdc0c6",
   "metadata": {},
   "outputs": [],
   "source": []
  },
  {
   "cell_type": "code",
   "execution_count": null,
   "id": "9a5623fd-f07d-4de2-bbf1-3985b75517dd",
   "metadata": {},
   "outputs": [],
   "source": [
    "dir(visit_img.image)"
   ]
  },
  {
   "cell_type": "code",
   "execution_count": null,
   "id": "df3eb0a5-be44-43ce-84e5-57b405c27afe",
   "metadata": {},
   "outputs": [],
   "source": [
    "#dir(visit_img)"
   ]
  },
  {
   "cell_type": "code",
   "execution_count": null,
   "id": "ced104c9-9136-48f8-a08c-a181287a937b",
   "metadata": {},
   "outputs": [],
   "source": [
    "type(visit_img.metadata)"
   ]
  },
  {
   "cell_type": "code",
   "execution_count": null,
   "id": "93ba7c8e-f342-4f1a-af27-e415cc65e0a0",
   "metadata": {},
   "outputs": [],
   "source": [
    "visit_img.visitInfo.boresightRaDec.getDec().asDegrees()"
   ]
  },
  {
   "cell_type": "code",
   "execution_count": null,
   "id": "6bbb30ed-8135-4fb9-887a-01c243e0eaaa",
   "metadata": {},
   "outputs": [],
   "source": [
    "#dir(visit_img.visitInfo.getBoresightRaDec())"
   ]
  },
  {
   "cell_type": "code",
   "execution_count": null,
   "id": "657487f9-cd64-4b06-aa35-1aeeb0d516e1",
   "metadata": {},
   "outputs": [],
   "source": [
    "def pixel_to_degrees(n):\n",
    "    return 0.2 * n / 3600"
   ]
  },
  {
   "cell_type": "code",
   "execution_count": null,
   "id": "2665e2b3-d500-46c8-b41c-cd9ffd81bc32",
   "metadata": {},
   "outputs": [],
   "source": [
    "import numpy as np\n",
    "\n",
    "wcs = template.getWcs()\n",
    "\n",
    "patch_bbox = template.getBBox()\n",
    "\n",
    "patch_xmin = patch_bbox.getMinX()\n",
    "patch_ymin = patch_bbox.getMinY()\n",
    "patch_height = pixel_to_degrees(template.height)\n",
    "patch_width = pixel_to_degrees(template.width)\n",
    "\n",
    "#wcs = deep_coadd.wcs\n",
    "#print(dir(wcs))\n",
    "\n",
    "#print(deep_coadd.getBBox().getMin())\n",
    "wcs.pixelToSky(patch_xmin, patch_ymin) #.getRa().asDegrees()\n",
    "patch_ra_dec_min = wcs.pixelToSky(patch_xmin, patch_ymin) #.getRa().asDegrees()\n",
    "patch_ra_min = patch_ra_dec_min.getRa().asDegrees()\n",
    "patch_dec_min = patch_ra_dec_min.getDec().asDegrees()\n",
    "patch_width = patch_width / np.cos(np.deg2rad(patch_dec_min))\n",
    "#print(ra_dec_min) \n",
    "print(patch_ra_min, patch_dec_min, patch_height, patch_width)"
   ]
  },
  {
   "cell_type": "code",
   "execution_count": null,
   "id": "e9a985d4-7945-4c11-8efc-77a24f3a83aa",
   "metadata": {},
   "outputs": [],
   "source": [
    "import matplotlib.pyplot as plt\n",
    "import matplotlib.patches as patches\n",
    "\n",
    "ra = visit_img.visitInfo.boresightRaDec.getRa().asDegrees()\n",
    "dec = visit_img.visitInfo.boresightRaDec.getDec().asDegrees()\n",
    "\n",
    "bbox = visit_img.getBBox()\n",
    "\n",
    "# Rectangle parameters\n",
    "center = (ra, dec)        # (x, y)\n",
    "width = pixel_to_degrees(bbox.getMaxX())              # Length along x-axis before rotation\n",
    "height = pixel_to_degrees(bbox.getMaxY())             # Length along y-axis before rotation\n",
    "angle = visit_img.visitInfo.boresightRotAngle.asDegrees()             # Degrees counter-clockwise\n",
    "\n",
    "# Convert center to bottom-left corner, accounting for rotation\n",
    "# The Rectangle class expects the lower-left corner\n",
    "# So we just specify center as the anchor point for simplicity using transform\n",
    "\n",
    "# Create figure and axes\n",
    "fig, ax = plt.subplots()\n",
    "ax.plot([ra],[dec], 'x')\n",
    "# Create rectangle\n",
    "rect = patches.Rectangle(\n",
    "    (center[0] - width / 2, center[1] - height / 2),  # lower-left corner\n",
    "    width,\n",
    "    height,\n",
    "    angle=-angle,\n",
    "    rotation_point = 'center',\n",
    "    linewidth=2,\n",
    "    edgecolor='blue',\n",
    "    facecolor='none'\n",
    ")\n",
    "\n",
    "patch_rect = patches.Rectangle(\n",
    "    (patch_ra_min, patch_dec_min),  # lower-left corner\n",
    "    -patch_width,\n",
    "    patch_height,\n",
    "    angle=0,\n",
    "    rotation_point = 'center',\n",
    "    linewidth=2,\n",
    "    edgecolor='red',\n",
    "    facecolor='none'\n",
    ")\n",
    "\n",
    "plt.xlabel(\"RA [deg]\")\n",
    "plt.ylabel(\"DEC [deg]\")\n",
    "\n",
    "# Add rectangle to plot\n",
    "ax.add_patch(rect)\n",
    "ax.add_patch(patch_rect)\n",
    "\n",
    "ax.invert_xaxis()\n",
    "\n",
    "theta_rad = np.deg2rad(-angle)\n",
    "\n",
    "dx = 0.05 * np.cos(theta_rad)\n",
    "dy = 0.05 * np.sin(theta_rad)\n",
    "\n",
    "plt.arrow(ra, dec, -dx, -dy,\n",
    "          head_width=0.01, head_length=0.01, fc='black', ec='black')# Set axis limits and aspect\n",
    "plt.arrow(ra, dec, -dy, dx,\n",
    "          head_width=0.01, head_length=0.01, fc='black', ec='black')# Set axis limits and aspect\n",
    "\n",
    "plt.annotate('x', xy=(ra - dx/0.7, dec - dy/0.7))\n",
    "plt.annotate('y', xy=(ra-dy/0.7,dec+dx/0.7))\n",
    "#ax.set_xlim(0, 10000)\n",
    "#ax.set_ylim(0, 10000)\n",
    "ax.set_aspect('equal')\n",
    "\n",
    "plt.grid(ls=':')"
   ]
  },
  {
   "cell_type": "code",
   "execution_count": null,
   "id": "af9ee6bc-edff-47da-8fc0-3d7747e07a79",
   "metadata": {},
   "outputs": [],
   "source": [
    "print(center)"
   ]
  },
  {
   "cell_type": "code",
   "execution_count": null,
   "id": "e4b3303e-aaae-477c-b991-d274c8e3795e",
   "metadata": {},
   "outputs": [],
   "source": [
    "visit_img.visitInfo.getBoresightRotAngle().asDegrees()"
   ]
  },
  {
   "cell_type": "code",
   "execution_count": null,
   "id": "940657b4-81ed-4d1a-8c88-6926951c47af",
   "metadata": {},
   "outputs": [],
   "source": [
    "afwDisplay.setDefaultBackend('firefly')\n",
    "afw_display = afwDisplay.Display(frame=1)"
   ]
  },
  {
   "cell_type": "code",
   "execution_count": null,
   "id": "1a9afe62-fe78-44f9-bf95-e2aab6d6c1ed",
   "metadata": {},
   "outputs": [],
   "source": [
    "afw_display.mtv(template)"
   ]
  },
  {
   "cell_type": "code",
   "execution_count": null,
   "id": "5be3876e-4e54-406d-ac05-e37472c1276b",
   "metadata": {},
   "outputs": [],
   "source": [
    "afw_display.setMaskTransparency(100)"
   ]
  },
  {
   "cell_type": "markdown",
   "id": "20d3886d-9d0a-4fc2-a14d-ae7bd423a0a8",
   "metadata": {},
   "source": [
    "Setting Mask Transparency to 0 shows many colors.\n",
    "- Yellow: The most saturated parts that exceed an assigned maximum. The Green areas surrounding are the edge-detected bodies drawn around these high points\n",
    "- Green: Saturated Stars\n",
    "- Cyan: Cross-talk between amplifiers - When yellow areas have these overflowed electrons, there is a high signal that creates signal interference that spikes at regular intervals on the sides of where they are read.\n",
    "  - There are 8 amplifiers\n",
    "- Dark Blue: Detected Sources\n",
    "- Green Lines: Defects in the CCD\n",
    "\n",
    "The vertical \"bleed trails\" come from the incoming electrons overflowing into other pixels, they are vertical due to the physical design of the detector"
   ]
  },
  {
   "cell_type": "code",
   "execution_count": null,
   "id": "e33f4ad3-76ce-455e-abeb-781c322c5841",
   "metadata": {},
   "outputs": [],
   "source": [
    "visit_wcs = visit_img.getWcs()"
   ]
  },
  {
   "cell_type": "code",
   "execution_count": null,
   "id": "797a0985-52c5-4140-87eb-6e7e396b12c3",
   "metadata": {},
   "outputs": [],
   "source": [
    "#dir(visit_wcs)"
   ]
  },
  {
   "cell_type": "code",
   "execution_count": null,
   "id": "0f37efdc-e474-4adf-a765-b57a1ba412cc",
   "metadata": {},
   "outputs": [],
   "source": []
  },
  {
   "cell_type": "code",
   "execution_count": null,
   "id": "fa99bee8-42e7-4ffd-a424-d56bb280df55",
   "metadata": {},
   "outputs": [],
   "source": [
    "visit2_wcs = butler.get(dataset_refs[1]).getWcs()\n",
    "visit_wcs.getRelativeRotationToWcs(visit2_wcs)"
   ]
  },
  {
   "cell_type": "code",
   "execution_count": null,
   "id": "a5c322af-e5b1-44da-9660-4f2fa95a5a02",
   "metadata": {},
   "outputs": [],
   "source": [
    "visit_wcs.getSkyOrigin()"
   ]
  },
  {
   "cell_type": "code",
   "execution_count": null,
   "id": "0171b4b3-f202-4316-8c59-6b97fb1dde88",
   "metadata": {},
   "outputs": [],
   "source": [
    "visit_wcs.getPixelScale()"
   ]
  },
  {
   "cell_type": "code",
   "execution_count": null,
   "id": "a2da7c2c-38a0-46ef-8030-754fbfacfd60",
   "metadata": {},
   "outputs": [],
   "source": [
    "visit_wcs.getTransform()"
   ]
  },
  {
   "cell_type": "code",
   "execution_count": null,
   "id": "914a7e0d-e5b2-4a24-9430-de3c93300890",
   "metadata": {},
   "outputs": [],
   "source": [
    "visit_wcs.pixelToSky(x=12., y=13.)"
   ]
  },
  {
   "cell_type": "code",
   "execution_count": null,
   "id": "74118c68-6dec-4a79-a22b-4af8ef30a915",
   "metadata": {},
   "outputs": [],
   "source": [
    "#visit_wcs.linearizePixelToSky(x=12., y=13.)"
   ]
  },
  {
   "cell_type": "code",
   "execution_count": null,
   "id": "b898a694-8b8d-4f3d-b4b3-9fe5a0708705",
   "metadata": {},
   "outputs": [],
   "source": [
    "visit_wcs.skyToPixelArray(ra=53,dec=-28)"
   ]
  },
  {
   "cell_type": "code",
   "execution_count": null,
   "id": "2ec50b54-0920-425f-bab7-694164348148",
   "metadata": {},
   "outputs": [],
   "source": []
  },
  {
   "cell_type": "code",
   "execution_count": null,
   "id": "a155129d-05a6-48ed-9c39-0bfe2385d8a2",
   "metadata": {},
   "outputs": [],
   "source": [
    "visit_wcs.getCdMatrix()"
   ]
  },
  {
   "cell_type": "code",
   "execution_count": null,
   "id": "1e5c762b-aa32-4e02-a86d-965ded380dc0",
   "metadata": {},
   "outputs": [],
   "source": []
  },
  {
   "cell_type": "markdown",
   "id": "cf57d6c4-44a6-4936-8690-a358f7434d17",
   "metadata": {},
   "source": [
    "The matrix gives the transformation from pixels to ra,dec in degrees: \n",
    "> New system coords = position * (cdmatrix containing deltax and deltay) + \"origin coordinate\""
   ]
  },
  {
   "cell_type": "code",
   "execution_count": null,
   "id": "972c737b-f9d8-4f99-9992-0ab34efc8141",
   "metadata": {},
   "outputs": [],
   "source": [
    "for i in range(20):\n",
    "    afw_display.dot(\"o\", 1844, 970, size=500, ctype=\"red\")"
   ]
  },
  {
   "cell_type": "markdown",
   "id": "57cf4074-c908-4e19-93de-be6a0ccd73d5",
   "metadata": {},
   "source": [
    "getFitsMetadata() gives information about any distortions resolved in the final image\n",
    "- CRPIX: Coordinate Reference Pixel\n",
    "- CRVAL: Ra(CRVAL1),Dec(CRVAL2) for the origin\n",
    "- CD1/2_1/2: Elements of the matrix\n",
    "- A_X_Y: Should be small numbers informing of distortions"
   ]
  },
  {
   "cell_type": "code",
   "execution_count": null,
   "id": "e0ecce45-00ab-4b80-823c-ed281465d67d",
   "metadata": {},
   "outputs": [],
   "source": [
    "#visit_wcs.getFitsMetadata()"
   ]
  },
  {
   "cell_type": "code",
   "execution_count": null,
   "id": "8504dc84-0850-42bd-a4fc-8c574d8ddf55",
   "metadata": {},
   "outputs": [],
   "source": [
    "visit_img.getInfo().getVisitInfo().boresightRotAngle.asDegrees()"
   ]
  },
  {
   "cell_type": "code",
   "execution_count": null,
   "id": "127dffb1-fa95-4c77-a6fc-9bcd6040f6b4",
   "metadata": {},
   "outputs": [],
   "source": [
    "visit_img.getInfo().getVisitInfo()"
   ]
  },
  {
   "cell_type": "code",
   "execution_count": null,
   "id": "e0a3114b-22d5-4ffe-9ad4-17578d49f880",
   "metadata": {},
   "outputs": [],
   "source": []
  }
 ],
 "metadata": {
  "kernelspec": {
   "display_name": "LSST",
   "language": "python",
   "name": "lsst"
  },
  "language_info": {
   "codemirror_mode": {
    "name": "ipython",
    "version": 3
   },
   "file_extension": ".py",
   "mimetype": "text/x-python",
   "name": "python",
   "nbconvert_exporter": "python",
   "pygments_lexer": "ipython3",
   "version": "3.12.11"
  }
 },
 "nbformat": 4,
 "nbformat_minor": 5
}
