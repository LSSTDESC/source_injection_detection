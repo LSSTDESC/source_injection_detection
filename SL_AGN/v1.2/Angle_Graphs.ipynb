{
 "cells": [
  {
   "cell_type": "markdown",
   "id": "624cf71c-8234-42ad-ae07-1ba4fbda0812",
   "metadata": {},
   "source": [
    "# Graphing Patches"
   ]
  },
  {
   "cell_type": "code",
   "execution_count": 1,
   "id": "8e28b11a-415f-42e4-8480-ff14d07366a3",
   "metadata": {
    "execution": {
     "iopub.execute_input": "2025-07-10T22:20:30.840657Z",
     "iopub.status.busy": "2025-07-10T22:20:30.840297Z",
     "iopub.status.idle": "2025-07-10T22:20:36.860324Z",
     "shell.execute_reply": "2025-07-10T22:20:36.859478Z",
     "shell.execute_reply.started": "2025-07-10T22:20:30.840632Z"
    }
   },
   "outputs": [],
   "source": [
    "from lib.tools import *\n",
    "from lib.stamp import *\n",
    "from lib.inject import *\n",
    "from lib.butler import *\n",
    "from lib.visual import *\n",
    "import lsst.geom as geom\n",
    "from lsst.daf.butler import Butler, Timespan\n",
    "import matplotlib.pyplot as plt\n",
    "from astropy.time import Time\n",
    "from astropy.table import Table, vstack\n",
    "%matplotlib inline\n",
    "import lsst.afw.display as afwDisplay\n",
    "from lsst.source.injection import generate_injection_catalog\n"
   ]
  },
  {
   "cell_type": "code",
   "execution_count": 2,
   "id": "f7c77130-bf6e-47e2-b176-d2956654a813",
   "metadata": {
    "execution": {
     "iopub.execute_input": "2025-07-10T22:20:36.862603Z",
     "iopub.status.busy": "2025-07-10T22:20:36.861510Z",
     "iopub.status.idle": "2025-07-10T22:20:37.016016Z",
     "shell.execute_reply": "2025-07-10T22:20:37.015303Z",
     "shell.execute_reply.started": "2025-07-10T22:20:36.862574Z"
    }
   },
   "outputs": [],
   "source": [
    "butler = Butler(\"dp1\", collections=\"LSSTComCam/DP1\")"
   ]
  },
  {
   "cell_type": "markdown",
   "id": "4cb35170-09d2-42ef-b117-2a08ac4bed46",
   "metadata": {},
   "source": [
    "visit_detector_region gives us just one detector, each visit is unique and we don't have duplicates"
   ]
  },
  {
   "cell_type": "code",
   "execution_count": 3,
   "id": "c83b5fe4-fd99-4654-a935-47a50be7c54f",
   "metadata": {
    "execution": {
     "iopub.execute_input": "2025-07-10T22:20:38.261908Z",
     "iopub.status.busy": "2025-07-10T22:20:38.261205Z",
     "iopub.status.idle": "2025-07-10T22:20:38.414118Z",
     "shell.execute_reply": "2025-07-10T22:20:38.413381Z",
     "shell.execute_reply.started": "2025-07-10T22:20:38.261875Z"
    }
   },
   "outputs": [],
   "source": [
    "band = 'r'\n",
    "ra = 53.076\n",
    "dec = -28.11\n",
    "query = \"band.name = :band AND \\\n",
    "    visit_detector_region.region OVERLAPS POINT(:ra, :dec)\"\n",
    "bind = {\"band\": band, \"ra\": ra, \"dec\": dec}\n",
    "dataset_refs = butler.query_datasets(\"visit_image\",\n",
    "                                     where=query,\n",
    "                                     order_by=[\"visit.timespan.begin\"],\n",
    "                                     bind=bind)"
   ]
  },
  {
   "cell_type": "markdown",
   "id": "9052f8de-cd70-497d-8feb-4810442f3507",
   "metadata": {
    "execution": {
     "iopub.execute_input": "2025-07-10T19:16:59.629762Z",
     "iopub.status.busy": "2025-07-10T19:16:59.628868Z",
     "iopub.status.idle": "2025-07-10T19:16:59.634259Z",
     "shell.execute_reply": "2025-07-10T19:16:59.633392Z",
     "shell.execute_reply.started": "2025-07-10T19:16:59.629729Z"
    }
   },
   "source": [
    "visit.region can tell us all 9 detectors with the same exposure"
   ]
  },
  {
   "cell_type": "code",
   "execution_count": 102,
   "id": "3c7fd62a-f1c0-4640-a73a-bb4435d48cad",
   "metadata": {
    "execution": {
     "iopub.execute_input": "2025-07-10T23:07:26.517625Z",
     "iopub.status.busy": "2025-07-10T23:07:26.517256Z",
     "iopub.status.idle": "2025-07-10T23:07:26.806634Z",
     "shell.execute_reply": "2025-07-10T23:07:26.806038Z",
     "shell.execute_reply.started": "2025-07-10T23:07:26.517600Z"
    }
   },
   "outputs": [],
   "source": [
    "band = 'r'\n",
    "ra = 53.076\n",
    "dec = -28.11\n",
    "visit_idx = 1\n",
    "query = \"band.name = :band AND \\\n",
    "    visit.region OVERLAPS POINT(:ra, :dec)\"\n",
    "bind = {\"band\": band, \"ra\": ra, \"dec\": dec}\n",
    "dataset_refs = butler.query_datasets(\"visit_image\",\n",
    "                                     where=query,\n",
    "                                     order_by=[\"visit.timespan.begin\"],\n",
    "                                     bind=bind)"
   ]
  },
  {
   "cell_type": "code",
   "execution_count": 90,
   "id": "dbadbf2c-7113-4c33-9fd1-04696ab850e3",
   "metadata": {
    "execution": {
     "iopub.execute_input": "2025-07-10T23:04:15.368394Z",
     "iopub.status.busy": "2025-07-10T23:04:15.367106Z",
     "iopub.status.idle": "2025-07-10T23:04:15.493761Z",
     "shell.execute_reply": "2025-07-10T23:04:15.492965Z",
     "shell.execute_reply.started": "2025-07-10T23:04:15.368359Z"
    }
   },
   "outputs": [],
   "source": [
    "band = 'r'\n",
    "ra = 53.076\n",
    "dec = -28.11\n",
    "visit_idx = 1\n",
    "query = \"band.name = :band AND \\\n",
    "    patch.region OVERLAPS POINT(:ra, :dec)\"\n",
    "bind = {\"band\": band, \"ra\": ra, \"dec\": dec}\n",
    "dataset_patch = butler.query_datasets(\"template_coadd\",\n",
    "                                     where=query,\n",
    "                                     bind=bind)"
   ]
  },
  {
   "cell_type": "code",
   "execution_count": 104,
   "id": "212a181c-4e7b-4c2c-b06c-05c0951b9849",
   "metadata": {
    "execution": {
     "iopub.execute_input": "2025-07-10T23:07:55.578260Z",
     "iopub.status.busy": "2025-07-10T23:07:55.577613Z",
     "iopub.status.idle": "2025-07-10T23:07:57.582422Z",
     "shell.execute_reply": "2025-07-10T23:07:57.581603Z",
     "shell.execute_reply.started": "2025-07-10T23:07:55.578229Z"
    }
   },
   "outputs": [],
   "source": [
    "template = butler.get(dataset_patch[0])"
   ]
  },
  {
   "cell_type": "code",
   "execution_count": 115,
   "id": "6b8dcadc-f057-4623-9528-f42cb6a0273c",
   "metadata": {
    "execution": {
     "iopub.execute_input": "2025-07-10T23:15:16.551869Z",
     "iopub.status.busy": "2025-07-10T23:15:16.550868Z",
     "iopub.status.idle": "2025-07-10T23:15:16.557225Z",
     "shell.execute_reply": "2025-07-10T23:15:16.556494Z",
     "shell.execute_reply.started": "2025-07-10T23:15:16.551833Z"
    }
   },
   "outputs": [
    {
     "data": {
      "text/plain": [
       "['Factory',\n",
       " '__add__',\n",
       " '__class__',\n",
       " '__deepcopy__',\n",
       " '__delattr__',\n",
       " '__dir__',\n",
       " '__doc__',\n",
       " '__eq__',\n",
       " '__format__',\n",
       " '__ge__',\n",
       " '__getattribute__',\n",
       " '__getitem__',\n",
       " '__getstate__',\n",
       " '__gt__',\n",
       " '__hash__',\n",
       " '__init__',\n",
       " '__init_subclass__',\n",
       " '__le__',\n",
       " '__lt__',\n",
       " '__module__',\n",
       " '__mul__',\n",
       " '__ne__',\n",
       " '__new__',\n",
       " '__radd__',\n",
       " '__reduce__',\n",
       " '__reduce_ex__',\n",
       " '__repr__',\n",
       " '__rmul__',\n",
       " '__rsub__',\n",
       " '__rtruediv__',\n",
       " '__setattr__',\n",
       " '__setitem__',\n",
       " '__sizeof__',\n",
       " '__str__',\n",
       " '__sub__',\n",
       " '__subclasshook__',\n",
       " '__truediv__',\n",
       " '_get',\n",
       " '_pybind11_conduit_v1_',\n",
       " '_set',\n",
       " 'apCorrMap',\n",
       " 'clone',\n",
       " 'containsSkyCoords',\n",
       " 'convertD',\n",
       " 'convertF',\n",
       " 'convex_polygon',\n",
       " 'detector',\n",
       " 'dtype',\n",
       " 'filter',\n",
       " 'getBBox',\n",
       " 'getConvexPolygon',\n",
       " 'getCutout',\n",
       " 'getDetector',\n",
       " 'getDimensions',\n",
       " 'getFilter',\n",
       " 'getHeight',\n",
       " 'getImage',\n",
       " 'getInfo',\n",
       " 'getMask',\n",
       " 'getMaskedImage',\n",
       " 'getMetadata',\n",
       " 'getPhotoCalib',\n",
       " 'getPsf',\n",
       " 'getVariance',\n",
       " 'getWcs',\n",
       " 'getWidth',\n",
       " 'getX0',\n",
       " 'getXY0',\n",
       " 'getY0',\n",
       " 'hasPsf',\n",
       " 'hasWcs',\n",
       " 'height',\n",
       " 'image',\n",
       " 'info',\n",
       " 'mask',\n",
       " 'maskedImage',\n",
       " 'metadata',\n",
       " 'photoCalib',\n",
       " 'psf',\n",
       " 'readFits',\n",
       " 'readFitsWithOptions',\n",
       " 'setApCorrMap',\n",
       " 'setDetector',\n",
       " 'setFilter',\n",
       " 'setImage',\n",
       " 'setInfo',\n",
       " 'setMask',\n",
       " 'setMaskedImage',\n",
       " 'setMetadata',\n",
       " 'setPhotoCalib',\n",
       " 'setPsf',\n",
       " 'setVariance',\n",
       " 'setWcs',\n",
       " 'setXY0',\n",
       " 'subset',\n",
       " 'variance',\n",
       " 'visitInfo',\n",
       " 'wcs',\n",
       " 'width',\n",
       " 'writeFits',\n",
       " 'writeFitsWithOptions',\n",
       " 'x0',\n",
       " 'y0']"
      ]
     },
     "execution_count": 115,
     "metadata": {},
     "output_type": "execute_result"
    }
   ],
   "source": [
    "dir(template)"
   ]
  },
  {
   "cell_type": "code",
   "execution_count": 126,
   "id": "2631d781-9cc9-44c4-b83c-1adb2d8ba262",
   "metadata": {
    "execution": {
     "iopub.execute_input": "2025-07-10T23:22:03.232653Z",
     "iopub.status.busy": "2025-07-10T23:22:03.231803Z",
     "iopub.status.idle": "2025-07-10T23:22:03.235771Z",
     "shell.execute_reply": "2025-07-10T23:22:03.235206Z",
     "shell.execute_reply.started": "2025-07-10T23:22:03.232622Z"
    }
   },
   "outputs": [],
   "source": [
    "#template.getInfo().getMetadata()"
   ]
  },
  {
   "cell_type": "code",
   "execution_count": 131,
   "id": "d105a2ef-8738-4f00-9e16-70cde1c61bdd",
   "metadata": {
    "execution": {
     "iopub.execute_input": "2025-07-10T23:25:20.957641Z",
     "iopub.status.busy": "2025-07-10T23:25:20.956822Z",
     "iopub.status.idle": "2025-07-10T23:25:20.976779Z",
     "shell.execute_reply": "2025-07-10T23:25:20.976081Z",
     "shell.execute_reply.started": "2025-07-10T23:25:20.957604Z"
    }
   },
   "outputs": [
    {
     "ename": "NameError",
     "evalue": "name 'TractInfo' is not defined",
     "output_type": "error",
     "traceback": [
      "\u001b[0;31m---------------------------------------------------------------------------\u001b[0m",
      "\u001b[0;31mNameError\u001b[0m                                 Traceback (most recent call last)",
      "Cell \u001b[0;32mIn[131], line 2\u001b[0m\n\u001b[1;32m      1\u001b[0m \u001b[38;5;28;01mimport\u001b[39;00m\u001b[38;5;250m \u001b[39m\u001b[38;5;21;01mlsst\u001b[39;00m\u001b[38;5;21;01m.\u001b[39;00m\u001b[38;5;21;01mskymap\u001b[39;00m\n\u001b[0;32m----> 2\u001b[0m t \u001b[38;5;241m=\u001b[39m \u001b[43mTractInfo\u001b[49m()\n\u001b[1;32m      3\u001b[0m findPatch(lsst\u001b[38;5;241m.\u001b[39mgeom\u001b[38;5;241m.\u001b[39mSpherePoint(ra\u001b[38;5;241m=\u001b[39m\u001b[38;5;241m50\u001b[39m,dec\u001b[38;5;241m=\u001b[39m\u001b[38;5;241m20\u001b[39m))\n",
      "\u001b[0;31mNameError\u001b[0m: name 'TractInfo' is not defined"
     ]
    }
   ],
   "source": [
    "import lsst.skymap\n",
    "findPatch(lsst.geom.SpherePoint(ra=50,dec=20))"
   ]
  },
  {
   "cell_type": "code",
   "execution_count": 78,
   "id": "60e5923e-3087-4cbd-a5bb-a3f10a9d2183",
   "metadata": {
    "execution": {
     "iopub.execute_input": "2025-07-10T22:58:40.817240Z",
     "iopub.status.busy": "2025-07-10T22:58:40.816482Z",
     "iopub.status.idle": "2025-07-10T22:58:40.820806Z",
     "shell.execute_reply": "2025-07-10T22:58:40.820242Z",
     "shell.execute_reply.started": "2025-07-10T22:58:40.817213Z"
    }
   },
   "outputs": [
    {
     "name": "stdout",
     "output_type": "stream",
     "text": [
      "{instrument: 'LSSTComCam', detector: 4, visit: 2024110800247, band: 'r', day_obs: 20241108, physical_filter: 'r_03'}\n"
     ]
    }
   ],
   "source": [
    "for d in dataset_refs:\n",
    "    if d.dataId.get('visit') == dataset_refs[visit_idx].dataId.get('visit'):\n",
    "        print(d.dataId)"
   ]
  },
  {
   "cell_type": "code",
   "execution_count": 79,
   "id": "be12ee4e-2b25-4775-a1ca-8b5f6dc2948d",
   "metadata": {
    "execution": {
     "iopub.execute_input": "2025-07-10T22:58:41.112291Z",
     "iopub.status.busy": "2025-07-10T22:58:41.111985Z",
     "iopub.status.idle": "2025-07-10T22:58:41.115469Z",
     "shell.execute_reply": "2025-07-10T22:58:41.114895Z",
     "shell.execute_reply.started": "2025-07-10T22:58:41.112271Z"
    }
   },
   "outputs": [],
   "source": [
    "visit = dataset_refs[visit_idx]"
   ]
  },
  {
   "cell_type": "code",
   "execution_count": 80,
   "id": "ac0673c3-d539-41f3-a292-593ccb831f39",
   "metadata": {
    "execution": {
     "iopub.execute_input": "2025-07-10T22:58:43.086624Z",
     "iopub.status.busy": "2025-07-10T22:58:43.085916Z",
     "iopub.status.idle": "2025-07-10T22:58:43.090367Z",
     "shell.execute_reply": "2025-07-10T22:58:43.089826Z",
     "shell.execute_reply.started": "2025-07-10T22:58:43.086599Z"
    }
   },
   "outputs": [
    {
     "data": {
      "text/plain": [
       "{instrument: 'LSSTComCam', detector: 4, visit: 2024110800247, band: 'r', day_obs: 20241108, physical_filter: 'r_03'}"
      ]
     },
     "execution_count": 80,
     "metadata": {},
     "output_type": "execute_result"
    }
   ],
   "source": [
    "visit.dataId"
   ]
  },
  {
   "cell_type": "code",
   "execution_count": 81,
   "id": "f35ca19f-40c2-42fc-ad82-0e66390200b7",
   "metadata": {
    "execution": {
     "iopub.execute_input": "2025-07-10T22:58:45.784738Z",
     "iopub.status.busy": "2025-07-10T22:58:45.783996Z",
     "iopub.status.idle": "2025-07-10T22:58:47.625459Z",
     "shell.execute_reply": "2025-07-10T22:58:47.624637Z",
     "shell.execute_reply.started": "2025-07-10T22:58:45.784710Z"
    }
   },
   "outputs": [],
   "source": [
    "visit_img = butler.get(visit)"
   ]
  },
  {
   "cell_type": "code",
   "execution_count": null,
   "id": "350e0084-ccb6-424d-a3a3-7e6b1afdc0c6",
   "metadata": {},
   "outputs": [],
   "source": []
  },
  {
   "cell_type": "code",
   "execution_count": 11,
   "id": "9a5623fd-f07d-4de2-bbf1-3985b75517dd",
   "metadata": {
    "execution": {
     "iopub.execute_input": "2025-07-10T22:20:50.224852Z",
     "iopub.status.busy": "2025-07-10T22:20:50.223744Z",
     "iopub.status.idle": "2025-07-10T22:20:50.230146Z",
     "shell.execute_reply": "2025-07-10T22:20:50.229602Z",
     "shell.execute_reply.started": "2025-07-10T22:20:50.224824Z"
    }
   },
   "outputs": [
    {
     "data": {
      "text/plain": [
       "['Factory',\n",
       " '__add__',\n",
       " '__class__',\n",
       " '__deepcopy__',\n",
       " '__delattr__',\n",
       " '__dir__',\n",
       " '__doc__',\n",
       " '__eq__',\n",
       " '__format__',\n",
       " '__ge__',\n",
       " '__getattribute__',\n",
       " '__getitem__',\n",
       " '__getstate__',\n",
       " '__gt__',\n",
       " '__hash__',\n",
       " '__iadd__',\n",
       " '__imul__',\n",
       " '__init__',\n",
       " '__init_subclass__',\n",
       " '__isub__',\n",
       " '__itruediv__',\n",
       " '__le__',\n",
       " '__lt__',\n",
       " '__module__',\n",
       " '__mul__',\n",
       " '__ne__',\n",
       " '__new__',\n",
       " '__radd__',\n",
       " '__reduce__',\n",
       " '__reduce_ex__',\n",
       " '__repr__',\n",
       " '__rmul__',\n",
       " '__rsub__',\n",
       " '__rtruediv__',\n",
       " '__setattr__',\n",
       " '__setitem__',\n",
       " '__sizeof__',\n",
       " '__str__',\n",
       " '__sub__',\n",
       " '__subclasshook__',\n",
       " '__truediv__',\n",
       " '_get',\n",
       " '_pybind11_conduit_v1_',\n",
       " '_set',\n",
       " 'array',\n",
       " 'assign',\n",
       " 'clone',\n",
       " 'convertD',\n",
       " 'convertDouble',\n",
       " 'convertF',\n",
       " 'convertFloat',\n",
       " 'convertI',\n",
       " 'convertL',\n",
       " 'convertU',\n",
       " 'dtype',\n",
       " 'getArray',\n",
       " 'getBBox',\n",
       " 'getDimensions',\n",
       " 'getHeight',\n",
       " 'getWidth',\n",
       " 'getX0',\n",
       " 'getXY0',\n",
       " 'getY0',\n",
       " 'indexToPosition',\n",
       " 'positionToIndex',\n",
       " 'readFits',\n",
       " 'readFitsWithOptions',\n",
       " 'scaledDivides',\n",
       " 'scaledMinus',\n",
       " 'scaledMultiplies',\n",
       " 'scaledPlus',\n",
       " 'set',\n",
       " 'setXY0',\n",
       " 'sqrt',\n",
       " 'subset',\n",
       " 'writeFits',\n",
       " 'writeFitsWithOptions']"
      ]
     },
     "execution_count": 11,
     "metadata": {},
     "output_type": "execute_result"
    }
   ],
   "source": [
    "dir(visit_img.image)"
   ]
  },
  {
   "cell_type": "code",
   "execution_count": 12,
   "id": "df3eb0a5-be44-43ce-84e5-57b405c27afe",
   "metadata": {
    "execution": {
     "iopub.execute_input": "2025-07-10T22:20:50.231213Z",
     "iopub.status.busy": "2025-07-10T22:20:50.230978Z",
     "iopub.status.idle": "2025-07-10T22:20:50.252354Z",
     "shell.execute_reply": "2025-07-10T22:20:50.251669Z",
     "shell.execute_reply.started": "2025-07-10T22:20:50.231196Z"
    }
   },
   "outputs": [],
   "source": [
    "#dir(visit_img)"
   ]
  },
  {
   "cell_type": "code",
   "execution_count": 13,
   "id": "ced104c9-9136-48f8-a08c-a181287a937b",
   "metadata": {
    "execution": {
     "iopub.execute_input": "2025-07-10T22:20:50.253971Z",
     "iopub.status.busy": "2025-07-10T22:20:50.253554Z",
     "iopub.status.idle": "2025-07-10T22:20:50.275572Z",
     "shell.execute_reply": "2025-07-10T22:20:50.274993Z",
     "shell.execute_reply.started": "2025-07-10T22:20:50.253950Z"
    }
   },
   "outputs": [
    {
     "data": {
      "text/plain": [
       "lsst.daf.base.PropertyList"
      ]
     },
     "execution_count": 13,
     "metadata": {},
     "output_type": "execute_result"
    }
   ],
   "source": [
    "type(visit_img.metadata)"
   ]
  },
  {
   "cell_type": "code",
   "execution_count": 14,
   "id": "93ba7c8e-f342-4f1a-af27-e415cc65e0a0",
   "metadata": {
    "execution": {
     "iopub.execute_input": "2025-07-10T22:20:50.276485Z",
     "iopub.status.busy": "2025-07-10T22:20:50.276241Z",
     "iopub.status.idle": "2025-07-10T22:20:50.298614Z",
     "shell.execute_reply": "2025-07-10T22:20:50.298028Z",
     "shell.execute_reply.started": "2025-07-10T22:20:50.276467Z"
    }
   },
   "outputs": [
    {
     "data": {
      "text/plain": [
       "-28.0723466054328"
      ]
     },
     "execution_count": 14,
     "metadata": {},
     "output_type": "execute_result"
    }
   ],
   "source": [
    "visit_img.visitInfo.boresightRaDec.getDec().asDegrees()"
   ]
  },
  {
   "cell_type": "code",
   "execution_count": 15,
   "id": "6bbb30ed-8135-4fb9-887a-01c243e0eaaa",
   "metadata": {
    "execution": {
     "iopub.execute_input": "2025-07-10T22:20:50.299820Z",
     "iopub.status.busy": "2025-07-10T22:20:50.299323Z",
     "iopub.status.idle": "2025-07-10T22:20:50.320300Z",
     "shell.execute_reply": "2025-07-10T22:20:50.319706Z",
     "shell.execute_reply.started": "2025-07-10T22:20:50.299796Z"
    }
   },
   "outputs": [],
   "source": [
    "#dir(visit_img.visitInfo.getBoresightRaDec())"
   ]
  },
  {
   "cell_type": "code",
   "execution_count": 16,
   "id": "657487f9-cd64-4b06-aa35-1aeeb0d516e1",
   "metadata": {
    "execution": {
     "iopub.execute_input": "2025-07-10T22:20:50.321652Z",
     "iopub.status.busy": "2025-07-10T22:20:50.321237Z",
     "iopub.status.idle": "2025-07-10T22:20:50.342239Z",
     "shell.execute_reply": "2025-07-10T22:20:50.341603Z",
     "shell.execute_reply.started": "2025-07-10T22:20:50.321627Z"
    }
   },
   "outputs": [],
   "source": [
    "def pixel_to_degrees(n):\n",
    "    return 0.2 * n / 3600"
   ]
  },
  {
   "cell_type": "code",
   "execution_count": 157,
   "id": "2665e2b3-d500-46c8-b41c-cd9ffd81bc32",
   "metadata": {
    "execution": {
     "iopub.execute_input": "2025-07-11T00:16:32.011908Z",
     "iopub.status.busy": "2025-07-11T00:16:32.011468Z",
     "iopub.status.idle": "2025-07-11T00:16:32.017632Z",
     "shell.execute_reply": "2025-07-11T00:16:32.017112Z",
     "shell.execute_reply.started": "2025-07-11T00:16:32.011871Z"
    }
   },
   "outputs": [
    {
     "name": "stdout",
     "output_type": "stream",
     "text": [
      "53.28919793043086 -28.198204013567192 0.18888888888888888 0.2143253993165245\n"
     ]
    }
   ],
   "source": [
    "import numpy as np\n",
    "\n",
    "wcs = template.getWcs()\n",
    "\n",
    "patch_bbox = template.getBBox()\n",
    "\n",
    "patch_xmin = patch_bbox.getMinX()\n",
    "patch_ymin = patch_bbox.getMinY()\n",
    "patch_height = pixel_to_degrees(template.height)\n",
    "patch_width = pixel_to_degrees(template.width)\n",
    "\n",
    "#wcs = deep_coadd.wcs\n",
    "#print(dir(wcs))\n",
    "\n",
    "#print(deep_coadd.getBBox().getMin())\n",
    "wcs.pixelToSky(patch_xmin, patch_ymin) #.getRa().asDegrees()\n",
    "patch_ra_dec_min = wcs.pixelToSky(patch_xmin, patch_ymin) #.getRa().asDegrees()\n",
    "patch_ra_min = patch_ra_dec_min.getRa().asDegrees()\n",
    "patch_dec_min = patch_ra_dec_min.getDec().asDegrees()\n",
    "patch_width = patch_width / np.cos(np.deg2rad(patch_dec_min))\n",
    "#print(ra_dec_min) \n",
    "print(patch_ra_min, patch_dec_min, patch_height, patch_width)"
   ]
  },
  {
   "cell_type": "code",
   "execution_count": 158,
   "id": "e9a985d4-7945-4c11-8efc-77a24f3a83aa",
   "metadata": {
    "execution": {
     "iopub.execute_input": "2025-07-11T00:16:32.843024Z",
     "iopub.status.busy": "2025-07-11T00:16:32.842247Z",
     "iopub.status.idle": "2025-07-11T00:16:32.994967Z",
     "shell.execute_reply": "2025-07-11T00:16:32.994386Z",
     "shell.execute_reply.started": "2025-07-11T00:16:32.842996Z"
    }
   },
   "outputs": [
    {
     "data": {
      "image/png": "[encoded data removed]",
      "text/plain": [
       "<Figure size 640x480 with 1 Axes>"
      ]
     },
     "metadata": {},
     "output_type": "display_data"
    }
   ],
   "source": [
    "import matplotlib.pyplot as plt\n",
    "import matplotlib.patches as patches\n",
    "\n",
    "ra = visit_img.visitInfo.boresightRaDec.getRa().asDegrees()\n",
    "dec = visit_img.visitInfo.boresightRaDec.getDec().asDegrees()\n",
    "\n",
    "bbox = visit_img.getBBox()\n",
    "\n",
    "# Rectangle parameters\n",
    "center = (ra, dec)        # (x, y)\n",
    "width = pixel_to_degrees(bbox.getMaxX())              # Length along x-axis before rotation\n",
    "height = pixel_to_degrees(bbox.getMaxY())             # Length along y-axis before rotation\n",
    "angle = visit_img.visitInfo.boresightRotAngle.asDegrees()             # Degrees counter-clockwise\n",
    "\n",
    "# Convert center to bottom-left corner, accounting for rotation\n",
    "# The Rectangle class expects the lower-left corner\n",
    "# So we just specify center as the anchor point for simplicity using transform\n",
    "\n",
    "# Create figure and axes\n",
    "fig, ax = plt.subplots()\n",
    "ax.plot([ra],[dec], 'x')\n",
    "# Create rectangle\n",
    "rect = patches.Rectangle(\n",
    "    (center[0] - width / 2, center[1] - height / 2),  # lower-left corner\n",
    "    width,\n",
    "    height,\n",
    "    angle=-angle,\n",
    "    rotation_point = 'center',\n",
    "    linewidth=2,\n",
    "    edgecolor='blue',\n",
    "    facecolor='none'\n",
    ")\n",
    "\n",
    "patch_rect = patches.Rectangle(\n",
    "    (patch_ra_min, patch_dec_min),  # lower-left corner\n",
    "    -patch_width,\n",
    "    patch_height,\n",
    "    angle=0,\n",
    "    rotation_point = 'center',\n",
    "    linewidth=2,\n",
    "    edgecolor='red',\n",
    "    facecolor='none'\n",
    ")\n",
    "\n",
    "plt.xlabel(\"RA [deg]\")\n",
    "plt.ylabel(\"DEC [deg]\")\n",
    "\n",
    "# Add rectangle to plot\n",
    "ax.add_patch(rect)\n",
    "ax.add_patch(patch_rect)\n",
    "\n",
    "ax.invert_xaxis()\n",
    "\n",
    "theta_rad = np.deg2rad(-angle)\n",
    "\n",
    "dx = 0.05 * np.cos(theta_rad)\n",
    "dy = 0.05 * np.sin(theta_rad)\n",
    "\n",
    "plt.arrow(ra, dec, -dx, -dy,\n",
    "          head_width=0.01, head_length=0.01, fc='black', ec='black')# Set axis limits and aspect\n",
    "plt.arrow(ra, dec, -dy, dx,\n",
    "          head_width=0.01, head_length=0.01, fc='black', ec='black')# Set axis limits and aspect\n",
    "\n",
    "plt.annotate('x', xy=(ra - dx/0.7, dec - dy/0.7))\n",
    "plt.annotate('y', xy=(ra-dy/0.7,dec+dx/0.7))\n",
    "#ax.set_xlim(0, 10000)\n",
    "#ax.set_ylim(0, 10000)\n",
    "ax.set_aspect('equal')\n",
    "\n",
    "plt.grid(ls=':')"
   ]
  },
  {
   "cell_type": "code",
   "execution_count": 18,
   "id": "af9ee6bc-edff-47da-8fc0-3d7747e07a79",
   "metadata": {
    "execution": {
     "iopub.execute_input": "2025-07-10T22:20:50.852348Z",
     "iopub.status.busy": "2025-07-10T22:20:50.851596Z",
     "iopub.status.idle": "2025-07-10T22:20:50.855608Z",
     "shell.execute_reply": "2025-07-10T22:20:50.855020Z",
     "shell.execute_reply.started": "2025-07-10T22:20:50.852308Z"
    }
   },
   "outputs": [
    {
     "name": "stdout",
     "output_type": "stream",
     "text": [
      "(53.3274246636802, -28.0723466054328)\n"
     ]
    }
   ],
   "source": [
    "print(center)"
   ]
  },
  {
   "cell_type": "code",
   "execution_count": 19,
   "id": "e4b3303e-aaae-477c-b991-d274c8e3795e",
   "metadata": {
    "execution": {
     "iopub.execute_input": "2025-07-10T22:20:51.857373Z",
     "iopub.status.busy": "2025-07-10T22:20:51.856682Z",
     "iopub.status.idle": "2025-07-10T22:20:51.862382Z",
     "shell.execute_reply": "2025-07-10T22:20:51.861585Z",
     "shell.execute_reply.started": "2025-07-10T22:20:51.857343Z"
    }
   },
   "outputs": [
    {
     "data": {
      "text/plain": [
       "102.79934100531"
      ]
     },
     "execution_count": 19,
     "metadata": {},
     "output_type": "execute_result"
    }
   ],
   "source": [
    "visit_img.visitInfo.getBoresightRotAngle().asDegrees()"
   ]
  },
  {
   "cell_type": "code",
   "execution_count": 82,
   "id": "940657b4-81ed-4d1a-8c88-6926951c47af",
   "metadata": {
    "execution": {
     "iopub.execute_input": "2025-07-10T22:58:57.957002Z",
     "iopub.status.busy": "2025-07-10T22:58:57.956229Z",
     "iopub.status.idle": "2025-07-10T22:58:58.086498Z",
     "shell.execute_reply": "2025-07-10T22:58:58.085766Z",
     "shell.execute_reply.started": "2025-07-10T22:58:57.956963Z"
    }
   },
   "outputs": [],
   "source": [
    "afwDisplay.setDefaultBackend('firefly')\n",
    "afw_display = afwDisplay.Display(frame=1)"
   ]
  },
  {
   "cell_type": "code",
   "execution_count": 116,
   "id": "1a9afe62-fe78-44f9-bf95-e2aab6d6c1ed",
   "metadata": {
    "execution": {
     "iopub.execute_input": "2025-07-10T23:16:36.213713Z",
     "iopub.status.busy": "2025-07-10T23:16:36.213000Z",
     "iopub.status.idle": "2025-07-10T23:16:37.351067Z",
     "shell.execute_reply": "2025-07-10T23:16:37.350306Z",
     "shell.execute_reply.started": "2025-07-10T23:16:36.213667Z"
    }
   },
   "outputs": [],
   "source": [
    "afw_display.mtv(template)"
   ]
  },
  {
   "cell_type": "code",
   "execution_count": 117,
   "id": "5be3876e-4e54-406d-ac05-e37472c1276b",
   "metadata": {
    "execution": {
     "iopub.execute_input": "2025-07-10T23:16:39.085039Z",
     "iopub.status.busy": "2025-07-10T23:16:39.084568Z",
     "iopub.status.idle": "2025-07-10T23:16:39.179682Z",
     "shell.execute_reply": "2025-07-10T23:16:39.178846Z",
     "shell.execute_reply.started": "2025-07-10T23:16:39.085001Z"
    }
   },
   "outputs": [],
   "source": [
    "afw_display.setMaskTransparency(100)"
   ]
  },
  {
   "cell_type": "markdown",
   "id": "20d3886d-9d0a-4fc2-a14d-ae7bd423a0a8",
   "metadata": {},
   "source": [
    "Setting Mask Transparency to 0 shows many colors.\n",
    "- Yellow: The most saturated parts that exceed an assigned maximum. The Green areas surrounding are the edge-detected bodies drawn around these high points\n",
    "- Green: Saturated Stars\n",
    "- Cyan: Cross-talk between amplifiers - When yellow areas have these overflowed electrons, there is a high signal that creates signal interference that spikes at regular intervals on the sides of where they are read.\n",
    "  - There are 8 amplifiers\n",
    "- Dark Blue: Detected Sources\n",
    "- Green Lines: Defects in the CCD\n",
    "\n",
    "The vertical \"bleed trails\" come from the incoming electrons overflowing into other pixels, they are vertical due to the physical design of the detector"
   ]
  },
  {
   "cell_type": "code",
   "execution_count": 23,
   "id": "e33f4ad3-76ce-455e-abeb-781c322c5841",
   "metadata": {
    "execution": {
     "iopub.execute_input": "2025-07-10T22:20:54.163515Z",
     "iopub.status.busy": "2025-07-10T22:20:54.163264Z",
     "iopub.status.idle": "2025-07-10T22:20:54.166836Z",
     "shell.execute_reply": "2025-07-10T22:20:54.166084Z",
     "shell.execute_reply.started": "2025-07-10T22:20:54.163497Z"
    }
   },
   "outputs": [],
   "source": [
    "visit_wcs = visit_img.getWcs()"
   ]
  },
  {
   "cell_type": "code",
   "execution_count": 24,
   "id": "797a0985-52c5-4140-87eb-6e7e396b12c3",
   "metadata": {
    "execution": {
     "iopub.execute_input": "2025-07-10T22:20:54.168211Z",
     "iopub.status.busy": "2025-07-10T22:20:54.167888Z",
     "iopub.status.idle": "2025-07-10T22:20:54.189900Z",
     "shell.execute_reply": "2025-07-10T22:20:54.189095Z",
     "shell.execute_reply.started": "2025-07-10T22:20:54.168191Z"
    }
   },
   "outputs": [],
   "source": [
    "#dir(visit_wcs)"
   ]
  },
  {
   "cell_type": "code",
   "execution_count": null,
   "id": "0f37efdc-e474-4adf-a765-b57a1ba412cc",
   "metadata": {},
   "outputs": [],
   "source": []
  },
  {
   "cell_type": "code",
   "execution_count": 25,
   "id": "fa99bee8-42e7-4ffd-a424-d56bb280df55",
   "metadata": {
    "execution": {
     "iopub.execute_input": "2025-07-10T22:20:54.304856Z",
     "iopub.status.busy": "2025-07-10T22:20:54.304068Z",
     "iopub.status.idle": "2025-07-10T22:20:56.498600Z",
     "shell.execute_reply": "2025-07-10T22:20:56.497716Z",
     "shell.execute_reply.started": "2025-07-10T22:20:54.304831Z"
    }
   },
   "outputs": [
    {
     "data": {
      "text/plain": [
       "Angle(0.090420935441901773, degrees)"
      ]
     },
     "execution_count": 25,
     "metadata": {},
     "output_type": "execute_result"
    }
   ],
   "source": [
    "visit2_wcs = butler.get(dataset_refs[1]).getWcs()\n",
    "visit_wcs.getRelativeRotationToWcs(visit2_wcs)"
   ]
  },
  {
   "cell_type": "code",
   "execution_count": 26,
   "id": "a5c322af-e5b1-44da-9660-4f2fa95a5a02",
   "metadata": {
    "execution": {
     "iopub.execute_input": "2025-07-10T22:20:56.500124Z",
     "iopub.status.busy": "2025-07-10T22:20:56.499873Z",
     "iopub.status.idle": "2025-07-10T22:20:56.504928Z",
     "shell.execute_reply": "2025-07-10T22:20:56.504266Z",
     "shell.execute_reply.started": "2025-07-10T22:20:56.500104Z"
    }
   },
   "outputs": [
    {
     "data": {
      "text/plain": [
       "SpherePoint(53.32742466368016*degrees, -28.072346605432806*degrees)"
      ]
     },
     "execution_count": 26,
     "metadata": {},
     "output_type": "execute_result"
    }
   ],
   "source": [
    "visit_wcs.getSkyOrigin()"
   ]
  },
  {
   "cell_type": "code",
   "execution_count": 27,
   "id": "0171b4b3-f202-4316-8c59-6b97fb1dde88",
   "metadata": {
    "execution": {
     "iopub.execute_input": "2025-07-10T22:20:56.505921Z",
     "iopub.status.busy": "2025-07-10T22:20:56.505636Z",
     "iopub.status.idle": "2025-07-10T22:20:56.528292Z",
     "shell.execute_reply": "2025-07-10T22:20:56.527545Z",
     "shell.execute_reply.started": "2025-07-10T22:20:56.505903Z"
    }
   },
   "outputs": [
    {
     "data": {
      "text/plain": [
       "Angle(5.5673719047969401e-05, degrees)"
      ]
     },
     "execution_count": 27,
     "metadata": {},
     "output_type": "execute_result"
    }
   ],
   "source": [
    "visit_wcs.getPixelScale()"
   ]
  },
  {
   "cell_type": "code",
   "execution_count": 28,
   "id": "a2da7c2c-38a0-46ef-8030-754fbfacfd60",
   "metadata": {
    "execution": {
     "iopub.execute_input": "2025-07-10T22:20:56.529980Z",
     "iopub.status.busy": "2025-07-10T22:20:56.529466Z",
     "iopub.status.idle": "2025-07-10T22:20:56.550421Z",
     "shell.execute_reply": "2025-07-10T22:20:56.549927Z",
     "shell.execute_reply.started": "2025-07-10T22:20:56.529948Z"
    }
   },
   "outputs": [
    {
     "data": {
      "text/plain": [
       "lsst.afw.geom.TransformPoint2ToSpherePoint[2->2]"
      ]
     },
     "execution_count": 28,
     "metadata": {},
     "output_type": "execute_result"
    }
   ],
   "source": [
    "visit_wcs.getTransform()"
   ]
  },
  {
   "cell_type": "code",
   "execution_count": 29,
   "id": "914a7e0d-e5b2-4a24-9430-de3c93300890",
   "metadata": {
    "execution": {
     "iopub.execute_input": "2025-07-10T22:20:56.551195Z",
     "iopub.status.busy": "2025-07-10T22:20:56.550994Z",
     "iopub.status.idle": "2025-07-10T22:20:56.573274Z",
     "shell.execute_reply": "2025-07-10T22:20:56.572801Z",
     "shell.execute_reply.started": "2025-07-10T22:20:56.551178Z"
    }
   },
   "outputs": [
    {
     "data": {
      "text/plain": [
       "SpherePoint(52.9138818007846*degrees, -28.046739835197236*degrees)"
      ]
     },
     "execution_count": 29,
     "metadata": {},
     "output_type": "execute_result"
    }
   ],
   "source": [
    "visit_wcs.pixelToSky(x=12., y=13.)"
   ]
  },
  {
   "cell_type": "code",
   "execution_count": 30,
   "id": "74118c68-6dec-4a79-a22b-4af8ef30a915",
   "metadata": {
    "execution": {
     "iopub.execute_input": "2025-07-10T22:20:56.574113Z",
     "iopub.status.busy": "2025-07-10T22:20:56.573897Z",
     "iopub.status.idle": "2025-07-10T22:20:56.594779Z",
     "shell.execute_reply": "2025-07-10T22:20:56.594298Z",
     "shell.execute_reply.started": "2025-07-10T22:20:56.574097Z"
    }
   },
   "outputs": [],
   "source": [
    "#visit_wcs.linearizePixelToSky(x=12., y=13.)"
   ]
  },
  {
   "cell_type": "code",
   "execution_count": 31,
   "id": "b898a694-8b8d-4f3d-b4b3-9fe5a0708705",
   "metadata": {
    "execution": {
     "iopub.execute_input": "2025-07-10T22:20:56.595580Z",
     "iopub.status.busy": "2025-07-10T22:20:56.595391Z",
     "iopub.status.idle": "2025-07-10T22:20:56.736573Z",
     "shell.execute_reply": "2025-07-10T22:20:56.735786Z",
     "shell.execute_reply.started": "2025-07-10T22:20:56.595565Z"
    }
   },
   "outputs": [
    {
     "ename": "ValueError",
     "evalue": "vsplit only works on arrays of 2 or more dimensions",
     "output_type": "error",
     "traceback": [
      "\u001b[0;31m---------------------------------------------------------------------------\u001b[0m",
      "\u001b[0;31mValueError\u001b[0m                                Traceback (most recent call last)",
      "Cell \u001b[0;32mIn[31], line 1\u001b[0m\n\u001b[0;32m----> 1\u001b[0m \u001b[43mvisit_wcs\u001b[49m\u001b[38;5;241;43m.\u001b[39;49m\u001b[43mskyToPixelArray\u001b[49m\u001b[43m(\u001b[49m\u001b[43mra\u001b[49m\u001b[38;5;241;43m=\u001b[39;49m\u001b[38;5;241;43m53\u001b[39;49m\u001b[43m,\u001b[49m\u001b[43mdec\u001b[49m\u001b[38;5;241;43m=\u001b[39;49m\u001b[38;5;241;43m-\u001b[39;49m\u001b[38;5;241;43m28\u001b[39;49m\u001b[43m)\u001b[49m\n",
      "File \u001b[0;32m/opt/lsst/software/stack/conda/envs/lsst-scipipe-10.0.0/share/eups/Linux64/afw/g88f4e072da+7005418d1d/python/lsst/afw/geom/skyWcs.py:100\u001b[0m, in \u001b[0;36mSkyWcs.skyToPixelArray\u001b[0;34m(self, ra, dec, degrees)\u001b[0m\n\u001b[1;32m     97\u001b[0m \u001b[38;5;28;01mif\u001b[39;00m degrees:\n\u001b[1;32m     98\u001b[0m     radec \u001b[38;5;241m=\u001b[39m np\u001b[38;5;241m.\u001b[39mdeg2rad(radec)\n\u001b[0;32m--> 100\u001b[0m x, y \u001b[38;5;241m=\u001b[39m \u001b[43mnp\u001b[49m\u001b[38;5;241;43m.\u001b[39;49m\u001b[43mvsplit\u001b[49m\u001b[43m(\u001b[49m\u001b[38;5;28;43mself\u001b[39;49m\u001b[38;5;241;43m.\u001b[39;49m\u001b[43mgetTransform\u001b[49m\u001b[43m(\u001b[49m\u001b[43m)\u001b[49m\u001b[38;5;241;43m.\u001b[39;49m\u001b[43mgetMapping\u001b[49m\u001b[43m(\u001b[49m\u001b[43m)\u001b[49m\u001b[38;5;241;43m.\u001b[39;49m\u001b[43mapplyInverse\u001b[49m\u001b[43m(\u001b[49m\u001b[43mradec\u001b[49m\u001b[43m)\u001b[49m\u001b[43m,\u001b[49m\u001b[43m \u001b[49m\u001b[38;5;241;43m2\u001b[39;49m\u001b[43m)\u001b[49m\n\u001b[1;32m    102\u001b[0m \u001b[38;5;28;01mreturn\u001b[39;00m x\u001b[38;5;241m.\u001b[39mravel(), y\u001b[38;5;241m.\u001b[39mravel()\n",
      "File \u001b[0;32m~/.local/lib/python3.12/site-packages/numpy/lib/shape_base.py:988\u001b[0m, in \u001b[0;36mvsplit\u001b[0;34m(ary, indices_or_sections)\u001b[0m\n\u001b[1;32m    945\u001b[0m \u001b[38;5;250m\u001b[39m\u001b[38;5;124;03m\"\"\"\u001b[39;00m\n\u001b[1;32m    946\u001b[0m \u001b[38;5;124;03mSplit an array into multiple sub-arrays vertically (row-wise).\u001b[39;00m\n\u001b[1;32m    947\u001b[0m \n\u001b[0;32m   (...)\u001b[0m\n\u001b[1;32m    985\u001b[0m \n\u001b[1;32m    986\u001b[0m \u001b[38;5;124;03m\"\"\"\u001b[39;00m\n\u001b[1;32m    987\u001b[0m \u001b[38;5;28;01mif\u001b[39;00m _nx\u001b[38;5;241m.\u001b[39mndim(ary) \u001b[38;5;241m<\u001b[39m \u001b[38;5;241m2\u001b[39m:\n\u001b[0;32m--> 988\u001b[0m     \u001b[38;5;28;01mraise\u001b[39;00m \u001b[38;5;167;01mValueError\u001b[39;00m(\u001b[38;5;124m'\u001b[39m\u001b[38;5;124mvsplit only works on arrays of 2 or more dimensions\u001b[39m\u001b[38;5;124m'\u001b[39m)\n\u001b[1;32m    989\u001b[0m \u001b[38;5;28;01mreturn\u001b[39;00m split(ary, indices_or_sections, \u001b[38;5;241m0\u001b[39m)\n",
      "\u001b[0;31mValueError\u001b[0m: vsplit only works on arrays of 2 or more dimensions"
     ]
    }
   ],
   "source": [
    "visit_wcs.skyToPixelArray(ra=53,dec=-28)"
   ]
  },
  {
   "cell_type": "code",
   "execution_count": null,
   "id": "2ec50b54-0920-425f-bab7-694164348148",
   "metadata": {},
   "outputs": [],
   "source": []
  },
  {
   "cell_type": "code",
   "execution_count": 32,
   "id": "a155129d-05a6-48ed-9c39-0bfe2385d8a2",
   "metadata": {
    "execution": {
     "iopub.execute_input": "2025-07-10T22:20:56.937290Z",
     "iopub.status.busy": "2025-07-10T22:20:56.936470Z",
     "iopub.status.idle": "2025-07-10T22:20:56.941912Z",
     "shell.execute_reply": "2025-07-10T22:20:56.941449Z",
     "shell.execute_reply.started": "2025-07-10T22:20:56.937260Z"
    }
   },
   "outputs": [
    {
     "data": {
      "text/plain": [
       "array([[ 1.24379035e-05,  5.42678324e-05],\n",
       "       [ 5.42700607e-05, -1.24172118e-05]])"
      ]
     },
     "execution_count": 32,
     "metadata": {},
     "output_type": "execute_result"
    }
   ],
   "source": [
    "visit_wcs.getCdMatrix()"
   ]
  },
  {
   "cell_type": "code",
   "execution_count": null,
   "id": "1e5c762b-aa32-4e02-a86d-965ded380dc0",
   "metadata": {},
   "outputs": [],
   "source": []
  },
  {
   "cell_type": "markdown",
   "id": "cf57d6c4-44a6-4936-8690-a358f7434d17",
   "metadata": {},
   "source": [
    "The matrix gives the transformation from pixels to ra,dec in degrees: \n",
    "> New system coords = position * (cdmatrix containing deltax and deltay) + \"origin coordinate\""
   ]
  },
  {
   "cell_type": "code",
   "execution_count": 33,
   "id": "972c737b-f9d8-4f99-9992-0ab34efc8141",
   "metadata": {
    "execution": {
     "iopub.execute_input": "2025-07-10T22:20:57.946360Z",
     "iopub.status.busy": "2025-07-10T22:20:57.945964Z",
     "iopub.status.idle": "2025-07-10T22:20:58.028851Z",
     "shell.execute_reply": "2025-07-10T22:20:58.028189Z",
     "shell.execute_reply.started": "2025-07-10T22:20:57.946313Z"
    }
   },
   "outputs": [],
   "source": [
    "for i in range(20):\n",
    "    afw_display.dot(\"o\", 1844, 970, size=500, ctype=\"red\")"
   ]
  },
  {
   "cell_type": "markdown",
   "id": "57cf4074-c908-4e19-93de-be6a0ccd73d5",
   "metadata": {},
   "source": [
    "getFitsMetadata() gives information about any distortions resolved in the final image\n",
    "- CRPIX: Coordinate Reference Pixel\n",
    "- CRVAL: Ra(CRVAL1),Dec(CRVAL2) for the origin\n",
    "- CD1/2_1/2: Elements of the matrix\n",
    "- A_X_Y: Should be small numbers informing of distortions"
   ]
  },
  {
   "cell_type": "code",
   "execution_count": 34,
   "id": "e0ecce45-00ab-4b80-823c-ed281465d67d",
   "metadata": {
    "execution": {
     "iopub.execute_input": "2025-07-10T22:20:59.035127Z",
     "iopub.status.busy": "2025-07-10T22:20:59.034468Z",
     "iopub.status.idle": "2025-07-10T22:20:59.037874Z",
     "shell.execute_reply": "2025-07-10T22:20:59.037374Z",
     "shell.execute_reply.started": "2025-07-10T22:20:59.035097Z"
    }
   },
   "outputs": [],
   "source": [
    "#visit_wcs.getFitsMetadata()"
   ]
  },
  {
   "cell_type": "code",
   "execution_count": 35,
   "id": "8504dc84-0850-42bd-a4fc-8c574d8ddf55",
   "metadata": {
    "execution": {
     "iopub.execute_input": "2025-07-10T22:20:59.371025Z",
     "iopub.status.busy": "2025-07-10T22:20:59.370640Z",
     "iopub.status.idle": "2025-07-10T22:20:59.375509Z",
     "shell.execute_reply": "2025-07-10T22:20:59.374991Z",
     "shell.execute_reply.started": "2025-07-10T22:20:59.370997Z"
    }
   },
   "outputs": [
    {
     "data": {
      "text/plain": [
       "102.79934100531"
      ]
     },
     "execution_count": 35,
     "metadata": {},
     "output_type": "execute_result"
    }
   ],
   "source": [
    "visit_img.getInfo().getVisitInfo().boresightRotAngle.asDegrees()"
   ]
  },
  {
   "cell_type": "code",
   "execution_count": 36,
   "id": "127dffb1-fa95-4c77-a6fc-9bcd6040f6b4",
   "metadata": {
    "execution": {
     "iopub.execute_input": "2025-07-10T22:20:59.550100Z",
     "iopub.status.busy": "2025-07-10T22:20:59.549745Z",
     "iopub.status.idle": "2025-07-10T22:20:59.554533Z",
     "shell.execute_reply": "2025-07-10T22:20:59.554046Z",
     "shell.execute_reply.started": "2025-07-10T22:20:59.550075Z"
    }
   },
   "outputs": [
    {
     "data": {
      "text/plain": [
       "VisitInfo(exposureTime=30, darkTime=30.4398, date=2024-11-09T06:13:26.028993809, UT1=nan, ERA=2.4749 rad, boresightRaDec=(53.3274246637, -28.0723466054), boresightAzAlt=(273.9478839205, +74.4073000880), boresightAirmass=1.03814, boresightRotAngle=1.79419 rad, rotType=1, observatory=-30.2446N, -70.7494E  2663, weather=Weather(14.375, 74135, 17.05), instrumentLabel='LSSTComCam', id=2024110800246, focusZ=2.07136, observationType='science', scienceProgram='PP-SURVEY', observationReason='science', object='slew_icrs', hasSimulatedContent=false)"
      ]
     },
     "execution_count": 36,
     "metadata": {},
     "output_type": "execute_result"
    }
   ],
   "source": [
    "visit_img.getInfo().getVisitInfo()"
   ]
  },
  {
   "cell_type": "code",
   "execution_count": null,
   "id": "e0a3114b-22d5-4ffe-9ad4-17578d49f880",
   "metadata": {},
   "outputs": [],
   "source": []
  }
 ],
 "metadata": {
  "kernelspec": {
   "display_name": "LSST",
   "language": "python",
   "name": "lsst"
  },
  "language_info": {
   "codemirror_mode": {
    "name": "ipython",
    "version": 3
   },
   "file_extension": ".py",
   "mimetype": "text/x-python",
   "name": "python",
   "nbconvert_exporter": "python",
   "pygments_lexer": "ipython3",
   "version": "3.12.11"
  }
 },
 "nbformat": 4,
 "nbformat_minor": 5
}
