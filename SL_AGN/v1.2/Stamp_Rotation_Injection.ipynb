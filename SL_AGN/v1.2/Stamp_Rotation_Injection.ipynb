{
 "cells": [
  {
   "cell_type": "markdown",
   "id": "24982879-1074-4d39-b5e4-a037981097db",
   "metadata": {},
   "source": [
    "# Stamp Rotation & Injection Tutorial Notebook\n",
    "\n",
    "For the Rubin Science Platform at <a href=\"https://data.lsst.cloud\">data.lsst.cloud</a><br>\n",
    "Data Release: <a href=\"https://dp1.lsst.io/\">Data Preview 1 (DP1)</a> <br>\n",
    "\n",
    "**Learning Objective:** To learn how to appropriately rotate injected stamps into DP1 data. \n",
    "\n",
    "**LSST Data Products:** `visit_image`, `deep_coadd`\n",
    "\n",
    "**Packages:** `lsst.daf.butler`, `lsst.rsp`, `lsst.source.injection`, `lsst.afw.display`\n",
    "\n",
    "**Credit:** This notebook was created by Dhruv Sharma using code developed by Shenming Fu (SLAC National Accelerator Laboratory)"
   ]
  },
  {
   "cell_type": "markdown",
   "id": "ed63bc01-0e0c-4d61-a6d8-318396dac4ea",
   "metadata": {
    "execution": {
     "iopub.execute_input": "2025-07-18T17:36:53.514873Z",
     "iopub.status.busy": "2025-07-18T17:36:53.514552Z",
     "iopub.status.idle": "2025-07-18T17:36:53.519404Z",
     "shell.execute_reply": "2025-07-18T17:36:53.518588Z",
     "shell.execute_reply.started": "2025-07-18T17:36:53.514845Z"
    }
   },
   "source": [
    "## 1. Introduction\n",
    "\n",
    "Injecting stamps (in the form of `.fits` files) enables us to insert many different kinds of sources beyond the standard `Star` and `Sersic` models already provided in our catalog generation methods. However, stamps are always injected the same way in all images, irrespective of what orientation that image has.\n",
    "\n",
    "This means that injecting into `deep_coadd` and `visit_image` data must be a considered process, as we know `deep_coadd`s cover a single patch and are provided to us aligned to the ra,dec coordinate system, whereas `visit_image`s may be rotated by a given boresight angle (counterclockwise from +y). Therefore, if we want our stamps to remain consistent in their orientation between both products, we must rotate stamps injected into a `visit_image` relative to the `deep_coadd`."
   ]
  },
  {
   "cell_type": "markdown",
   "id": "2add05cd-3096-4216-b1ec-309c42ded3b7",
   "metadata": {},
   "source": [
    "### 1.1. Import packages\n",
    "\n",
    "Import all the packages we'll need in this tutorial, starting with `lsst.daf.butler` to query DP1 images. We'll use the `lsst.source.injection` module extensively to generate and inject our stamp catalogs, as well as some modules of `lsst.afw` for help performing the stamp rotations. Also import some of our files from `lib` to access their helpful methods."
   ]
  },
  {
   "cell_type": "code",
   "execution_count": null,
   "id": "adcb2a07-86c2-4086-bf52-67d87da1eaef",
   "metadata": {},
   "outputs": [],
   "source": [
    "from lsst.daf.butler import Butler\n",
    "import lsst.afw.display as afwDisplay\n",
    "import lsst.afw.image as afwImage\n",
    "from lsst.source.injection import generate_injection_catalog\n",
    "from lsst.source.injection import VisitInjectConfig, VisitInjectTask\n",
    "from lsst.source.injection import CoaddInjectConfig, CoaddInjectTask\n",
    "import matplotlib.pyplot as plt\n",
    "%matplotlib inline\n",
    "from astropy.table import Table, vstack\n",
    "from lib.visual import *\n",
    "from lib.inject import *\n",
    "from lib.stamp import *"
   ]
  },
  {
   "cell_type": "markdown",
   "id": "fba93fc8-8d02-4cc3-adff-05f53f987612",
   "metadata": {},
   "source": [
    "Run the below cell to specify that we want matplotlib to draw plots directly within the Jupyter Notebook."
   ]
  },
  {
   "cell_type": "code",
   "execution_count": null,
   "id": "9feccade-0c49-4f82-920b-80704651f4ed",
   "metadata": {},
   "outputs": [],
   "source": [
    "%matplotlib inline"
   ]
  },
  {
   "cell_type": "markdown",
   "id": "6730a822-efce-4d87-befc-b05b96d939c2",
   "metadata": {},
   "source": [
    "### 1.2. Using the Butler to retrieve visit images\n",
    "\n",
    "Create a new instance of the Butler configured to query DP1 data from the LSSTComCam."
   ]
  },
  {
   "cell_type": "code",
   "execution_count": null,
   "id": "6e5bd620-7cd2-487d-ac54-2f2a2c9a9c71",
   "metadata": {},
   "outputs": [],
   "source": [
    "BUTLER_CONFIG = \"dp1\"\n",
    "COLLECTIONS = \"LSSTComCam/DP1\"\n",
    "butler = Butler(BUTLER_CONFIG, collections=COLLECTIONS) \n",
    "afwDisplay.setDefaultBackend(\"matplotlib\")\n",
    "afw_display = afwDisplay.Display(frame=1)"
   ]
  },
  {
   "cell_type": "markdown",
   "id": "225e213b-5739-43ef-82aa-6a6dde2d3c1e",
   "metadata": {},
   "source": [
    "Use the Butler's `query_datasets` method to find `visit_image`s corresponding to the  band and ra,dec (right-ascension, declination) coordinates given in the \"bind\" of the formatted string, in this case:\n",
    ">ra = 37.93, dec = 6.93 <br>\n",
    ">band = 'r'\n",
    "\n",
    "There can and often may be be multiple visit images covering the same ra,dec position, as seen by printing the length of `visit_data`."
   ]
  },
  {
   "cell_type": "code",
   "execution_count": null,
   "id": "c1af8ba8-91d2-47dc-b0bf-5ab31fcbb933",
   "metadata": {},
   "outputs": [],
   "source": [
    "ra=37.93\n",
    "dec=6.93\n",
    "band = 'r'\n",
    "query = \"band.name = :band AND \\\n",
    "    visit_detector_region.region OVERLAPS POINT(:ra, :dec)\"\n",
    "bind = {\"band\": band, \"ra\": ra, \"dec\": dec}\n",
    "visit_data = butler.query_datasets(\"visit_image\",\n",
    "                                     where=query,\n",
    "                                     order_by=[\"visit.timespan.begin\"],\n",
    "                                     bind=bind)\n",
    "\n",
    "print(len(visit_data))"
   ]
  },
  {
   "cell_type": "markdown",
   "id": "37a1b67c-33d3-443e-8b77-fa50c529c1bc",
   "metadata": {},
   "source": [
    "We hope to inject sources into both a `visit_image` and a `deep_coadd` image, so we should choose a visit that shares significant overlap with the coadd. For the sake of this tutorial, we'll retrieve the image of index 4 from the `visit_data` dataset containing all the visits that fulfilled the criteria laid out in our query."
   ]
  },
  {
   "cell_type": "code",
   "execution_count": null,
   "id": "f7a0a1d2-d7b1-4ca5-8568-b022a1e0b16f",
   "metadata": {},
   "outputs": [],
   "source": [
    "visit = butler.get(visit_data[4])"
   ]
  },
  {
   "cell_type": "markdown",
   "id": "0464decd-6ef9-4131-a814-4bcc5a6cf65b",
   "metadata": {},
   "source": [
    "Also get a few parameters of the visit image that we'll need to perform our catalog generation and injection. Namely, the `visit_wcs`, or World Coordinate System of the visit image, as well as the `visit_psf` or point-spread function and the photo calibrations `visit_photo_calib`."
   ]
  },
  {
   "cell_type": "code",
   "execution_count": null,
   "id": "5ae6fce2-32cd-4529-90a6-da842bf52546",
   "metadata": {},
   "outputs": [],
   "source": [
    "visit_wcs = visit.getWcs()\n",
    "visit_psf = visit.getPsf()\n",
    "visit_photo_calib = visit.getPhotoCalib()"
   ]
  },
  {
   "cell_type": "markdown",
   "id": "539a0e1f-4310-478c-9f6d-5131a860c54f",
   "metadata": {},
   "source": [
    "## 2. Injecting Rotated Stamps into Visit Images\n",
    "\n",
    "With our `visit_image` information in hand, let's try to generate a catalog of SL-AGN stamps to inject into it. \n",
    "\n",
    "### 2.1. Getting SL-AGN Stamps From .fits Files\n",
    "\n",
    "Now let's specify both our stamp magnitude and more importantly, which file we want to use. Stamps are stored as `.fits` files, which we have stored in the `fig` folder. Since this tutorial is concerned with rotations of stamps and stamp catalogs, not necessarily their magnitude or the stamps used themselves, we will use one fixed magnitude and stamp for all our injections today.\n",
    "\n",
    "Our original stamp is stored in the file `system_1_0.fits`, though we won't use it for long. To rotate our stamp to match the orientations of other images, our stamp needs to have its own WCS information, which `.fits` files do not carry automatically. Thus, we'll use the `add_wcs` method to give our stamp a WCS and save it to a new file, `system_1_0_wcs.fits` in the same `fig` folder."
   ]
  },
  {
   "cell_type": "code",
   "execution_count": null,
   "id": "88a5a2c2-f4bd-4d21-91fc-a35f482ab7cd",
   "metadata": {},
   "outputs": [],
   "source": [
    "stamp_mag = 15\n",
    "stamp_filename = \"fig/system_1_0.fits\"\n",
    "add_wcs(stamp_filename)\n",
    "wcs_stamp_filename = \"%s_wcs.fits\"%stamp_filename[:-5]"
   ]
  },
  {
   "cell_type": "markdown",
   "id": "4a7d78ca-047b-4153-b446-33a38eaa32f7",
   "metadata": {},
   "source": [
    "Here's where we must make a decision on what we want to establish as our \"baseline\" stamp. How should the source appear when aligned to the ra,dec coordinate system? In this notebook, we will consider the provided stamp to be our \"baseline\" and make rotations of that stamp to fit our `visit_image` captures. Since `deep_coadd` images are already aligned to the ra,dec grid, we can simply inject the stamp we have now into those. Let's continue with visit images for now.\n",
    "\n",
    "### 2.2. Creating Rotated Stamp Files\n",
    "\n",
    "To inject our stamp into the `visit_image`, we first have to rotate it to match the angle the image was taken. To start, let's load the `.fits` file corresponding to our \"baseline\" stamp."
   ]
  },
  {
   "cell_type": "code",
   "execution_count": null,
   "id": "4390cbe8-0b34-440e-99e5-febd794da645",
   "metadata": {},
   "outputs": [],
   "source": [
    "stamp_img_orig = afwImage.ExposureF.readFits(wcs_stamp_filename)"
   ]
  },
  {
   "cell_type": "markdown",
   "id": "b3651f31-ca28-426c-a4e0-5e5a8544f471",
   "metadata": {},
   "source": [
    "We're almost ready to rotate our stamp and inject it into a coadd! Just one question remains: How much do we actually need to rotate our stamp by?\n",
    "\n",
    "Since the coadd image will always be aligned to the ra,dec coordinate system, we can simply take advantage of the `getBoresightRotAngle()` method within each image's `visitInfo` attribute that gives its rotation counterclockwise from the _+dec_ axis in degrees. Try running the cell below to see the boresight angle of our `visit_image`."
   ]
  },
  {
   "cell_type": "code",
   "execution_count": null,
   "id": "c3111cc7-b380-494d-a370-b43650c8c49c",
   "metadata": {},
   "outputs": [],
   "source": [
    "visit.visitInfo.getBoresightRotAngle().asDegrees()"
   ]
  },
  {
   "cell_type": "markdown",
   "id": "bbf4dd93-3dc8-49de-a9c8-2dab6f6179f3",
   "metadata": {},
   "source": [
    "Now use the `rotate_exposure` method to rotate the stamp by the boresight angle we just found. The method rotates clockwise, however, so we multiply by -1 to account for this."
   ]
  },
  {
   "cell_type": "code",
   "execution_count": null,
   "id": "1057e205-b32b-48f5-b0df-db0852e73590",
   "metadata": {},
   "outputs": [],
   "source": [
    "stamp_img_rotated = rotate_exposure(stamp_img_orig, -1*visit.visitInfo.getBoresightRotAngle().asDegrees())"
   ]
  },
  {
   "cell_type": "markdown",
   "id": "edd30638-cc25-42d2-b4df-8ac84d5cfb13",
   "metadata": {},
   "source": [
    "Let's view both our stamps side-by-side by running the cell below!"
   ]
  },
  {
   "cell_type": "code",
   "execution_count": null,
   "id": "be09c656-a442-4bab-80c9-f662788edff1",
   "metadata": {},
   "outputs": [],
   "source": [
    "fig, ax = plt.subplots(1, 2, figsize=(6, 4), dpi=150)\n",
    "\n",
    "plt.sca(ax[0])\n",
    "display0 = afwDisplay.Display(frame=fig)\n",
    "display0.scale('linear', min=-20, max=150)\n",
    "display0.mtv(stamp_img_orig.image)\n",
    "plt.title('original stamp image')\n",
    "\n",
    "plt.sca(ax[1])\n",
    "display1 = afwDisplay.Display(frame=fig)\n",
    "display1.scale('linear', min=-20, max=150)\n",
    "display1.mtv(stamp_img_rotated.image)\n",
    "plt.title('rotated stamp image')\n",
    "\n",
    "plt.tight_layout()\n",
    "plt.show()"
   ]
  },
  {
   "cell_type": "markdown",
   "id": "0aa63a24-1e80-406d-aa40-6283f8f64193",
   "metadata": {},
   "source": [
    "The below line checks the `.fits` file of our rotated stamp and sets any empty/undefined pixels to 0 (_NaN_ is short for \"Not a Number\")."
   ]
  },
  {
   "cell_type": "code",
   "execution_count": null,
   "id": "02f74851-764a-4983-8a22-b39483897031",
   "metadata": {},
   "outputs": [],
   "source": [
    "stamp_img_rotated.image.array[np.where(np.isnan(stamp_img_rotated.image.array))] = 0.0"
   ]
  },
  {
   "cell_type": "markdown",
   "id": "685a5a38-31c1-4bdd-af49-b0c93b186b5a",
   "metadata": {},
   "source": [
    "Now let's save our rotated image to a new `.fits` file in the `fig` folder. We'll save some information regarding the rotated stamp and then write it to `rotated_system_1_0_wcs.fits` for injection into our `visit_image`."
   ]
  },
  {
   "cell_type": "code",
   "execution_count": null,
   "id": "4da4ce4c-0623-4e44-9082-eec5034aa74c",
   "metadata": {},
   "outputs": [],
   "source": [
    "rot_stamp_mag = 15\n",
    "rot_stamp_filename = wcs_stamp_filename[:4]+'rotated_'+wcs_stamp_filename[4:]\n",
    "stamp_img_rotated.writeFits(rot_stamp_filename)"
   ]
  },
  {
   "cell_type": "markdown",
   "id": "4f408569-2072-4c53-a498-03869b192ccb",
   "metadata": {},
   "source": [
    "### 2.3. Creating & Injecting a Visit Catalog of Rotated Stamps\n",
    "\n",
    "Use the `make_grid_coord` method to generate a catalog of our rotated stamps using the file pointed to by `rot_stamp_filename` in the shape of a grid covering the `visit_image`. Observe that our sources are aligned to the pixel grid of the `visit_image`, but are rotated relative to the ra,dec coordinate axes."
   ]
  },
  {
   "cell_type": "code",
   "execution_count": null,
   "id": "e2b10c8b-95cb-4eb4-b17c-ec947bb0eb52",
   "metadata": {},
   "outputs": [],
   "source": [
    "inj_catalog_visit = make_grid_coord(visit_wcs, rot_stamp_mag, rot_stamp_filename)"
   ]
  },
  {
   "cell_type": "markdown",
   "id": "a1e7fd35-5576-46c9-9250-a28a365e8c2f",
   "metadata": {},
   "source": [
    "We'll then have the `visit_inject_stamp` method inject our `inj_catalog_visit` stamp catalog into the visit and save it to a new image, `inj_visit`."
   ]
  },
  {
   "cell_type": "code",
   "execution_count": null,
   "id": "ee01b5e4-3c1b-4b40-9bb7-aa2d2adeeb09",
   "metadata": {},
   "outputs": [],
   "source": [
    "inj_visit = visit_inject_stamp(visit, inj_catalog_visit)"
   ]
  },
  {
   "cell_type": "markdown",
   "id": "774f3972-af6b-4db1-b2a4-b12a94bc726c",
   "metadata": {},
   "source": [
    "Now draw the `inj_visit` injected visit image. See that the stamps have been injected in a grid pattern covering the whole capture."
   ]
  },
  {
   "cell_type": "code",
   "execution_count": null,
   "id": "451d1eaf-576a-4edb-9ed9-fcc592abfa54",
   "metadata": {},
   "outputs": [],
   "source": [
    "fig = plt.figure()\n",
    "display = afwDisplay.Display(frame=fig)\n",
    "display.scale('asinh', 'zscale')\n",
    "display.mtv(inj_visit.image)\n",
    "plt.title(\"inj_visit\")\n",
    "plt.show()"
   ]
  },
  {
   "cell_type": "markdown",
   "id": "3ddc448e-b37a-4aff-83b3-99d0c46f6898",
   "metadata": {},
   "source": [
    "The stamps are quite small and seem to almost be point sources with a field of view this large. Let's zoom in on a single stamp to see what it actually looks like in the image up close. See that its shape resembles that of our rotated stamp. Success!"
   ]
  },
  {
   "cell_type": "code",
   "execution_count": null,
   "id": "1e23cdfc-b81a-45b1-9a91-2e762b375b03",
   "metadata": {},
   "outputs": [],
   "source": [
    "fig = plt.figure()\n",
    "display = afwDisplay.Display(frame=fig)\n",
    "display.scale('asinh', 'zscale')\n",
    "display.mtv(inj_visit.image)\n",
    "plt.title(\"inj_visit\")\n",
    "plt.xlim(1170,1230)\n",
    "plt.ylim(670,730)\n",
    "plt.show()"
   ]
  },
  {
   "cell_type": "markdown",
   "id": "a05fb4c6-94b3-4015-90ca-3f1dccff39c2",
   "metadata": {
    "execution": {
     "iopub.execute_input": "2025-07-22T17:37:04.693854Z",
     "iopub.status.busy": "2025-07-22T17:37:04.693474Z",
     "iopub.status.idle": "2025-07-22T17:37:04.699094Z",
     "shell.execute_reply": "2025-07-22T17:37:04.698051Z",
     "shell.execute_reply.started": "2025-07-22T17:37:04.693829Z"
    }
   },
   "source": [
    "You can also view both the original and injected `visit_image` using `plot_save_two_images`:"
   ]
  },
  {
   "cell_type": "code",
   "execution_count": null,
   "id": "aaf3133a-1aa2-46fc-a766-10729186acb5",
   "metadata": {},
   "outputs": [],
   "source": [
    "plot_save_two_images(visit, inj_visit, \"visit\", \"injected_visit\")"
   ]
  },
  {
   "cell_type": "markdown",
   "id": "40a9d436-26a9-468a-bcba-90a77cd1ac3f",
   "metadata": {},
   "source": [
    "## 3. Injecting Stamp Catalogs into Coadd Images\n",
    "\n",
    "Now let's prepare to inject the same source catalog into our coadd image. As `deep_coadd` images are already aligned with the ra,dec coordinate system, we can simply use our standard WCS-inclusive stamp. \n",
    "\n",
    "### 3.1. Querying for Deep Coadd Images Using Butler\n",
    "\n",
    "First, let's query for the `deep_coadd` image using `Butler`, for which we search for the patch overlapping our chosen ra,dec coordinate."
   ]
  },
  {
   "cell_type": "code",
   "execution_count": null,
   "id": "9970bda9-80bc-43b5-b7c9-1e0358fb81a4",
   "metadata": {},
   "outputs": [],
   "source": [
    "query = \"band.name = :band AND \\\n",
    "    patch.region OVERLAPS POINT(:ra, :dec)\"\n",
    "bind = {\"band\": band, \"ra\": ra, \"dec\": dec}\n",
    "coadd_data = butler.query_datasets(\"deep_coadd\",\n",
    "                                     where=query,\n",
    "                                     bind=bind)\n",
    "print(len(coadd_data))"
   ]
  },
  {
   "cell_type": "markdown",
   "id": "6b4e6591-988a-44c0-a67d-ac4172d054dd",
   "metadata": {},
   "source": [
    "There's only one `deep_coadd` image satisfying these criteria, so we'll simply query for the first (0 indexed) image from the dataset."
   ]
  },
  {
   "cell_type": "code",
   "execution_count": null,
   "id": "faa92475-acfb-47f2-8ad7-5817c8a66c04",
   "metadata": {},
   "outputs": [],
   "source": [
    "coadd = butler.get(coadd_data[0])"
   ]
  },
  {
   "cell_type": "markdown",
   "id": "c08cdeb0-5d32-456b-af69-bab040523fc9",
   "metadata": {},
   "source": [
    "We can also view the `deep_coadd` image we get below."
   ]
  },
  {
   "cell_type": "code",
   "execution_count": null,
   "id": "62d4f485-5735-4d3d-92cc-0eeb9317eb69",
   "metadata": {},
   "outputs": [],
   "source": [
    "fig = plt.figure()\n",
    "display = afwDisplay.Display(frame=fig)\n",
    "display.scale('asinh', 'zscale')\n",
    "display.mtv(coadd.image)\n",
    "plt.title(\"deep_coadd\")\n",
    "plt.show()"
   ]
  },
  {
   "cell_type": "markdown",
   "id": "030a7cf1-bb34-4096-b92e-ec8e9c1b5f56",
   "metadata": {},
   "source": [
    "### 3.2. Creating & Injecting Catalogs of Stamps in Coadd Images\n",
    "\n",
    "We'll also try to use a different method from last time to generate our injection catalog. Since catalogs are stored as `Table`s, we can create a new one and append it using `vstack` with new entries matching each line of the `visit_image` catalog, just replacing the `stamp` name with `wcs_stamp_filename` such that we use the non-rotated, original stamp with a WCS applied."
   ]
  },
  {
   "cell_type": "code",
   "execution_count": null,
   "id": "a5718610-a148-4d70-8997-698d9c5d5bf3",
   "metadata": {},
   "outputs": [],
   "source": [
    "inj_catalog_coadd = Table()\n",
    "\n",
    "for i in range(len(inj_catalog_visit)):\n",
    "    inj_catalog_coadd = vstack([inj_catalog_coadd, Table(\n",
    "        {\n",
    "            'ra': [inj_catalog_visit[i][0]],\n",
    "            'dec': [inj_catalog_visit[i][1]],\n",
    "            'source_type': [inj_catalog_visit[i][2]],\n",
    "            'mag': [inj_catalog_visit[i][3]],\n",
    "            'stamp': [wcs_stamp_filename],\n",
    "        }\n",
    "    )])"
   ]
  },
  {
   "cell_type": "markdown",
   "id": "73507e80-d8bd-4bff-9bca-4dff8c34f1d0",
   "metadata": {},
   "source": [
    "Inject the sources from the table into our `deep_coadd` image similar to the `visit_image`, just this time using the `template_inject_stamp` method."
   ]
  },
  {
   "cell_type": "code",
   "execution_count": null,
   "id": "9f35c65c-9eca-4b33-a54c-80c058214d7b",
   "metadata": {},
   "outputs": [],
   "source": [
    "inj_coadd = template_inject_stamp(coadd, inj_catalog_coadd)"
   ]
  },
  {
   "cell_type": "markdown",
   "id": "c4d5a51d-fccc-4c26-9ec3-16b081715759",
   "metadata": {},
   "source": [
    "View the injected `deep_coadd` image below. Observe that the sources are all rotated relative to the axes of the image, just as we saw before. While `deep_coadd` images are aligned with the ra,dec coordinate axes, `visit_images` are hardly ever the same orientation and thus we see the apparent rotation of where our sources are."
   ]
  },
  {
   "cell_type": "code",
   "execution_count": null,
   "id": "764ad75a-b792-4099-bd5b-fb595abb1fca",
   "metadata": {},
   "outputs": [],
   "source": [
    "fig = plt.figure()\n",
    "display = afwDisplay.Display(frame=fig)\n",
    "display.scale('asinh', 'zscale')\n",
    "display.mtv(inj_coadd.image)\n",
    "plt.title(\"inj_coadd\")\n",
    "plt.show()"
   ]
  },
  {
   "cell_type": "markdown",
   "id": "efac5405-b831-4319-9c80-a910969e7e56",
   "metadata": {},
   "source": [
    "Let's once again examine how the individual stamps themselves look. In this case since we applied no rotations we expect them to appear identical in shape to the original `.fits` stamp information. Verify that is the case below."
   ]
  },
  {
   "cell_type": "code",
   "execution_count": null,
   "id": "4033dcd6-347a-480b-8851-232e37bcdd95",
   "metadata": {},
   "outputs": [],
   "source": [
    "fig = plt.figure()\n",
    "display = afwDisplay.Display(frame=fig)\n",
    "display.scale('asinh', 'zscale')\n",
    "display.mtv(inj_coadd.image)\n",
    "plt.xlim(3200,3260)\n",
    "plt.ylim(18080,18140)\n",
    "plt.title(\"inj_coadd\")\n",
    "plt.show()"
   ]
  },
  {
   "cell_type": "markdown",
   "id": "ac468405-2224-45ef-a281-7205ac4843ce",
   "metadata": {},
   "source": [
    "## 4. Viewing Frames of Visit and Coadd Images\n",
    "\n",
    "As an additinal task, we can try representing the `visit_image` and `deep_coadd` images as a diagram to show us the two captured regions overlaid on one another. To do that, let's first define a function to roughly convert pixels to sky coordinate degrees."
   ]
  },
  {
   "cell_type": "code",
   "execution_count": null,
   "id": "05672538-072b-4f0d-b726-90c990ca00e7",
   "metadata": {},
   "outputs": [],
   "source": [
    "def pixel_to_degrees(n):\n",
    "    return 0.2 * n / 3600"
   ]
  },
  {
   "cell_type": "markdown",
   "id": "e17d2aa8-24ea-4e6c-a6e2-098d006d4626",
   "metadata": {},
   "source": [
    "We'll also need to import a few new packages, mainly from `matplotlib` and `astropy` to help us draw the regions."
   ]
  },
  {
   "cell_type": "code",
   "execution_count": null,
   "id": "53de3db3-55b5-486c-8f98-81f79d6db08c",
   "metadata": {},
   "outputs": [],
   "source": [
    "import matplotlib.patches as patches\n",
    "from matplotlib.patches import Rectangle\n",
    "import numpy as np\n",
    "from astropy.wcs import WCS\n",
    "from astropy.visualization.wcsaxes import Quadrangle\n",
    "from astropy import units as u"
   ]
  },
  {
   "cell_type": "markdown",
   "id": "ab4814d5-729f-45bc-9aea-9423dfc7228e",
   "metadata": {
    "execution": {
     "iopub.execute_input": "2025-07-23T00:09:33.620930Z",
     "iopub.status.busy": "2025-07-23T00:09:33.620604Z",
     "iopub.status.idle": "2025-07-23T00:09:33.625145Z",
     "shell.execute_reply": "2025-07-23T00:09:33.624495Z",
     "shell.execute_reply.started": "2025-07-23T00:09:33.620908Z"
    }
   },
   "source": [
    "Now run the below code to see visually what the images look like overlaid on one another. "
   ]
  },
  {
   "cell_type": "code",
   "execution_count": null,
   "id": "c394cea3-5179-4b80-a7d9-9f08575c469a",
   "metadata": {},
   "outputs": [],
   "source": [
    "# Create figure and axes\n",
    "fig = plt.figure()\n",
    "ax = plt.subplot(projection=WCS(coadd.getWcs().getFitsMetadata()))\n",
    "\n",
    "# Draw Coadd Rectangle\n",
    "coadd_cen = coadd.wcs.pixelToSky(coadd.getBBox().getCenter())\n",
    "coadd_ra = coadd_cen.getRa().asDegrees()\n",
    "coadd_dec = coadd_cen.getDec().asDegrees()\n",
    "coadd_width = pixel_to_degrees(coadd.width)\n",
    "coadd_height = pixel_to_degrees(coadd.height)\n",
    "coadd_rect = patches.Rectangle(\n",
    "    (coadd_ra - coadd_width / 2, coadd_dec - coadd_height / 2),  # lower-left corner\n",
    "    coadd_width,\n",
    "    coadd_height,\n",
    "    angle=0,\n",
    "    rotation_point = 'center',\n",
    "    linewidth=2,\n",
    "    edgecolor='blue',\n",
    "    facecolor='none'\n",
    ")\n",
    "\n",
    "# Draw Visit Rectangle\n",
    "visit_cen = visit.wcs.pixelToSky(visit.getBBox().getCenter())\n",
    "visit_ra = visit_cen.getRa().asDegrees()\n",
    "visit_dec = visit_cen.getDec().asDegrees()\n",
    "visit_width = pixel_to_degrees(visit.width)\n",
    "visit_height = pixel_to_degrees(visit.height)\n",
    "visit_angle = -visit.visitInfo.getBoresightRotAngle().asDegrees()\n",
    "visit_rect = patches.Rectangle(\n",
    "    (visit_ra - visit_width / 2, visit_dec - visit_height / 2),  # lower-left corner\n",
    "    visit_width,\n",
    "    visit_height,\n",
    "    angle=visit_angle,\n",
    "    rotation_point = 'center',\n",
    "    linewidth=2,\n",
    "    edgecolor='red',\n",
    "    facecolor='none'\n",
    ")\n",
    "\n",
    "# Invert x-axis (RA)\n",
    "ax.invert_xaxis()\n",
    "\n",
    "# Add rectangles to plot\n",
    "ax.add_patch(coadd_rect)\n",
    "ax.add_patch(visit_rect)\n",
    "\n",
    "# Plot Centers of Rectangles with x's\n",
    "ax.plot([coadd_ra],[coadd_dec], 'x')\n",
    "ax.plot([visit_ra],[visit_dec], 'x')\n",
    "\n",
    "# Show xy axes of visit\n",
    "angle = visit.visitInfo.boresightRotAngle.asDegrees()\n",
    "theta_rad = np.deg2rad(-angle)\n",
    "dx = 0.05 * np.cos(theta_rad)\n",
    "dy = 0.05 * np.sin(theta_rad)\n",
    "plt.arrow(visit_ra, visit_dec, -dx, -dy,\n",
    "          head_width=0.01, head_length=0.01, fc='black', ec='black')# Set axis limits and aspect\n",
    "plt.arrow(visit_ra, visit_dec, -dy, dx,\n",
    "          head_width=0.01, head_length=0.01, fc='black', ec='black')# Set axis limits and aspect\n",
    "plt.annotate('x', xy=(visit_ra - dx/0.7, visit_dec - dy/0.7))\n",
    "plt.annotate('y', xy=(visit_ra-dy/0.7,visit_dec+dx/0.7))\n",
    "\n",
    "# Graph/Legend Properties\n",
    "ax.set_aspect('equal')\n",
    "plt.grid(ls=':')\n",
    "plt.legend([\"coadd\", \"visit\"], loc=\"lower right\")"
   ]
  },
  {
   "cell_type": "markdown",
   "id": "94bdcf0f-3c23-4d1a-a9c5-15e1ba7b4311",
   "metadata": {},
   "source": [
    "And we're done! Congratulations on completing the tutorial! You should now have a better understanding of how stamp catalog generation and injection works, as well as how to rotate them to ensure their orientations are consistent between captures of the Rubin camera."
   ]
  }
 ],
 "metadata": {
  "kernelspec": {
   "display_name": "LSST",
   "language": "python",
   "name": "lsst"
  },
  "language_info": {
   "codemirror_mode": {
    "name": "ipython",
    "version": 3
   },
   "file_extension": ".py",
   "mimetype": "text/x-python",
   "name": "python",
   "nbconvert_exporter": "python",
   "pygments_lexer": "ipython3",
   "version": "3.12.11"
  }
 },
 "nbformat": 4,
 "nbformat_minor": 5
}
