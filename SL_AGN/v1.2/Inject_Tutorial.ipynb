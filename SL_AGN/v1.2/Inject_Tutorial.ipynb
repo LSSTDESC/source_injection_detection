{
 "cells": [
  {
   "cell_type": "markdown",
   "id": "5a38d400-c04c-4490-a841-11194195c3fa",
   "metadata": {},
   "source": [
    "# Butler Query & Source Injection Tutorial Notebook\n",
    "(Notebook for Daniel) <br>\n",
    "For the Rubin Science Platform at <a href=\"https://data.lsst.cloud\">data.lsst.cloud</a><br>\n",
    "Data Release: <a href=\"https://dp1.lsst.io/\">Data Preview 1 (DP1)</a> <br>\n",
    "\n",
    "**Learning Objective:** To learn how to query DP1 for different image types using Butler and inject sources into those images\n",
    "\n",
    "**LSST Data Products:** `visit_image`, `deep_coadd`\n",
    "\n",
    "**Packages:** `lsst.daf.butler`, `lsst.rsp`, `lsst.afw.display`, `lsst.source.injection`\n",
    "\n",
    "**Credit:** This notebook was created by Dhruv Sharma using code developed by Shenming Fu (SLAC National Accelerator Laboratory)\n",
    "\n",
    "Also see: DP0.2 Tutorial Notebook: https://github.com/lsst/tutorial-notebooks/blob/main/DP0.2/14_Injecting_Synthetic_Sources.ipynb"
   ]
  },
  {
   "cell_type": "markdown",
   "id": "cdb3271f-2fc2-4262-91a1-f44342ef3926",
   "metadata": {},
   "source": [
    "## 1. Introduction\n",
    "\n",
    "The Butler is LSST Science Pipeline's interface between pipelines and data for managing, reading, and writing datasets. Documentation and help for Butler can be found at:\n",
    "* [pipelines middleware Frequently Asked Questions](https://pipelines.lsst.io/middleware/index.html)\n",
    "* [Butler python module documentation](https://pipelines.lsst.io/modules/lsst.daf.butler/index.html)\n",
    "* [Butler query expressions and operators](https://pipelines.lsst.io/modules/lsst.daf.butler/queries.html#datasettype-expressions)\n",
    "\n",
    "**This notebook** uses several python programs written by Shenming Fu to supplement Butler and the LSST Science Pipeline and facilitate our queries/injections.\n",
    "\n",
    "**Related notebooks** may be found in the 100-level Butler tutorials provided by the Rubin Science Platform that further detail how to explore, discover, and manipulate Rubin datasets. "
   ]
  },
  {
   "cell_type": "markdown",
   "id": "34c90096-a335-49f6-bda6-2cd4f99be3cd",
   "metadata": {},
   "source": [
    "### 1.1. Import packages\n",
    "\n",
    "Start by importing the various files in `lib` to access their helpful supplementary methods. We will also use the `butler` and `timespan` modules of the `lsst.daf` package, as well as `lsst.afw`'s `display` module to view our images."
   ]
  },
  {
   "cell_type": "code",
   "execution_count": 1,
   "id": "2fb0c019-79c2-4ea5-ac85-2621bd8ae0ce",
   "metadata": {
    "execution": {
     "iopub.execute_input": "2025-07-25T23:32:40.319569Z",
     "iopub.status.busy": "2025-07-25T23:32:40.319348Z",
     "iopub.status.idle": "2025-07-25T23:32:45.285262Z",
     "shell.execute_reply": "2025-07-25T23:32:45.284385Z",
     "shell.execute_reply.started": "2025-07-25T23:32:40.319549Z"
    }
   },
   "outputs": [],
   "source": [
    "from lsst.daf.butler import Butler, Timespan\n",
    "import matplotlib.pyplot as plt\n",
    "from astropy.table import Table, vstack\n",
    "%matplotlib inline\n",
    "import lsst.afw.display as afwDisplay\n",
    "from lsst.source.injection import generate_injection_catalog\n",
    "from lsst.source.injection import VisitInjectConfig, VisitInjectTask\n",
    "from lsst.source.injection import CoaddInjectConfig, CoaddInjectTask\n",
    "from lib.visual import *"
   ]
  },
  {
   "cell_type": "markdown",
   "id": "edb34495-d4f0-4e51-9472-30c52f39c40d",
   "metadata": {},
   "source": [
    "### 1.2. Using the Butler to retrieve visit images\n",
    "\n",
    "Create a new instance of the Butler configured to query DP1 data from the LSSTComCam."
   ]
  },
  {
   "cell_type": "code",
   "execution_count": 2,
   "id": "574d3928-83bd-465f-ae77-03379607583e",
   "metadata": {
    "execution": {
     "iopub.execute_input": "2025-07-25T23:32:45.286788Z",
     "iopub.status.busy": "2025-07-25T23:32:45.286027Z",
     "iopub.status.idle": "2025-07-25T23:32:45.855948Z",
     "shell.execute_reply": "2025-07-25T23:32:45.855292Z",
     "shell.execute_reply.started": "2025-07-25T23:32:45.286760Z"
    }
   },
   "outputs": [],
   "source": [
    "BUTLER_CONFIG = \"dp1\"\n",
    "COLLECTIONS = \"LSSTComCam/DP1\"\n",
    "butler = Butler(BUTLER_CONFIG, collections=COLLECTIONS) \n",
    "afwDisplay.setDefaultBackend('matplotlib')\n",
    "%matplotlib inline"
   ]
  },
  {
   "cell_type": "markdown",
   "id": "b49e7ee0-445c-4b4d-9ac3-234c01c14085",
   "metadata": {},
   "source": [
    "Use the Butler's `query_datasets` method to find `visit_image`s corresponding to the  band and ra,dec (right-ascension, declination) coordinates given in the \"bind\" of the formatted string, in this case:\n",
    ">ra = 37.86, dec = 6.98 <br>\n",
    ">band = 'r'\n",
    "\n",
    "There can and often may be be multiple visit images covering the same ra,dec position, as seen by printing the length of `visit_data`."
   ]
  },
  {
   "cell_type": "code",
   "execution_count": 3,
   "id": "4c76dc89-c2f5-4616-8281-55603e7854d8",
   "metadata": {
    "execution": {
     "iopub.execute_input": "2025-07-25T23:32:45.857419Z",
     "iopub.status.busy": "2025-07-25T23:32:45.857186Z",
     "iopub.status.idle": "2025-07-25T23:32:45.926869Z",
     "shell.execute_reply": "2025-07-25T23:32:45.926246Z",
     "shell.execute_reply.started": "2025-07-25T23:32:45.857401Z"
    }
   },
   "outputs": [
    {
     "name": "stdout",
     "output_type": "stream",
     "text": [
      "9\n"
     ]
    }
   ],
   "source": [
    "ra=37.93\n",
    "dec=6.93\n",
    "band = 'r'\n",
    "query = \"band.name = :band AND \\\n",
    "    visit_detector_region.region OVERLAPS POINT(:ra, :dec)\"\n",
    "bind = {\"band\": band, \"ra\": ra, \"dec\": dec}\n",
    "visit_data = butler.query_datasets(\"visit_image\",\n",
    "                                     where=query,\n",
    "                                     order_by=[\"visit.timespan.begin\"],\n",
    "                                     bind=bind)\n",
    "\n",
    "print(len(visit_data))"
   ]
  },
  {
   "cell_type": "markdown",
   "id": "7eb9c89d-f61c-4df7-b2af-fe4f46f7a1d4",
   "metadata": {},
   "source": [
    "As a bit of foresight for the sake of this tutorial, we wish to inject sources into both a `visit_image` and a `deep_coadd` image, which may not necessarily have a frame that matches that of the `visit_image` closely. So, let's choose an index of `visit_data` to query that has a visit_image with a convenient framing to allow us to inject into a coadd as well."
   ]
  },
  {
   "cell_type": "code",
   "execution_count": 4,
   "id": "c20b4da1-b1a0-4e35-b4f8-bebe104aa4d2",
   "metadata": {
    "execution": {
     "iopub.execute_input": "2025-07-25T23:32:45.927693Z",
     "iopub.status.busy": "2025-07-25T23:32:45.927482Z",
     "iopub.status.idle": "2025-07-25T23:32:45.931060Z",
     "shell.execute_reply": "2025-07-25T23:32:45.930571Z",
     "shell.execute_reply.started": "2025-07-25T23:32:45.927676Z"
    }
   },
   "outputs": [
    {
     "name": "stdout",
     "output_type": "stream",
     "text": [
      "{instrument: 'LSSTComCam', detector: 0, visit: 2024112300213, band: 'r', day_obs: 20241123, physical_filter: 'r_03'}\n",
      "{instrument: 'LSSTComCam', detector: 6, visit: 2024112300220, band: 'r', day_obs: 20241123, physical_filter: 'r_03'}\n",
      "{instrument: 'LSSTComCam', detector: 6, visit: 2024112300224, band: 'r', day_obs: 20241123, physical_filter: 'r_03'}\n",
      "{instrument: 'LSSTComCam', detector: 0, visit: 2024112600104, band: 'r', day_obs: 20241126, physical_filter: 'r_03'}\n",
      "{instrument: 'LSSTComCam', detector: 0, visit: 2024112600108, band: 'r', day_obs: 20241126, physical_filter: 'r_03'}\n",
      "{instrument: 'LSSTComCam', detector: 0, visit: 2024112800164, band: 'r', day_obs: 20241128, physical_filter: 'r_03'}\n",
      "{instrument: 'LSSTComCam', detector: 0, visit: 2024112800168, band: 'r', day_obs: 20241128, physical_filter: 'r_03'}\n",
      "{instrument: 'LSSTComCam', detector: 0, visit: 2024120700179, band: 'r', day_obs: 20241207, physical_filter: 'r_03'}\n",
      "{instrument: 'LSSTComCam', detector: 0, visit: 2024120700183, band: 'r', day_obs: 20241207, physical_filter: 'r_03'}\n"
     ]
    }
   ],
   "source": [
    "for i in range(len(visit_data)):\n",
    "    print(visit_data[i].dataId)"
   ]
  },
  {
   "cell_type": "code",
   "execution_count": 5,
   "id": "d0a5d064-5c1f-458a-b0d3-dc71ad58d54b",
   "metadata": {
    "execution": {
     "iopub.execute_input": "2025-07-25T23:32:45.931885Z",
     "iopub.status.busy": "2025-07-25T23:32:45.931650Z",
     "iopub.status.idle": "2025-07-25T23:32:48.493316Z",
     "shell.execute_reply": "2025-07-25T23:32:48.492070Z",
     "shell.execute_reply.started": "2025-07-25T23:32:45.931868Z"
    }
   },
   "outputs": [],
   "source": [
    "visit = butler.get(visit_data[0])"
   ]
  },
  {
   "cell_type": "markdown",
   "id": "23859af2-a65b-4f3f-a04b-7d697fb65b10",
   "metadata": {},
   "source": [
    "### 1.3. Displaying Visit Images\n",
    "\n",
    "View this image using matplotlib."
   ]
  },
  {
   "cell_type": "code",
   "execution_count": 6,
   "id": "dcfe0287-054e-4b67-aa9b-ae9daf93c3ea",
   "metadata": {
    "execution": {
     "iopub.execute_input": "2025-07-25T23:32:48.495854Z",
     "iopub.status.busy": "2025-07-25T23:32:48.494560Z",
     "iopub.status.idle": "2025-07-25T23:32:50.340129Z",
     "shell.execute_reply": "2025-07-25T23:32:50.339497Z",
     "shell.execute_reply.started": "2025-07-25T23:32:48.495814Z"
    }
   },
   "outputs": [
    {
     "name": "stdout",
     "output_type": "stream",
     "text": [
      "waiting for ds9..."
     ]
    },
    {
     "name": "stderr",
     "output_type": "stream",
     "text": [
      "XPA$ERROR no 'xpaset' access points match template: ds9\n"
     ]
    },
    {
     "data": {
      "image/png": "[encoded data removed]",
      "text/plain": [
       "<Figure size 640x480 with 1 Axes>"
      ]
     },
     "metadata": {},
     "output_type": "display_data"
    }
   ],
   "source": [
    "fig = plt.figure()\n",
    "display = afwDisplay.Display(frame=fig)\n",
    "display.scale('asinh', 'zscale')\n",
    "display.mtv(visit.image)\n",
    "plt.title(\"visit\")\n",
    "plt.show()"
   ]
  },
  {
   "cell_type": "markdown",
   "id": "e88cd56b-39e1-4e9e-9766-67d15edb1e77",
   "metadata": {},
   "source": [
    "## 2. Injecting Synthetic Sources\n",
    "\n",
    "Now that we have retrieved a `visit_image`, we can inject our own synthetic sources into it. First, though, we need to set up a way to store all the necessary information regarding these sources.\n",
    "\n",
    "The LSST Science Pipeline's `source_injection` package provides many tools to create synthetic sources. Namely, we'll be using the `generate_injection_catalog` function to create catalogs of sources to inject."
   ]
  },
  {
   "cell_type": "markdown",
   "id": "0cb3ad10-946b-46a1-9c2e-affa5b847809",
   "metadata": {},
   "source": [
    "### 2.1. Define Parameters and Functions\n",
    "\n",
    "Let's define some of the main parameters we will need for the source catalog generation and injection. \n",
    "\n",
    "First let's find the center of our chosen `visit_image` in ra,dec coordinates using the image's `wcs`, or \"World Coordinate System\". This will help us ensure the sources we inject are all within the image's bounds."
   ]
  },
  {
   "cell_type": "code",
   "execution_count": 7,
   "id": "3dd19a98-11ea-48a4-b745-f12a8b29217e",
   "metadata": {
    "execution": {
     "iopub.execute_input": "2025-07-25T23:32:50.340990Z",
     "iopub.status.busy": "2025-07-25T23:32:50.340766Z",
     "iopub.status.idle": "2025-07-25T23:32:50.344848Z",
     "shell.execute_reply": "2025-07-25T23:32:50.344313Z",
     "shell.execute_reply.started": "2025-07-25T23:32:50.340973Z"
    }
   },
   "outputs": [
    {
     "name": "stdout",
     "output_type": "stream",
     "text": [
      "(37.9749995622, +6.8602296478)\n"
     ]
    }
   ],
   "source": [
    "cen = visit.wcs.pixelToSky(visit.getBBox().getCenter())\n",
    "cen_ra = cen.getRa().asDegrees()\n",
    "cen_dec = cen.getDec().asDegrees()\n",
    "print(cen)"
   ]
  },
  {
   "cell_type": "markdown",
   "id": "dda3bef6-f821-48fd-b577-01a6dab2e473",
   "metadata": {},
   "source": [
    "Additionally we'll obtain some basic information about the `visit_image`, including most importantly the image's WCS information, which will help us orient ourselves in the ra,dec coordinate system instead of the image's pixel coordinates."
   ]
  },
  {
   "cell_type": "code",
   "execution_count": 8,
   "id": "0f1d665a-9cc9-49b2-bbf4-a05d405b617e",
   "metadata": {
    "execution": {
     "iopub.execute_input": "2025-07-25T23:32:50.345677Z",
     "iopub.status.busy": "2025-07-25T23:32:50.345454Z",
     "iopub.status.idle": "2025-07-25T23:32:50.367301Z",
     "shell.execute_reply": "2025-07-25T23:32:50.366604Z",
     "shell.execute_reply.started": "2025-07-25T23:32:50.345654Z"
    }
   },
   "outputs": [],
   "source": [
    "psf = visit.getPsf()\n",
    "photo_calib = visit.getPhotoCalib()\n",
    "wcs = visit.getWcs()"
   ]
  },
  {
   "cell_type": "markdown",
   "id": "40c44f3b-c5fe-4336-96e9-1aa193df4a2d",
   "metadata": {},
   "source": [
    "### 2.2. Generate Injection Catalogs\n",
    "\n",
    "Now let's actually generate the sources using the `generate_injection_catalog` method, for which we provide:\n",
    "- `ra_lim`, `dec_lim`: The position bounds we want our sources to be generated within\n",
    "- `number`: The number of repeats we desire for each source\n",
    "- `seed`: A randomness seed \n",
    "- `mag`: A list of possible magnitudes for sources\n",
    "- `source_type`: The kind of source we wish to inject.\n",
    "    - We will primarily use the `\"Star\"`, `\"Sersic\"`(Galaxy), or `\"Stamp\"` options when injecting sources.\n",
    "    - For the sake of this tutorial `\"Sersic\"` has been chosen for the easy visibility of injected galaxies compared to stars, which are considerably smaller and harder to visually notice being injected\n",
    "- `n`,`q`,`beta`,`half_light_radius`: These are all parameters specific to the Sersic source type/Galsim model and pertain to the \"Sersic index\", minor-to-major axis ratio, rotation angle, and half-light radius, respectively.\n",
    "    - For generating stars, we need only include the magnitude, none of the above. It is the same case for stamps, though with the additional requirement of a path to the .fits file containing the stamp data."
   ]
  },
  {
   "cell_type": "code",
   "execution_count": 9,
   "id": "3495d895-ad28-4b0e-851a-158703bc91d6",
   "metadata": {
    "execution": {
     "iopub.execute_input": "2025-07-25T23:32:50.368393Z",
     "iopub.status.busy": "2025-07-25T23:32:50.368099Z",
     "iopub.status.idle": "2025-07-25T23:32:50.396199Z",
     "shell.execute_reply": "2025-07-25T23:32:50.395616Z",
     "shell.execute_reply.started": "2025-07-25T23:32:50.368374Z"
    }
   },
   "outputs": [
    {
     "data": {
      "text/html": [
       "<pre style=\"margin: 0.1em;\n",
       "padding-left: 0.25em;\n",
       "border-left-style: solid;\n",
       "font-family: var(--jp-code-font-family);\n",
       "font-size: var(--jp-code-font-size);\n",
       "line-height: var(--jp-code-line-height);\n",
       "\"><span style=\"color: var(--jp-warn-color2)\">lsst.source.injection.utils._generate_injection_catalog</span> <span style=\"color: var(--jp-info-color0)\">INFO</span>: Generated an injection catalog containing 8 sources: 4 combinations repeated 2 times.</pre>"
      ],
      "text/plain": [
       "<IPython.core.display.HTML object>"
      ]
     },
     "metadata": {},
     "output_type": "display_data"
    }
   ],
   "source": [
    "visit_injection_catalog = generate_injection_catalog(\n",
    "    ra_lim=[ra-0.01, ra+0.01],\n",
    "    dec_lim=[dec-0.01, dec+0.01],\n",
    "    number=2,\n",
    "    seed='432',\n",
    "    mag=[15],\n",
    "    source_type=\"Sersic\",\n",
    "    n=[2,4],\n",
    "    q=[0.9],\n",
    "    beta=[31.0, 144],\n",
    "    half_light_radius=[5.0],\n",
    ")"
   ]
  },
  {
   "cell_type": "markdown",
   "id": "f2c8af7c-61b9-4b38-848d-b0ceac077441",
   "metadata": {},
   "source": [
    "See that `visit_injection_catalog` is a table containing all the given information for each of the 8 sources we generated around the center of our image."
   ]
  },
  {
   "cell_type": "code",
   "execution_count": 10,
   "id": "97b39619-54b2-4f24-8a73-409e5f769411",
   "metadata": {
    "execution": {
     "iopub.execute_input": "2025-07-25T23:32:50.397106Z",
     "iopub.status.busy": "2025-07-25T23:32:50.396900Z",
     "iopub.status.idle": "2025-07-25T23:32:50.415503Z",
     "shell.execute_reply": "2025-07-25T23:32:50.414896Z",
     "shell.execute_reply.started": "2025-07-25T23:32:50.397089Z"
    }
   },
   "outputs": [
    {
     "data": {
      "text/html": [
       "<div><i>Table length=8</i>\n",
       "<table id=\"table139837157822336\" class=\"table-striped table-bordered table-condensed\">\n",
       "<thead><tr><th>injection_id</th><th>ra</th><th>dec</th><th>mag</th><th>source_type</th><th>n</th><th>q</th><th>beta</th><th>half_light_radius</th></tr></thead>\n",
       "<thead><tr><th>int64</th><th>float64</th><th>float64</th><th>int64</th><th>str6</th><th>int64</th><th>float64</th><th>float64</th><th>float64</th></tr></thead>\n",
       "<tr><td>0</td><td>37.92967058193254</td><td>6.932385839423772</td><td>15</td><td>Sersic</td><td>2</td><td>0.9</td><td>31.0</td><td>5.0</td></tr>\n",
       "<tr><td>1</td><td>37.92467058193254</td><td>6.9257191727571055</td><td>15</td><td>Sersic</td><td>2</td><td>0.9</td><td>31.0</td><td>5.0</td></tr>\n",
       "<tr><td>10</td><td>37.93717058193254</td><td>6.923496950534884</td><td>15</td><td>Sersic</td><td>2</td><td>0.9</td><td>144.0</td><td>5.0</td></tr>\n",
       "<tr><td>11</td><td>37.93217058193254</td><td>6.934608061645994</td><td>15</td><td>Sersic</td><td>2</td><td>0.9</td><td>144.0</td><td>5.0</td></tr>\n",
       "<tr><td>20</td><td>37.92717058193254</td><td>6.9368302838682165</td><td>15</td><td>Sersic</td><td>4</td><td>0.9</td><td>31.0</td><td>5.0</td></tr>\n",
       "<tr><td>21</td><td>37.93467058193254</td><td>6.93016361720155</td><td>15</td><td>Sersic</td><td>4</td><td>0.9</td><td>31.0</td><td>5.0</td></tr>\n",
       "<tr><td>30</td><td>37.93967058193254</td><td>6.939052506090438</td><td>15</td><td>Sersic</td><td>4</td><td>0.9</td><td>144.0</td><td>5.0</td></tr>\n",
       "<tr><td>31</td><td>37.92217058193254</td><td>6.927941394979328</td><td>15</td><td>Sersic</td><td>4</td><td>0.9</td><td>144.0</td><td>5.0</td></tr>\n",
       "</table></div>"
      ],
      "text/plain": [
       "<Table length=8>\n",
       "injection_id         ra               dec         ...   beta  half_light_radius\n",
       "   int64          float64           float64       ... float64      float64     \n",
       "------------ ----------------- ------------------ ... ------- -----------------\n",
       "           0 37.92967058193254  6.932385839423772 ...    31.0               5.0\n",
       "           1 37.92467058193254 6.9257191727571055 ...    31.0               5.0\n",
       "          10 37.93717058193254  6.923496950534884 ...   144.0               5.0\n",
       "          11 37.93217058193254  6.934608061645994 ...   144.0               5.0\n",
       "          20 37.92717058193254 6.9368302838682165 ...    31.0               5.0\n",
       "          21 37.93467058193254   6.93016361720155 ...    31.0               5.0\n",
       "          30 37.93967058193254  6.939052506090438 ...   144.0               5.0\n",
       "          31 37.92217058193254  6.927941394979328 ...   144.0               5.0"
      ]
     },
     "execution_count": 10,
     "metadata": {},
     "output_type": "execute_result"
    }
   ],
   "source": [
    "visit_injection_catalog"
   ]
  },
  {
   "cell_type": "markdown",
   "id": "e228e0cc-8e4a-4c56-90ae-883932fb6f15",
   "metadata": {},
   "source": [
    "### 2.3. Inject the Source Catalog\n",
    "\n",
    "Finally, let's actually inject the sources we generated into our visit_image. To do that, first set up some simple configuration the LSST Science Pipeline requires that we'll need to perform the injection."
   ]
  },
  {
   "cell_type": "code",
   "execution_count": 11,
   "id": "cf808220-79dc-4edb-adfd-51350af4101e",
   "metadata": {
    "execution": {
     "iopub.execute_input": "2025-07-25T23:32:50.416469Z",
     "iopub.status.busy": "2025-07-25T23:32:50.416253Z",
     "iopub.status.idle": "2025-07-25T23:32:50.436629Z",
     "shell.execute_reply": "2025-07-25T23:32:50.436022Z",
     "shell.execute_reply.started": "2025-07-25T23:32:50.416453Z"
    }
   },
   "outputs": [],
   "source": [
    "inject_config = VisitInjectConfig()\n",
    "inject_task = VisitInjectTask(config=inject_config)"
   ]
  },
  {
   "cell_type": "markdown",
   "id": "343378ae-6cf4-4c3b-8897-d10189f0ca1c",
   "metadata": {},
   "source": [
    "Now run the injection and inject `visit_injection_catalog` into a clone image of `visit`."
   ]
  },
  {
   "cell_type": "code",
   "execution_count": 12,
   "id": "5b1b8c6e-f01f-4c82-b6d1-bebbdfa96ad0",
   "metadata": {
    "execution": {
     "iopub.execute_input": "2025-07-25T23:32:50.438629Z",
     "iopub.status.busy": "2025-07-25T23:32:50.438406Z",
     "iopub.status.idle": "2025-07-25T23:32:52.760758Z",
     "shell.execute_reply": "2025-07-25T23:32:52.760155Z",
     "shell.execute_reply.started": "2025-07-25T23:32:50.438611Z"
    }
   },
   "outputs": [
    {
     "data": {
      "text/html": [
       "<pre style=\"margin: 0.1em;\n",
       "padding-left: 0.25em;\n",
       "border-left-style: solid;\n",
       "font-family: var(--jp-code-font-family);\n",
       "font-size: var(--jp-code-font-size);\n",
       "line-height: var(--jp-code-line-height);\n",
       "\"><span style=\"color: var(--jp-warn-color2)\">lsst.visitInjectTask</span> <span style=\"color: var(--jp-info-color0)\">INFO</span>: Retrieved 8 injection sources from 8 HTM trixels.</pre>"
      ],
      "text/plain": [
       "<IPython.core.display.HTML object>"
      ]
     },
     "metadata": {},
     "output_type": "display_data"
    },
    {
     "data": {
      "text/html": [
       "<pre style=\"margin: 0.1em;\n",
       "padding-left: 0.25em;\n",
       "border-left-style: solid;\n",
       "font-family: var(--jp-code-font-family);\n",
       "font-size: var(--jp-code-font-size);\n",
       "line-height: var(--jp-code-line-height);\n",
       "\"><span style=\"color: var(--jp-warn-color2)\">lsst.visitInjectTask</span> <span style=\"color: var(--jp-info-color0)\">INFO</span>: Catalog cleaning removed 0 of 8 sources; 8 remaining for catalog checking.</pre>"
      ],
      "text/plain": [
       "<IPython.core.display.HTML object>"
      ]
     },
     "metadata": {},
     "output_type": "display_data"
    },
    {
     "data": {
      "text/html": [
       "<pre style=\"margin: 0.1em;\n",
       "padding-left: 0.25em;\n",
       "border-left-style: solid;\n",
       "font-family: var(--jp-code-font-family);\n",
       "font-size: var(--jp-code-font-size);\n",
       "line-height: var(--jp-code-line-height);\n",
       "\"><span style=\"color: var(--jp-warn-color2)\">lsst.visitInjectTask</span> <span style=\"color: var(--jp-info-color0)\">INFO</span>: Catalog checking flagged 0 of 8 sources; 8 remaining for source generation.</pre>"
      ],
      "text/plain": [
       "<IPython.core.display.HTML object>"
      ]
     },
     "metadata": {},
     "output_type": "display_data"
    },
    {
     "data": {
      "text/html": [
       "<pre style=\"margin: 0.1em;\n",
       "padding-left: 0.25em;\n",
       "border-left-style: solid;\n",
       "font-family: var(--jp-code-font-family);\n",
       "font-size: var(--jp-code-font-size);\n",
       "line-height: var(--jp-code-line-height);\n",
       "\"><span style=\"color: var(--jp-warn-color2)\">lsst.visitInjectTask</span> <span style=\"color: var(--jp-info-color0)\">INFO</span>: Adding INJECTED and INJECTED_CORE mask planes to the exposure.</pre>"
      ],
      "text/plain": [
       "<IPython.core.display.HTML object>"
      ]
     },
     "metadata": {},
     "output_type": "display_data"
    },
    {
     "data": {
      "text/html": [
       "<pre style=\"margin: 0.1em;\n",
       "padding-left: 0.25em;\n",
       "border-left-style: solid;\n",
       "font-family: var(--jp-code-font-family);\n",
       "font-size: var(--jp-code-font-size);\n",
       "line-height: var(--jp-code-line-height);\n",
       "\"><span style=\"color: var(--jp-warn-color2)\">lsst.visitInjectTask</span> <span style=\"color: var(--jp-info-color0)\">INFO</span>: Generating 8 injection sources consisting of 1 unique type: Sersic(8).</pre>"
      ],
      "text/plain": [
       "<IPython.core.display.HTML object>"
      ]
     },
     "metadata": {},
     "output_type": "display_data"
    },
    {
     "data": {
      "text/html": [
       "<pre style=\"margin: 0.1em;\n",
       "padding-left: 0.25em;\n",
       "border-left-style: solid;\n",
       "font-family: var(--jp-code-font-family);\n",
       "font-size: var(--jp-code-font-size);\n",
       "line-height: var(--jp-code-line-height);\n",
       "\"><span style=\"color: var(--jp-warn-color2)\">lsst.visitInjectTask</span> <span style=\"color: var(--jp-info-color0)\">INFO</span>: Injected 8 of 8 potential sources. 0 sources flagged and skipped.</pre>"
      ],
      "text/plain": [
       "<IPython.core.display.HTML object>"
      ]
     },
     "metadata": {},
     "output_type": "display_data"
    }
   ],
   "source": [
    "inj_visit = inject_task.run(\n",
    "    injection_catalogs=visit_injection_catalog,\n",
    "    input_exposure=visit.clone(),\n",
    "    psf=psf,\n",
    "    photo_calib=photo_calib,\n",
    "    wcs=wcs,\n",
    ")"
   ]
  },
  {
   "cell_type": "markdown",
   "id": "97db9348-519d-4481-9ce2-377d8b794d4d",
   "metadata": {},
   "source": [
    "Now display the injected `visit_image` on its own, then next to its original version using the `plot_save_two_images` method to clearly see the new injected galaxies. It's quite visible where our injections are clustered right in the middle!"
   ]
  },
  {
   "cell_type": "code",
   "execution_count": 13,
   "id": "49b124e8-c9c7-4e86-afb0-a403dccbe514",
   "metadata": {
    "execution": {
     "iopub.execute_input": "2025-07-25T23:32:52.761601Z",
     "iopub.status.busy": "2025-07-25T23:32:52.761404Z",
     "iopub.status.idle": "2025-07-25T23:32:54.537294Z",
     "shell.execute_reply": "2025-07-25T23:32:54.536719Z",
     "shell.execute_reply.started": "2025-07-25T23:32:52.761585Z"
    }
   },
   "outputs": [
    {
     "name": "stdout",
     "output_type": "stream",
     "text": [
      "waiting for ds9..."
     ]
    },
    {
     "name": "stderr",
     "output_type": "stream",
     "text": [
      "XPA$ERROR no 'xpaset' access points match template: ds9\n"
     ]
    },
    {
     "data": {
      "image/png": "[encoded data removed]",
      "text/plain": [
       "<Figure size 640x480 with 1 Axes>"
      ]
     },
     "metadata": {},
     "output_type": "display_data"
    }
   ],
   "source": [
    "fig = plt.figure()\n",
    "display = afwDisplay.Display(frame=fig)\n",
    "display.scale('asinh', 'zscale')\n",
    "display.mtv(inj_visit.output_exposure.image)\n",
    "plt.title(\"inj_visit\")\n",
    "plt.show()"
   ]
  },
  {
   "cell_type": "code",
   "execution_count": 14,
   "id": "da41b3ed-57d0-4fc6-badb-e054e9513164",
   "metadata": {
    "execution": {
     "iopub.execute_input": "2025-07-25T23:32:54.538177Z",
     "iopub.status.busy": "2025-07-25T23:32:54.537955Z",
     "iopub.status.idle": "2025-07-25T23:32:55.092751Z",
     "shell.execute_reply": "2025-07-25T23:32:55.091822Z",
     "shell.execute_reply.started": "2025-07-25T23:32:54.538159Z"
    }
   },
   "outputs": [
    {
     "ename": "NameError",
     "evalue": "name 'plot_save_two_images' is not defined",
     "output_type": "error",
     "traceback": [
      "\u001b[0;31m---------------------------------------------------------------------------\u001b[0m",
      "\u001b[0;31mNameError\u001b[0m                                 Traceback (most recent call last)",
      "Cell \u001b[0;32mIn[14], line 1\u001b[0m\n\u001b[0;32m----> 1\u001b[0m \u001b[43mplot_save_two_images\u001b[49m(visit, inj_visit\u001b[38;5;241m.\u001b[39moutput_exposure, \u001b[38;5;124m\"\u001b[39m\u001b[38;5;124mvisit\u001b[39m\u001b[38;5;124m\"\u001b[39m, \u001b[38;5;124m\"\u001b[39m\u001b[38;5;124minj_visit\u001b[39m\u001b[38;5;124m\"\u001b[39m)\n",
      "\u001b[0;31mNameError\u001b[0m: name 'plot_save_two_images' is not defined"
     ]
    }
   ],
   "source": [
    "plot_save_two_images(visit, inj_visit.output_exposure, \"visit\", \"inj_visit\")"
   ]
  },
  {
   "cell_type": "markdown",
   "id": "18e1fb95-019e-4aef-bf2e-51381159419e",
   "metadata": {},
   "source": [
    "Look at all those sources! Congratulations, you've just made a whole bunch of injections into a real Rubin DP1 image."
   ]
  },
  {
   "cell_type": "markdown",
   "id": "576e06ff-080e-4bd5-8c5d-fb7a4d6fe785",
   "metadata": {},
   "source": [
    "## 3. Making Injections into Coadd Images\n",
    "\n",
    "Unlike a `visit_image`, which is a single captured frame from the Vera C. Rubin Observatory's camera, a `coadd` image composites multiple exposures together through an \"averaging\" process to create a deeper, clearer image that can better eliminate noise in the observations."
   ]
  },
  {
   "cell_type": "markdown",
   "id": "3b9b624a-29a8-4b51-aa2e-868845645355",
   "metadata": {},
   "source": [
    "### 3.1. Querying for Coadd Images using Butler\n",
    "\n",
    "To gain more experience with using the Butler, we'll use a similar, though slightly different process to obtain and inject sources into Rubin data. First, let's start by querying for images from the DP1 data that satisfy the requirements outlined in our `query`, namely the band and ra,dec coordinates described earlier, as well as the type of coadd we wish to find, in this case the `deep_coadd` DP1 data product.\n",
    "\n",
    "We use string formatting (_f\"...{var1}...\"_) to substitute our actual variable information into the fixed string that is already in the format required to query DP1 data with Butler.\n",
    "\n",
    "As `coadd` images are compiled using data from many `visit_image`s, there will be fewer of them, hence our search only returning one result."
   ]
  },
  {
   "cell_type": "code",
   "execution_count": null,
   "id": "df51857a-c220-4d02-9919-2576651ff7e7",
   "metadata": {
    "execution": {
     "iopub.status.busy": "2025-07-25T23:32:55.093271Z",
     "iopub.status.idle": "2025-07-25T23:32:55.093534Z",
     "shell.execute_reply": "2025-07-25T23:32:55.093428Z",
     "shell.execute_reply.started": "2025-07-25T23:32:55.093418Z"
    }
   },
   "outputs": [],
   "source": [
    "query = f\"band.name = '{band}' AND OVERLAPS POINT({ra}, {dec})\"\n",
    "coadd_data = butler.query_datasets(\"deep_coadd\", where=\"band.name = band AND \\\n",
    "                                    patch.region OVERLAPS POINT(ra, dec)\", \n",
    "                                    bind={\"band\": band, \"ra\": ra, \"dec\": dec})\n",
    "print(len(coadd_data))"
   ]
  },
  {
   "cell_type": "markdown",
   "id": "b5decea0-e6cb-4700-ab11-0e03daadf6a9",
   "metadata": {},
   "source": [
    "Now ask Butler to fetch the 0th(first) image it obtained in its search."
   ]
  },
  {
   "cell_type": "code",
   "execution_count": null,
   "id": "7eb0bbea-ebd3-4871-82b3-4a5fdd68bcaa",
   "metadata": {
    "execution": {
     "iopub.status.busy": "2025-07-25T23:32:55.094553Z",
     "iopub.status.idle": "2025-07-25T23:32:55.094849Z",
     "shell.execute_reply": "2025-07-25T23:32:55.094709Z",
     "shell.execute_reply.started": "2025-07-25T23:32:55.094698Z"
    }
   },
   "outputs": [],
   "source": [
    "coadd = butler.get(coadd_data[0])"
   ]
  },
  {
   "cell_type": "markdown",
   "id": "b10a6091-b13a-4a26-935d-a47cff6a2e23",
   "metadata": {},
   "source": [
    "Let's see what a `deep_coadd` image looks like! Run the below and notice how much clearer it appears compared to the `visit_image` we saw before, especially in how much more visible dim stars and galaxies are when against a less noisy background."
   ]
  },
  {
   "cell_type": "code",
   "execution_count": null,
   "id": "d20bd98d-d404-4ef7-b2a2-6f80121efeee",
   "metadata": {
    "execution": {
     "iopub.status.busy": "2025-07-25T23:32:55.095966Z",
     "iopub.status.idle": "2025-07-25T23:32:55.096217Z",
     "shell.execute_reply": "2025-07-25T23:32:55.096116Z",
     "shell.execute_reply.started": "2025-07-25T23:32:55.096106Z"
    }
   },
   "outputs": [],
   "source": [
    "fig = plt.figure()\n",
    "display = afwDisplay.Display(frame=fig)\n",
    "display.scale('asinh', 'zscale')\n",
    "display.mtv(coadd.image)\n",
    "plt.title(\"coadd (deep_coadd)\")\n",
    "plt.show()"
   ]
  },
  {
   "cell_type": "markdown",
   "id": "9aa97094-afc2-40d3-8bdb-a883222a9785",
   "metadata": {},
   "source": [
    "### 3.2. Injecting Source Catalogs into Coadd Images\n",
    "\n",
    "Now let's finally inject our same `visit_injection_catalog` into our `deep_coadd` image. **Make sure to update the psf, photo_calib, and wcs to match the new image, otherwise the process will return an error.**"
   ]
  },
  {
   "cell_type": "code",
   "execution_count": null,
   "id": "3d09f8bf-4f09-486b-8641-3ce74cf50891",
   "metadata": {
    "execution": {
     "iopub.status.busy": "2025-07-25T23:32:55.097203Z",
     "iopub.status.idle": "2025-07-25T23:32:55.097551Z",
     "shell.execute_reply": "2025-07-25T23:32:55.097438Z",
     "shell.execute_reply.started": "2025-07-25T23:32:55.097428Z"
    }
   },
   "outputs": [],
   "source": [
    "psf = coadd.getPsf()\n",
    "photo_calib = coadd.getPhotoCalib()\n",
    "wcs = coadd.getWcs()\n",
    "\n",
    "inj_coadd = inject_task.run(\n",
    "    injection_catalogs=visit_injection_catalog,\n",
    "    input_exposure=coadd.clone(),\n",
    "    psf=psf,\n",
    "    photo_calib=photo_calib,\n",
    "    wcs=wcs,\n",
    ")"
   ]
  },
  {
   "cell_type": "markdown",
   "id": "aa490ed6-8203-4a83-9ff4-59bc85a04019",
   "metadata": {},
   "source": [
    "Now let's see what the injected `deep_coadd` looks like. See that since we first queried for images around the center of this image, the injected sources appear right in the middle!"
   ]
  },
  {
   "cell_type": "code",
   "execution_count": null,
   "id": "ca0bd0f1-5d6c-4294-89f7-62fc603c3c62",
   "metadata": {
    "execution": {
     "iopub.status.busy": "2025-07-25T23:32:55.098424Z",
     "iopub.status.idle": "2025-07-25T23:32:55.098675Z",
     "shell.execute_reply": "2025-07-25T23:32:55.098575Z",
     "shell.execute_reply.started": "2025-07-25T23:32:55.098565Z"
    }
   },
   "outputs": [],
   "source": [
    "fig = plt.figure()\n",
    "display = afwDisplay.Display(frame=fig)\n",
    "display.scale('asinh', 'zscale')\n",
    "display.mtv(inj_coadd.output_exposure.image)\n",
    "plt.title(\"inj_coadd\")\n",
    "plt.show()"
   ]
  },
  {
   "cell_type": "markdown",
   "id": "a745848f-1859-476b-88f6-71c73f1899a6",
   "metadata": {},
   "source": [
    "### 3.3. Comparing Injected Coadd and Visit Images\n",
    "\n",
    "Let's see what the two injected images look like next to one another. It's easy to see that the `deep_coadd` image not only has much more detail and many more visible sources, but it also seems to be a bit more \"zoomed in\" than the `visit_image`. This is accurate, as in compiling many `visit_image` captures to form one image, the outermost edges of each image are lost and the resulting picture is a bit cropped."
   ]
  },
  {
   "cell_type": "code",
   "execution_count": null,
   "id": "e1b47608-9e76-4e11-bda0-4ab16a776e70",
   "metadata": {
    "execution": {
     "iopub.status.busy": "2025-07-25T23:32:55.099475Z",
     "iopub.status.idle": "2025-07-25T23:32:55.099706Z",
     "shell.execute_reply": "2025-07-25T23:32:55.099606Z",
     "shell.execute_reply.started": "2025-07-25T23:32:55.099597Z"
    }
   },
   "outputs": [],
   "source": [
    "plot_save_two_images(inj_visit.output_exposure, inj_coadd.output_exposure, \"inj_visit\", \"inj_coadd\")"
   ]
  },
  {
   "cell_type": "markdown",
   "id": "a88ccef7-607b-4d4c-bc43-97c51a656e8e",
   "metadata": {},
   "source": [
    "Though difficult to see from here directly as the sources appear slightly overexposed, you may also notice that the images appear to be rotated relative to one another, by about 180 degrees. The two galaxies close to one another in the top left corner of the cluster in the `visit_image` now appears in the bottom left of the `deep_coadd`. Why is this?\n",
    "\n",
    "`visit_image` captures aren't specifically taken to align with any coordinate system in particular, including the ra,dec system, whereas `deep_coadd` images are intentionally rotated during composition to align to the ra,dec grid, with ra on the x-axis and dec on the y-axis.\n",
    "\n",
    "Let's observe the rotation using some information provided by each `visit_image` in `visitInfo`, specifically using `visitInfo.boresightRotAngle`, which gives us the angle of the image relative to the positive dec(+y) axis."
   ]
  },
  {
   "cell_type": "code",
   "execution_count": null,
   "id": "dfb75476-8f23-48b4-a8ee-2bcb49d001b5",
   "metadata": {
    "execution": {
     "iopub.status.busy": "2025-07-25T23:32:55.100512Z",
     "iopub.status.idle": "2025-07-25T23:32:55.100737Z",
     "shell.execute_reply": "2025-07-25T23:32:55.100640Z",
     "shell.execute_reply.started": "2025-07-25T23:32:55.100631Z"
    }
   },
   "outputs": [],
   "source": [
    "visit.visitInfo.boresightRotAngle"
   ]
  },
  {
   "cell_type": "markdown",
   "id": "917a62c7-9b09-4c96-b432-223f08912b29",
   "metadata": {},
   "source": [
    "See that this angle is almost 180 degrees, and we know the `deep_coadd` to be already aligned to the ra,dec coordinate system (0 rotation). This explains the rotation we see between our `visit_image` and `coadd`!"
   ]
  },
  {
   "cell_type": "code",
   "execution_count": null,
   "id": "3e79c646-e0f1-431e-9cf8-cdca2f673da4",
   "metadata": {},
   "outputs": [],
   "source": []
  }
 ],
 "metadata": {
  "kernelspec": {
   "display_name": "LSST",
   "language": "python",
   "name": "lsst"
  },
  "language_info": {
   "codemirror_mode": {
    "name": "ipython",
    "version": 3
   },
   "file_extension": ".py",
   "mimetype": "text/x-python",
   "name": "python",
   "nbconvert_exporter": "python",
   "pygments_lexer": "ipython3",
   "version": "3.12.11"
  }
 },
 "nbformat": 4,
 "nbformat_minor": 5
}
