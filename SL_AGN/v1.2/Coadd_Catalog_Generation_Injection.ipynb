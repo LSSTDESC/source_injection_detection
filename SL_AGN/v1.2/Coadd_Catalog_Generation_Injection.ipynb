{
 "cells": [
  {
   "cell_type": "markdown",
   "id": "8a481e31-ab18-429f-a8dc-cdced251709a",
   "metadata": {
    "execution": {
     "iopub.execute_input": "2025-07-23T20:53:03.574968Z",
     "iopub.status.busy": "2025-07-23T20:53:03.574309Z",
     "iopub.status.idle": "2025-07-23T20:53:03.579019Z",
     "shell.execute_reply": "2025-07-23T20:53:03.578337Z",
     "shell.execute_reply.started": "2025-07-23T20:53:03.574934Z"
    }
   },
   "source": [
    "# Coadd Catalog Generation & Injection Tutorial Notebook\n",
    "\n",
    "For the Rubin Science Platform at <a href=\"https://data.lsst.cloud\">data.lsst.cloud</a><br>\n",
    "Data Release: <a href=\"https://dp1.lsst.io/\">Data Preview 1 (DP1)</a> <br>\n",
    "\n",
    "**Learning Objective:** To learn how to generate time-varied visit injection catalogs of stamps and average them to produce appropriate injected coadd images. \n",
    "\n",
    "**LSST Data Products:** `visit_image`, `deep_coadd`\n",
    "\n",
    "**Packages:** `lsst.daf.butler`, `lsst.rsp`, `lsst.source.injection`, `lsst.afw.display`, `lsst.afw.image`\n",
    "\n",
    "**Credit:** This notebook was created by Dhruv Sharma using code developed by Shenming Fu (SLAC National Accelerator Laboratory)\n",
    "\n",
    "## 1. Introduction\n",
    "\n",
    "The LSST Camera is made to photograph patches of sky one after the other in quick captures called `visit_image`s. These photos provide a wide, rapidly imaged view of the night sky, but are often shallow and noisy. Even more useful are `deep_coadd` images, which are created by compositing multiple `visit_image` captures of the same patch of sky together using an averaging process to reduce noise.\n",
    "\n",
    "To help us perform time-delay cosmography using Rubin data, we must be able to simulate time-varying sources and represent them in both `visit_image` and `deep_coadd` injections. For phenomena like strongly lensed AGN, we often inject a \"stamp\" in the form of a `.fits` file into the images that contains a 2D matrix representation of the SL-AGN. In this tutorial, we will demonstrate the following:\n",
    "\n",
    "- Generating multiple stamp catalogs corresponding to different `visit_image`s, where the stamps vary from image to image\n",
    "- Rotating stamps to appropriately inject them into visits (which are not aligned to the ra,dec grid by default) and keep their orientation consistent between captures.\n",
    "- Compositing multiple stamps to produce a coadded stamp that represents the average of a source over time and injecting a catalog of such averaged stamps into a `deep_coadd`"
   ]
  },
  {
   "cell_type": "markdown",
   "id": "825ecc8c-f1cb-48bd-909f-038be872247c",
   "metadata": {},
   "source": [
    "### 1.1. Import Packages\n",
    "\n",
    "Import all the necessary packages for this notebook."
   ]
  },
  {
   "cell_type": "code",
   "execution_count": null,
   "id": "0f5e624d-5ea5-43e9-9a89-1ed09caa5c3a",
   "metadata": {},
   "outputs": [],
   "source": [
    "from lsst.daf.butler import Butler\n",
    "import lsst.afw.display as afwDisplay\n",
    "from astropy.table import Table, vstack\n",
    "from lib.tools import *\n",
    "from lib.stamp import *\n",
    "from lib.inject import *\n",
    "import matplotlib.pyplot as plt\n",
    "import numpy as np\n",
    "from lsst.afw.image import ExposureF\n",
    "%matplotlib inline"
   ]
  },
  {
   "cell_type": "markdown",
   "id": "08f9c196-c459-450b-b097-070d2d497721",
   "metadata": {},
   "source": [
    "### 1.2. Using the Butler to retrieve visit images\n",
    "\n",
    "Create a new instance of the Butler configured to query DP1 data from the LSSTComCam. Also ensure that our plots are made and displayed in matplotlib using `afwDisplay.setDefaultBackend`."
   ]
  },
  {
   "cell_type": "code",
   "execution_count": null,
   "id": "2feb24a1-58ca-4a30-a0f5-5fb0bc69c311",
   "metadata": {},
   "outputs": [],
   "source": [
    "butler = Butler(\"dp1\", collections=\"LSSTComCam/DP1\")\n",
    "afwDisplay.setDefaultBackend(\"matplotlib\")"
   ]
  },
  {
   "cell_type": "markdown",
   "id": "08ba97d1-b5bf-4437-8c50-6f857502bf77",
   "metadata": {},
   "source": [
    "Use the Butler's `query_datasets` method to find `visit_image`s corresponding to the  band and ra,dec (right-ascension, declination) coordinates given in the \"bind\" of the formatted string, in this case:\n",
    ">ra = 37.93, dec = 6.93 <br>\n",
    ">band = 'r'\n",
    "\n",
    "There can and often may be be multiple visit images covering the same ra,dec position, as seen by printing the length of `visit_data`."
   ]
  },
  {
   "cell_type": "code",
   "execution_count": null,
   "id": "3060b904-22e2-4085-876b-3888d9238e70",
   "metadata": {},
   "outputs": [],
   "source": [
    "band = 'r'\n",
    "ra = 37.93\n",
    "dec = 6.93\n",
    "query = \"band.name = :band AND \" \\\n",
    "        \"visit_detector_region.region OVERLAPS POINT(:ra, :dec)\"\n",
    "bind_params = {\"band\": band, \"ra\": ra, \"dec\": dec}\n",
    "visit_data = butler.query_datasets(\"visit_image\", \n",
    "                                   where=query,\n",
    "                                   bind=bind_params,\n",
    "                                   order_by=[\"visit.timespan.begin\"])\n",
    "len(visit_data)"
   ]
  },
  {
   "cell_type": "markdown",
   "id": "718becfa-5203-4d61-8f1a-632e4593d6c7",
   "metadata": {},
   "source": [
    "We hope to inject sources into multiple `visit_image`s and a `deep_coadd` image, the latter of which captures a fixed patch of sky. So, we should choose visits that share significant overlap with the coadd. In this notebook, our time series will consist of the 1st, 4th, and 7th images from the `visit_data` dataset. Retrieve all images."
   ]
  },
  {
   "cell_type": "code",
   "execution_count": null,
   "id": "9be0c648-0a57-4bcc-91eb-e405f984f2c7",
   "metadata": {},
   "outputs": [],
   "source": [
    "visit_1 = butler.get(visit_data[0])\n",
    "visit_2 = butler.get(visit_data[3])\n",
    "visit_3 = butler.get(visit_data[6])"
   ]
  },
  {
   "cell_type": "markdown",
   "id": "c46f7ade-76ba-4ca9-9a07-db4ae19e7ae0",
   "metadata": {},
   "source": [
    "### 1.3. Using the Butler to Retrieve Coadd Images\n",
    "\n",
    "Let's also get the `deep_coadd` image corresponding to the patch of sky containing the ra,dec coordinate we queried for."
   ]
  },
  {
   "cell_type": "code",
   "execution_count": null,
   "id": "ce35f6d2-3aef-4435-b4eb-60200b2b3680",
   "metadata": {},
   "outputs": [],
   "source": [
    "query = \"band.name = :band AND \" \\\n",
    "        \"patch.region OVERLAPS POINT(:ra, :dec)\"\n",
    "coadd_data = butler.query_datasets(\"deep_coadd\", \n",
    "                                   where=query,\n",
    "                                   bind=bind_params)\n",
    "coadd = butler.get(coadd_data[0])"
   ]
  },
  {
   "cell_type": "markdown",
   "id": "4baa26aa-0a81-40cc-8ef1-45c7b3f0cafa",
   "metadata": {
    "execution": {
     "iopub.execute_input": "2025-07-23T22:41:35.585621Z",
     "iopub.status.busy": "2025-07-23T22:41:35.585423Z",
     "iopub.status.idle": "2025-07-23T22:41:36.471742Z",
     "shell.execute_reply": "2025-07-23T22:41:36.470827Z",
     "shell.execute_reply.started": "2025-07-23T22:41:35.585605Z"
    }
   },
   "source": [
    "### 1.4. Generating Rotated Stamps\n",
    "\n",
    "Our `fig` folder contains a few stamp files labeled `system_1_X.fits`, where X is 0, 1, or 2 corresponding to the 3 visits we retrieved. Just as each `visit_image` captures the sky at a different moment in time, each of these visits has its own stamp representing the SL-AGN system at that time. \n",
    "\n",
    "Now use the `make_rotated_stamp` method from `lib/stamp.py` to save both a version of the stamp with a synthetic wcs (World Coordinate System), as well as a rotated image of the stamp to the `fig` folder. This rotation is important as `visit_image` captures are not aligned to the ra,dec grid as `deep_coadd` images are. To make sure that stamps are always oriented the same regardless of how the `visit_image` is taken, we rotate them by what's called the _boresight angle_ for each visit."
   ]
  },
  {
   "cell_type": "code",
   "execution_count": null,
   "id": "f8c6d6ca-79b0-472f-9ce0-fe150da1d8db",
   "metadata": {},
   "outputs": [],
   "source": [
    "make_rotated_stamp(visit_1, 'fig/system_1_0.fits')\n",
    "make_rotated_stamp(visit_2, 'fig/system_1_1.fits')\n",
    "make_rotated_stamp(visit_3, 'fig/system_1_2.fits')"
   ]
  },
  {
   "cell_type": "markdown",
   "id": "3fa5f961-3628-4882-b496-38f01e1fe7b8",
   "metadata": {
    "execution": {
     "iopub.execute_input": "2025-07-23T22:41:37.711751Z",
     "iopub.status.busy": "2025-07-23T22:41:37.711521Z",
     "iopub.status.idle": "2025-07-23T22:41:38.300961Z",
     "shell.execute_reply": "2025-07-23T22:41:38.300234Z",
     "shell.execute_reply.started": "2025-07-23T22:41:37.711733Z"
    }
   },
   "source": [
    "Use the `plt` code below to see how each stamp looks before and after rotating by its respective `visit_image`'s boresight angle."
   ]
  },
  {
   "cell_type": "code",
   "execution_count": null,
   "id": "046526cc-bcff-4311-be8d-6384e149ec90",
   "metadata": {},
   "outputs": [],
   "source": [
    "fig, ax = plt.subplots(3, 2, figsize=(3, 4), dpi=200)\n",
    "\n",
    "def show_image(ax, filename, title):\n",
    "    image = ExposureF.readFits(filename).image\n",
    "    array = image.getArray()\n",
    "\n",
    "    # Display with scaling similar to afwDisplay\n",
    "    im = ax.imshow(array, origin='lower', vmin=-20, vmax=150, cmap='gray')\n",
    "    ax.set_title(title, fontsize=6)\n",
    "    ax.set_xticks([])\n",
    "    ax.set_yticks([])\n",
    "\n",
    "for i in range(3):\n",
    "    show_image(ax[i][0], f'fig/system_1_{i}_wcs.fits', 'system_1_'+str(i)+'.fits')\n",
    "    show_image(ax[i][1], f'fig/rotated_system_1_{i}_wcs.fits', 'rotated_system_1_'+str(i)+'_wcs.fits')\n",
    "\n",
    "plt.show()"
   ]
  },
  {
   "cell_type": "markdown",
   "id": "4ae02a32-dc99-428a-94d7-958467a9f971",
   "metadata": {},
   "source": [
    "## 2. Injecting Sources into Time Series of Visit Images\n",
    "\n",
    "### 2.1. Generating Multiple Injection Catalogs\n",
    "\n",
    "To populate each `visit_image` with our SL_AGN stamps, we need a way to store an ra,dec coordinate for each source as well as their time-varying magnitudes. So, let's first define an array `source_list` of tuples describing each source. Each entry contains a single source's ra,dec coordinate alongside an array of magnitudes for it, and we generate these values pseudo-randomly around the ra,dec coordinate we chose earlier and with magnitudes between a specified range."
   ]
  },
  {
   "cell_type": "code",
   "execution_count": null,
   "id": "5f1a6a21-e7ed-492c-a230-2ee88d16afa4",
   "metadata": {},
   "outputs": [],
   "source": [
    "# source list details time-varying brightnesses of sources\n",
    "num_sources = 10\n",
    "num_times = 3\n",
    "source_list = []    \n",
    "for i in range(num_sources):\n",
    "    source_list.append((np.random.uniform(ra-0.03, ra+0.03), \n",
    "                        np.random.uniform(dec-0.03, dec+0.03), \n",
    "                        np.random.uniform(12,17, size=num_times)))"
   ]
  },
  {
   "cell_type": "markdown",
   "id": "746d4c62-3a61-4e40-a06b-ab34907c877a",
   "metadata": {},
   "source": [
    "The above list isn't in the same format as injection catalogs, which are stored as Tables, so we need to transfer the information for each source to a new structure. Create a list `inj_catalogs` of Tables, one for each `visit_image` and populate it with sources using the data from `source_list` we just generated."
   ]
  },
  {
   "cell_type": "code",
   "execution_count": null,
   "id": "7983b99b-ad11-46cc-b3d3-bcc610a0766f",
   "metadata": {},
   "outputs": [],
   "source": [
    "inj_catalogs = []\n",
    "for i in range(num_times):\n",
    "    inj_catalogs.append(Table())"
   ]
  },
  {
   "cell_type": "code",
   "execution_count": null,
   "id": "ed2964e4-ebbe-486f-94c8-56a5f8a980de",
   "metadata": {},
   "outputs": [],
   "source": [
    "for time in range(num_times):\n",
    "    for source in range(num_sources):\n",
    "        inj_catalogs[time] = vstack([inj_catalogs[time], Table(\n",
    "            {'injection_id': [source],\n",
    "                'ra': [source_list[source][0]],\n",
    "                'dec': [source_list[source][1]],\n",
    "                'source_type': ['Stamp'],\n",
    "                'mag': [source_list[source][2][time]],\n",
    "                'stamp': ['fig/rotated_system_1_%s_wcs.fits'%time],\n",
    "             # if you've generated enough stamps for each source to be unique, use 'fig/system_%s_%s_wcs.fits'%(source,time)\n",
    "            }\n",
    "        )])"
   ]
  },
  {
   "cell_type": "markdown",
   "id": "0110cb7e-9f67-4810-a544-bc65c1324077",
   "metadata": {},
   "source": [
    "### 2.2. Injecting into Visit Images\n",
    "\n",
    "Now use the `visit_inject_stamp` method for each `visit_image` and its corresponding Table entry in our array to create 3 injected images containing the same catalogs with varying magnitudes."
   ]
  },
  {
   "cell_type": "code",
   "execution_count": null,
   "id": "9f6238dc-ded0-4a60-a86a-998d7ff610fe",
   "metadata": {},
   "outputs": [],
   "source": [
    "inj_visit_1 = visit_inject_stamp(visit_1, inj_catalogs[0])\n",
    "inj_visit_2 = visit_inject_stamp(visit_2, inj_catalogs[1])\n",
    "inj_visit_3 = visit_inject_stamp(visit_3, inj_catalogs[2])"
   ]
  },
  {
   "cell_type": "markdown",
   "id": "dc17864f-db2c-4aa5-86d4-7d921e2bf59f",
   "metadata": {},
   "source": [
    "View all 3 injected `visit_image`s next to one another. Notice how the injected sources have the same position and orientation relative to one another between captures, just as we intended!"
   ]
  },
  {
   "cell_type": "code",
   "execution_count": null,
   "id": "86ad93fd-2faf-49eb-a506-9367dc8c2a64",
   "metadata": {},
   "outputs": [],
   "source": [
    "fig = plt.figure()\n",
    "display = afwDisplay.Display(frame=fig)\n",
    "display.scale('asinh', 'zscale')\n",
    "display.mtv(inj_visit_1.image)\n",
    "plt.title(\"inj_visit_1: \")\n",
    "plt.show()"
   ]
  },
  {
   "cell_type": "code",
   "execution_count": null,
   "id": "7b6032ef-d54e-47f9-add1-a7924ed3a2b0",
   "metadata": {},
   "outputs": [],
   "source": [
    "fig = plt.figure()\n",
    "display = afwDisplay.Display(frame=fig)\n",
    "display.scale('asinh', 'zscale')\n",
    "display.mtv(inj_visit_2.image)\n",
    "plt.title(\"inj_visit_2: \")\n",
    "plt.show()"
   ]
  },
  {
   "cell_type": "code",
   "execution_count": null,
   "id": "0603bb08-8da3-4cd3-be4c-2e4b2eb36862",
   "metadata": {},
   "outputs": [],
   "source": [
    "fig = plt.figure()\n",
    "display = afwDisplay.Display(frame=fig)\n",
    "display.scale('asinh', 'zscale')\n",
    "display.mtv(inj_visit_3.image)\n",
    "plt.title(\"inj_visit_3: \")\n",
    "plt.show()"
   ]
  },
  {
   "cell_type": "markdown",
   "id": "c1ee3202-9ac8-4d17-b402-f5d03cfdbfff",
   "metadata": {},
   "source": [
    "## 3. Injecting Sources into Coadd Images\n",
    "\n",
    "With our `visit_image` injections complete, let's now inject these sources into our `deep_coadd` image. Recall that for these, we should try to imitate the process used to produce coadds and create an \"averaged\" stamp of our source in the different visit images that we inject into the image. \n",
    "\n",
    "### 3.1. Generating Coadd Stamp Catalogs\n",
    "\n",
    "Use the `get_coadd_stamp` method to generate and view a stamp averaging the various stamps already generated for the system index provided, 1 in this case."
   ]
  },
  {
   "cell_type": "code",
   "execution_count": null,
   "id": "becccf1d-7634-4c07-a7a4-d331b415dc99",
   "metadata": {},
   "outputs": [],
   "source": [
    "get_coadd_stamp(1)"
   ]
  },
  {
   "cell_type": "markdown",
   "id": "286668ae-e573-4b54-a778-4bc4ce43b8f9",
   "metadata": {},
   "source": [
    "The code below creates a new list containing the average magnitude of each source based on the magnitudes they had in the 3 `visit_image` injection catalogs we generated previously."
   ]
  },
  {
   "cell_type": "code",
   "execution_count": null,
   "id": "19eb0f20-4ff9-492d-aef3-b0c0744e46db",
   "metadata": {},
   "outputs": [],
   "source": [
    "average_list = []\n",
    "\n",
    "for source in range(len(source_list)):\n",
    "    sum = 0.0\n",
    "    for mag in range(len(source_list[source][2])):\n",
    "        sum += source_list[source][2][mag]\n",
    "    avg = sum / len(source_list[source][2])\n",
    "    average_list.append(avg)"
   ]
  },
  {
   "cell_type": "markdown",
   "id": "e1852c9a-66ae-4ef7-864d-7810795a9cc8",
   "metadata": {},
   "source": [
    "Then, similar to how we converted `source_list` into a list of catalogs, we'll turn `average_list` into a single catalog containing the same sources from our `visit_image` injections, just with magnitudes that are averaged over all 3 images to be injected into our `deep_coadd`."
   ]
  },
  {
   "cell_type": "code",
   "execution_count": null,
   "id": "9ee43470-8a29-42b0-8814-03c2f9135709",
   "metadata": {},
   "outputs": [],
   "source": [
    "avg_inj_catalog = Table()\n",
    "\n",
    "for mag in range(len(average_list)):\n",
    "    avg_inj_catalog = vstack([avg_inj_catalog, Table(\n",
    "        {'injection_id': [mag],\n",
    "            'ra': [source_list[mag][0]],\n",
    "            'dec': [source_list[mag][1]],\n",
    "            'source_type': ['Stamp'],\n",
    "            'mag': [average_list[mag]],\n",
    "            'stamp': ['fig/system_1_coadd.fits'],\n",
    "        }\n",
    "    )])"
   ]
  },
  {
   "cell_type": "markdown",
   "id": "abe2b0e7-6af9-4b42-a789-551d1362f0ff",
   "metadata": {},
   "source": [
    "### 3.2. Injecting Coadd Stamp Catalogs\n",
    "\n",
    "Finally, inject our averaged catalog into the `deep_coadd` image we retrieved earlier using the `template_inject_stamp` method."
   ]
  },
  {
   "cell_type": "code",
   "execution_count": null,
   "id": "8066e4c2-e7f9-4934-972f-a7aaf27f2efc",
   "metadata": {},
   "outputs": [],
   "source": [
    "inj_coadd = template_inject_stamp(coadd, avg_inj_catalog)"
   ]
  },
  {
   "cell_type": "markdown",
   "id": "825765fa-9942-47fa-94be-9ee080763d5d",
   "metadata": {},
   "source": [
    "View the injected `deep_coadd` image."
   ]
  },
  {
   "cell_type": "code",
   "execution_count": null,
   "id": "07158dd2-519b-4299-b7bd-9e5981b24679",
   "metadata": {},
   "outputs": [],
   "source": [
    "fig = plt.figure()\n",
    "display = afwDisplay.Display(frame=fig)\n",
    "display.scale('asinh', 'zscale')\n",
    "display.mtv(inj_coadd.image)\n",
    "plt.title(\"inj_coadd: \")\n",
    "plt.show()"
   ]
  },
  {
   "cell_type": "markdown",
   "id": "d75e9104-0a36-4a19-bd7b-ad1c81303eca",
   "metadata": {},
   "source": [
    "## 4. Visualizing Visit and Coadd Image Regions\n",
    "\n",
    "As a final task, run the below code to view a diagram visualizing the `visit_image` regions alongside the patch captured in our `deep_coadd`, as well as the area we injected our sources into."
   ]
  },
  {
   "cell_type": "code",
   "execution_count": null,
   "id": "3e08bc8b-3a17-4ea0-acf4-f22c812f203e",
   "metadata": {},
   "outputs": [],
   "source": [
    "def pixel_to_degrees(n):\n",
    "    return 0.2 * n / 3600"
   ]
  },
  {
   "cell_type": "code",
   "execution_count": null,
   "id": "713a704a-dbb9-4743-9cc6-36b8c35e612a",
   "metadata": {},
   "outputs": [],
   "source": [
    "import matplotlib.patches as patches\n",
    "from matplotlib.patches import Rectangle\n",
    "import numpy as np\n",
    "from astropy.wcs import WCS\n",
    "\n",
    "# Create figure and axes\n",
    "fig = plt.figure()\n",
    "ax = plt.subplot(projection=WCS(coadd.getWcs().getFitsMetadata()))\n",
    "plt.xlabel(\"RA [deg]\")\n",
    "plt.ylabel(\"DEC [deg]\")\n",
    "\n",
    "# Coadd Rectangle\n",
    "coadd_cen = coadd.wcs.pixelToSky(coadd.getBBox().getCenter())\n",
    "coadd_ra = coadd_cen.getRa().asDegrees()\n",
    "coadd_dec = coadd_cen.getDec().asDegrees()\n",
    "coadd_width = pixel_to_degrees(coadd.width)\n",
    "coadd_height = pixel_to_degrees(coadd.height)\n",
    "coadd_rect = patches.Rectangle(\n",
    "    (coadd_ra - coadd_width / 2, coadd_dec - coadd_height / 2),  # lower-left corner\n",
    "    coadd_width,\n",
    "    coadd_height,\n",
    "    angle=0,\n",
    "    rotation_point = 'center',\n",
    "    linewidth=2,\n",
    "    edgecolor='blue',\n",
    "    facecolor='none'\n",
    ")\n",
    "\n",
    "# Visit 1 Rectangle\n",
    "visit_cen = visit_1.wcs.pixelToSky(visit_1.getBBox().getCenter())\n",
    "visit_ra = visit_cen.getRa().asDegrees()\n",
    "visit_dec = visit_cen.getDec().asDegrees()\n",
    "visit_width = pixel_to_degrees(visit_1.width)\n",
    "visit_height = pixel_to_degrees(visit_1.height)\n",
    "visit_angle = -visit_1.visitInfo.getBoresightRotAngle().asDegrees()\n",
    "visit_rect = patches.Rectangle(\n",
    "    (visit_ra - visit_width / 2, visit_dec - visit_height / 2),  # lower-left corner\n",
    "    visit_width,\n",
    "    visit_height,\n",
    "    angle=visit_angle,\n",
    "    rotation_point = 'center',\n",
    "    linewidth=2,\n",
    "    edgecolor='red',\n",
    "    facecolor='none'\n",
    ")\n",
    "\n",
    "# Visit 2 Rectangle\n",
    "visit_2_cen = visit_2.wcs.pixelToSky(visit_2.getBBox().getCenter())\n",
    "visit_2_ra = visit_2_cen.getRa().asDegrees()\n",
    "visit_2_dec = visit_2_cen.getDec().asDegrees()\n",
    "visit_2_width = pixel_to_degrees(visit_2.width)\n",
    "visit_2_height = pixel_to_degrees(visit_2.height)\n",
    "visit_2_angle = -visit_2.visitInfo.getBoresightRotAngle().asDegrees()\n",
    "visit_2_rect = patches.Rectangle(\n",
    "    (visit_2_ra - visit_2_width / 2, visit_2_dec - visit_2_height / 2),  # lower-left corner\n",
    "    visit_2_width,\n",
    "    visit_2_height,\n",
    "    angle=visit_2_angle,\n",
    "    rotation_point = 'center',\n",
    "    linewidth=2,\n",
    "    edgecolor='red',\n",
    "    facecolor='none'\n",
    ")\n",
    "\n",
    "# Visit 3 Rectangle\n",
    "visit_3_cen = visit_3.wcs.pixelToSky(visit_3.getBBox().getCenter())\n",
    "visit_3_ra = visit_3_cen.getRa().asDegrees()\n",
    "visit_3_dec = visit_3_cen.getDec().asDegrees()\n",
    "visit_3_width = pixel_to_degrees(visit_3.width)\n",
    "visit_3_height = pixel_to_degrees(visit_3.height)\n",
    "visit_3_angle = -visit_3.visitInfo.getBoresightRotAngle().asDegrees()\n",
    "visit_3_rect = patches.Rectangle(\n",
    "    (visit_3_ra - visit_3_width / 2, visit_3_dec - visit_3_height / 2),  # lower-left corner\n",
    "    visit_3_width,\n",
    "    visit_3_height,\n",
    "    angle=visit_3_angle,\n",
    "    rotation_point = 'center',\n",
    "    linewidth=2,\n",
    "    edgecolor='red',\n",
    "    facecolor='none'\n",
    ")\n",
    "\n",
    "# Injection Region\n",
    "inj_region_rect = patches.Rectangle(\n",
    "    (37.93-0.03, 6.93-0.03),\n",
    "    0.06,\n",
    "    0.06,\n",
    "    angle=0,\n",
    "    rotation_point = 'center',\n",
    "    linewidth=2,\n",
    "    edgecolor='none',\n",
    "    facecolor='gainsboro'\n",
    ")\n",
    "\n",
    "\n",
    "# Add rectangles to plot\n",
    "ax.add_patch(coadd_rect)\n",
    "ax.add_patch(inj_region_rect)\n",
    "ax.add_patch(visit_rect)\n",
    "ax.add_patch(visit_2_rect)\n",
    "ax.add_patch(visit_3_rect)\n",
    "ax.invert_xaxis()\n",
    "\n",
    "ax.set_xlim(coadd_ra + 1.2*coadd_width, coadd_ra - coadd_width)\n",
    "ax.set_ylim(coadd_dec - 1.4*coadd_height, coadd_dec + 0.7*coadd_height)\n",
    "ax.set_aspect('equal')\n",
    "plt.legend([\"coadd\", \"visit\", \"injection region\"], loc=\"lower right\")\n",
    "plt.grid(ls=':')"
   ]
  },
  {
   "cell_type": "code",
   "execution_count": null,
   "id": "81562c07-d05a-4424-9a55-5192731401e7",
   "metadata": {},
   "outputs": [],
   "source": []
  }
 ],
 "metadata": {
  "kernelspec": {
   "display_name": "LSST",
   "language": "python",
   "name": "lsst"
  },
  "language_info": {
   "codemirror_mode": {
    "name": "ipython",
    "version": 3
   },
   "file_extension": ".py",
   "mimetype": "text/x-python",
   "name": "python",
   "nbconvert_exporter": "python",
   "pygments_lexer": "ipython3",
   "version": "3.12.11"
  }
 },
 "nbformat": 4,
 "nbformat_minor": 5
}
